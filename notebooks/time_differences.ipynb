{
 "cells": [
  {
   "cell_type": "code",
   "execution_count": 1,
   "metadata": {},
   "outputs": [],
   "source": [
    "import pandas as pd"
   ]
  },
  {
   "cell_type": "code",
   "execution_count": 2,
   "metadata": {},
   "outputs": [],
   "source": [
    "df = pd.DataFrame({'avg_time_diff': {22836: '0 days 00:02:04.810879',\n",
    "  23533: '0 days 00:03:35.242784',\n",
    "  45297: '0 days 00:04:02.764130',\n",
    "  56232: '0 days 00:02:48.427043',\n",
    "  92306: '0 days 00:00:18.396753'},\n",
    " 'count': {22836: 1671, 23533: 879, 45297: 859, 56232: 1130, 92306: 7803},\n",
    " 'ipAddress': {22836: u'178.73.210.51',\n",
    "  23533: u'185.125.168.216',\n",
    "  45297: u'45.32.241.181',\n",
    "  56232: u'77.66.48.87',\n",
    "  92306: u'90.180.104.16'}})"
   ]
  },
  {
   "cell_type": "code",
   "execution_count": 3,
   "metadata": {},
   "outputs": [],
   "source": [
    "df['avg_time_diff'] = pd.to_timedelta(df['avg_time_diff'])"
   ]
  },
  {
   "cell_type": "code",
   "execution_count": 4,
   "metadata": {},
   "outputs": [
    {
     "data": {
      "text/plain": [
       "22836    124.810879\n",
       "23533    215.242784\n",
       "45297    242.764130\n",
       "56232    168.427043\n",
       "92306     18.396753\n",
       "Name: avg_time_diff, dtype: float64"
      ]
     },
     "execution_count": 4,
     "metadata": {},
     "output_type": "execute_result"
    }
   ],
   "source": [
    "df.avg_time_diff.dt.total_seconds()"
   ]
  },
  {
   "cell_type": "code",
   "execution_count": 5,
   "metadata": {},
   "outputs": [
    {
     "data": {
      "text/html": [
       "<div>\n",
       "<style scoped>\n",
       "    .dataframe tbody tr th:only-of-type {\n",
       "        vertical-align: middle;\n",
       "    }\n",
       "\n",
       "    .dataframe tbody tr th {\n",
       "        vertical-align: top;\n",
       "    }\n",
       "\n",
       "    .dataframe thead th {\n",
       "        text-align: right;\n",
       "    }\n",
       "</style>\n",
       "<table border=\"1\" class=\"dataframe\">\n",
       "  <thead>\n",
       "    <tr style=\"text-align: right;\">\n",
       "      <th></th>\n",
       "      <th>Salary</th>\n",
       "      <th>Name</th>\n",
       "      <th>Share</th>\n",
       "      <th>Date</th>\n",
       "      <th>Date2</th>\n",
       "    </tr>\n",
       "  </thead>\n",
       "  <tbody>\n",
       "    <tr>\n",
       "      <th>0</th>\n",
       "      <td>1000</td>\n",
       "      <td>Pete</td>\n",
       "      <td>29.88</td>\n",
       "      <td>11/24/2020</td>\n",
       "      <td>20120902</td>\n",
       "    </tr>\n",
       "    <tr>\n",
       "      <th>1</th>\n",
       "      <td>2222</td>\n",
       "      <td>Steve</td>\n",
       "      <td>19.05</td>\n",
       "      <td>12/21/2019</td>\n",
       "      <td>20130413</td>\n",
       "    </tr>\n",
       "    <tr>\n",
       "      <th>2</th>\n",
       "      <td>3321</td>\n",
       "      <td>Brian</td>\n",
       "      <td>8.17</td>\n",
       "      <td>10/14/2018</td>\n",
       "      <td>20140921</td>\n",
       "    </tr>\n",
       "    <tr>\n",
       "      <th>3</th>\n",
       "      <td>4414</td>\n",
       "      <td>Ryan</td>\n",
       "      <td>7.30</td>\n",
       "      <td>12/13/2017</td>\n",
       "      <td>20140321</td>\n",
       "    </tr>\n",
       "    <tr>\n",
       "      <th>4</th>\n",
       "      <td>5151</td>\n",
       "      <td>Jim</td>\n",
       "      <td>6.15</td>\n",
       "      <td>01/08/2017</td>\n",
       "      <td>20140321</td>\n",
       "    </tr>\n",
       "  </tbody>\n",
       "</table>\n",
       "</div>"
      ],
      "text/plain": [
       "   Salary   Name  Share        Date     Date2\n",
       "0    1000   Pete  29.88  11/24/2020  20120902\n",
       "1    2222  Steve  19.05  12/21/2019  20130413\n",
       "2    3321  Brian   8.17  10/14/2018  20140921\n",
       "3    4414   Ryan   7.30  12/13/2017  20140321\n",
       "4    5151    Jim   6.15  01/08/2017  20140321"
      ]
     },
     "execution_count": 5,
     "metadata": {},
     "output_type": "execute_result"
    }
   ],
   "source": [
    "data = {'Salary':[1000, 2222, 3321, 4414, 5151],\n",
    "       'Name': ['Pete', 'Steve',\n",
    "                   'Brian',\n",
    "                   'Ryan', 'Jim'],\n",
    "       'Share':[29.88, 19.05, 8.17,\n",
    "               7.3, 6.15],\n",
    "       'Date':['11/24/2020', '12/21/2019', \n",
    "               '10/14/2018', '12/13/2017', '01/08/2017'],\n",
    "       'Date2': [20120902, 20130413, 20140921, 20140321,\n",
    "                20140321]}\n",
    "data_pd = pd.DataFrame(data)\n",
    "data_pd.head()"
   ]
  },
  {
   "cell_type": "code",
   "execution_count": 6,
   "metadata": {},
   "outputs": [
    {
     "name": "stdout",
     "output_type": "stream",
     "text": [
      "<class 'pandas.core.frame.DataFrame'>\n",
      "RangeIndex: 5 entries, 0 to 4\n",
      "Data columns (total 5 columns):\n",
      " #   Column  Non-Null Count  Dtype  \n",
      "---  ------  --------------  -----  \n",
      " 0   Salary  5 non-null      int64  \n",
      " 1   Name    5 non-null      object \n",
      " 2   Share   5 non-null      float64\n",
      " 3   Date    5 non-null      object \n",
      " 4   Date2   5 non-null      int64  \n",
      "dtypes: float64(1), int64(2), object(2)\n",
      "memory usage: 328.0+ bytes\n",
      "None\n"
     ]
    }
   ],
   "source": [
    "print(data_pd.info())"
   ]
  },
  {
   "cell_type": "code",
   "execution_count": 7,
   "metadata": {},
   "outputs": [],
   "source": [
    "data_pd['Date'] = pd.to_datetime(data_pd['Date'])"
   ]
  },
  {
   "cell_type": "code",
   "execution_count": 8,
   "metadata": {},
   "outputs": [
    {
     "name": "stdout",
     "output_type": "stream",
     "text": [
      "   Salary   Name  Share       Date     Date2\n",
      "0    1000   Pete  29.88 2020-11-24  20120902\n",
      "1    2222  Steve  19.05 2019-12-21  20130413\n",
      "2    3321  Brian   8.17 2018-10-14  20140921\n",
      "3    4414   Ryan   7.30 2017-12-13  20140321\n",
      "4    5151    Jim   6.15 2017-01-08  20140321\n"
     ]
    }
   ],
   "source": [
    "print(data_pd.head())"
   ]
  },
  {
   "cell_type": "code",
   "execution_count": 9,
   "metadata": {},
   "outputs": [
    {
     "data": {
      "text/plain": [
       "29289600.0"
      ]
     },
     "execution_count": 9,
     "metadata": {},
     "output_type": "execute_result"
    }
   ],
   "source": [
    "(data_pd.iloc[0].Date - data_pd.iloc[1].Date).total_seconds()"
   ]
  }
 ],
 "metadata": {
  "interpreter": {
   "hash": "ecbb290622efe6a108e88b8a5dccb3aa582d66a3ed03b3b3ca754b0c02090994"
  },
  "kernelspec": {
   "display_name": "Python 3",
   "language": "python",
   "name": "python3"
  },
  "language_info": {
   "codemirror_mode": {
    "name": "ipython",
    "version": 3
   },
   "file_extension": ".py",
   "mimetype": "text/x-python",
   "name": "python",
   "nbconvert_exporter": "python",
   "pygments_lexer": "ipython3",
   "version": "3.6.3"
  }
 },
 "nbformat": 4,
 "nbformat_minor": 2
}
