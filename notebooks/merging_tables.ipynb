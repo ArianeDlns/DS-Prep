{
 "cells": [
  {
   "cell_type": "markdown",
   "metadata": {},
   "source": [
    "# Join Tables using a common identifier"
   ]
  },
  {
   "cell_type": "code",
   "execution_count": 1,
   "metadata": {},
   "outputs": [],
   "source": [
    "import pandas as pd"
   ]
  },
  {
   "cell_type": "code",
   "execution_count": 2,
   "metadata": {},
   "outputs": [
    {
     "name": "stdout",
     "output_type": "stream",
     "text": [
      "    fruit  count\n",
      "0   apple      1\n",
      "1  banana      2\n",
      "2   apple      3\n"
     ]
    }
   ],
   "source": [
    "dic = {'fruit': ['apple', 'banana', 'apple'], 'count': [1, 2, 3]}\n",
    "data = pd.DataFrame(dic)\n",
    "print(data)"
   ]
  },
  {
   "cell_type": "code",
   "execution_count": 3,
   "metadata": {},
   "outputs": [],
   "source": [
    "index = data.index\n",
    "condition = data[\"fruit\"] == \"apple\"\n",
    "apples_indices = index[condition]"
   ]
  },
  {
   "cell_type": "code",
   "execution_count": 4,
   "metadata": {},
   "outputs": [
    {
     "name": "stdout",
     "output_type": "stream",
     "text": [
      "[0, 2]\n"
     ]
    }
   ],
   "source": [
    "print(apples_indices.to_list())"
   ]
  },
  {
   "cell_type": "code",
   "execution_count": 5,
   "metadata": {},
   "outputs": [
    {
     "name": "stdout",
     "output_type": "stream",
     "text": [
      "   outgoing_mins_per_month  outgoing_sms_per_month  monthly_mb  use_id\n",
      "0                    21.97                    4.82     1557.33   22787\n",
      "1                  1710.08                  136.88     7267.55   22788\n",
      "2                  1710.08                  136.88     7267.55   22789\n",
      "3                    94.46                   35.17      519.12   22790\n",
      "4                    71.59                   79.26     1557.33   22792\n",
      "Size of the table: 240\n"
     ]
    }
   ],
   "source": [
    "user_usage = pd.read_csv('data/user_usage.csv')\n",
    "print(user_usage.head())\n",
    "print(f'Size of the table: {len(user_usage)}')"
   ]
  },
  {
   "cell_type": "code",
   "execution_count": 7,
   "metadata": {},
   "outputs": [
    {
     "name": "stdout",
     "output_type": "stream",
     "text": [
      "   use_id  user_id platform  platform_version     device  use_type_id\n",
      "0   22782    26980      ios              10.2  iPhone7,2            2\n",
      "1   22783    29628  android               6.0    Nexus 5            3\n",
      "2   22784    28473  android               5.1   SM-G903F            1\n",
      "3   22785    15200      ios              10.2  iPhone7,2            3\n",
      "4   22786    28239  android               6.0  ONE E1003            1\n"
     ]
    }
   ],
   "source": [
    "user_device = pd.read_csv('data/user_device.csv')\n",
    "print(user_device.head())"
   ]
  },
  {
   "cell_type": "code",
   "execution_count": 8,
   "metadata": {},
   "outputs": [
    {
     "name": "stdout",
     "output_type": "stream",
     "text": [
      "  Retail Branding Marketing Name    Device                      Model\n",
      "0             NaN            NaN    AD681H  Smartfren Andromax AD681H\n",
      "1             NaN            NaN     FJL21                      FJL21\n",
      "2             NaN            NaN       T31              Panasonic T31\n",
      "3             NaN            NaN  hws7721g         MediaPad 7 Youth 2\n",
      "4              3Q        OC1020A   OC1020A                    OC1020A\n",
      "Size of the table: 14546\n"
     ]
    }
   ],
   "source": [
    "android_devices = pd.read_csv('data/android_devices.csv')\n",
    "print(android_devices.head())\n",
    "print(f'Size of the table: {len(android_devices)}')"
   ]
  },
  {
   "cell_type": "code",
   "execution_count": 9,
   "metadata": {},
   "outputs": [
    {
     "name": "stdout",
     "output_type": "stream",
     "text": [
      "   outgoing_mins_per_month  outgoing_sms_per_month  monthly_mb  use_id  \\\n",
      "0                    21.97                    4.82     1557.33   22787   \n",
      "1                  1710.08                  136.88     7267.55   22788   \n",
      "2                  1710.08                  136.88     7267.55   22789   \n",
      "3                    94.46                   35.17      519.12   22790   \n",
      "4                    71.59                   79.26     1557.33   22792   \n",
      "\n",
      "  platform    device  \n",
      "0  android  GT-I9505  \n",
      "1  android  SM-G930F  \n",
      "2  android  SM-G930F  \n",
      "3  android     D2303  \n",
      "4  android  SM-G361F  \n",
      "Size of the table: 159\n"
     ]
    }
   ],
   "source": [
    "user_merge = pd.merge(user_usage, user_device[['use_id', 'platform', 'device']], on='use_id')\n",
    "print(user_merge.head())\n",
    "print(f'Size of the table: {len(user_merge)}')"
   ]
  },
  {
   "cell_type": "markdown",
   "metadata": {},
   "source": [
    "# Inner, Left and Right merge types"
   ]
  },
  {
   "cell_type": "code",
   "execution_count": 10,
   "metadata": {},
   "outputs": [
    {
     "name": "stdout",
     "output_type": "stream",
     "text": [
      "user usage dimension: (240, 4)\n",
      "user device dimension: (272, 3)\n",
      "merge dimension: (159, 6)\n"
     ]
    }
   ],
   "source": [
    "# By default we get an inner merge\n",
    "print('user usage dimension: {}'.format(user_usage.shape))\n",
    "print('user device dimension: {}'.format(user_device[['use_id', 'platform', 'device']].shape))\n",
    "print('merge dimension: {}'.format(user_merge.shape))"
   ]
  },
  {
   "cell_type": "code",
   "execution_count": 11,
   "metadata": {},
   "outputs": [
    {
     "data": {
      "text/plain": [
       "True     159\n",
       "False     81\n",
       "Name: use_id, dtype: int64"
      ]
     },
     "execution_count": 11,
     "metadata": {},
     "output_type": "execute_result"
    }
   ],
   "source": [
    "user_usage['use_id'].isin(user_device['use_id']).value_counts()"
   ]
  },
  {
   "cell_type": "code",
   "execution_count": 12,
   "metadata": {},
   "outputs": [],
   "source": [
    "# Left merge: keep every row in the left dataframe, if missing info on the right dataframe --> Nan\n",
    "# Right merge: keep every row in the right dataframe, if missing values in the left dataframe --> Nan\n",
    "# Outer merge: keep every row of both dataframes with Nan everywhere else"
   ]
  },
  {
   "cell_type": "code",
   "execution_count": 13,
   "metadata": {},
   "outputs": [
    {
     "name": "stdout",
     "output_type": "stream",
     "text": [
      "201.25853503184717\n"
     ]
    }
   ],
   "source": [
    "# Get average outgoing_mins_per_month for users with android platform\n",
    "subset = user_merge[(user_merge.platform=='android')]\n",
    "print(subset.outgoing_mins_per_month.mean())"
   ]
  },
  {
   "cell_type": "code",
   "execution_count": 14,
   "metadata": {},
   "outputs": [
    {
     "name": "stdout",
     "output_type": "stream",
     "text": [
      "366.06\n"
     ]
    }
   ],
   "source": [
    "# Get average outgoing_mins_per_month for users with none android platform\n",
    "subset = user_merge[(user_merge.platform!='android')]\n",
    "print(subset.outgoing_mins_per_month.mean())"
   ]
  }
 ],
 "metadata": {
  "interpreter": {
   "hash": "ecbb290622efe6a108e88b8a5dccb3aa582d66a3ed03b3b3ca754b0c02090994"
  },
  "kernelspec": {
   "display_name": "Python 3",
   "language": "python",
   "name": "python3"
  },
  "language_info": {
   "codemirror_mode": {
    "name": "ipython",
    "version": 3
   },
   "file_extension": ".py",
   "mimetype": "text/x-python",
   "name": "python",
   "nbconvert_exporter": "python",
   "pygments_lexer": "ipython3",
   "version": "3.6.3"
  }
 },
 "nbformat": 4,
 "nbformat_minor": 2
}
