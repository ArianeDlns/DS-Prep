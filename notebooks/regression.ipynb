{
 "cells": [
  {
   "cell_type": "code",
   "execution_count": 38,
   "metadata": {},
   "outputs": [],
   "source": [
    "import pandas as pd\n",
    "import matplotlib.pyplot as plt\n",
    "import numpy as np\n",
    "from sklearn.model_selection import train_test_split\n",
    "from sklearn.model_selection import StratifiedShuffleSplit\n",
    "from sklearn.impute import SimpleImputer\n",
    "from sklearn.preprocessing import OneHotEncoder\n",
    "from sklearn.pipeline import Pipeline\n",
    "from sklearn.preprocessing import StandardScaler\n",
    "from sklearn.compose import ColumnTransformer\n",
    "import warnings\n",
    "warnings.filterwarnings(\"ignore\")"
   ]
  },
  {
   "cell_type": "markdown",
   "metadata": {},
   "source": [
    "# Main Pandas Commands"
   ]
  },
  {
   "cell_type": "markdown",
   "metadata": {},
   "source": [
    "### Overview of the data"
   ]
  },
  {
   "cell_type": "code",
   "execution_count": 39,
   "metadata": {},
   "outputs": [
    {
     "data": {
      "text/html": [
       "<div>\n",
       "<style scoped>\n",
       "    .dataframe tbody tr th:only-of-type {\n",
       "        vertical-align: middle;\n",
       "    }\n",
       "\n",
       "    .dataframe tbody tr th {\n",
       "        vertical-align: top;\n",
       "    }\n",
       "\n",
       "    .dataframe thead th {\n",
       "        text-align: right;\n",
       "    }\n",
       "</style>\n",
       "<table border=\"1\" class=\"dataframe\">\n",
       "  <thead>\n",
       "    <tr style=\"text-align: right;\">\n",
       "      <th></th>\n",
       "      <th>longitude</th>\n",
       "      <th>latitude</th>\n",
       "      <th>housing_median_age</th>\n",
       "      <th>total_rooms</th>\n",
       "      <th>total_bedrooms</th>\n",
       "      <th>population</th>\n",
       "      <th>households</th>\n",
       "      <th>median_income</th>\n",
       "      <th>median_house_value</th>\n",
       "      <th>ocean_proximity</th>\n",
       "    </tr>\n",
       "  </thead>\n",
       "  <tbody>\n",
       "    <tr>\n",
       "      <th>0</th>\n",
       "      <td>-122.23</td>\n",
       "      <td>37.88</td>\n",
       "      <td>41.0</td>\n",
       "      <td>880.0</td>\n",
       "      <td>129.0</td>\n",
       "      <td>322.0</td>\n",
       "      <td>126.0</td>\n",
       "      <td>8.3252</td>\n",
       "      <td>452600.0</td>\n",
       "      <td>NEAR BAY</td>\n",
       "    </tr>\n",
       "    <tr>\n",
       "      <th>1</th>\n",
       "      <td>-122.22</td>\n",
       "      <td>37.86</td>\n",
       "      <td>21.0</td>\n",
       "      <td>7099.0</td>\n",
       "      <td>1106.0</td>\n",
       "      <td>2401.0</td>\n",
       "      <td>1138.0</td>\n",
       "      <td>8.3014</td>\n",
       "      <td>358500.0</td>\n",
       "      <td>NEAR BAY</td>\n",
       "    </tr>\n",
       "    <tr>\n",
       "      <th>2</th>\n",
       "      <td>-122.24</td>\n",
       "      <td>37.85</td>\n",
       "      <td>52.0</td>\n",
       "      <td>1467.0</td>\n",
       "      <td>190.0</td>\n",
       "      <td>496.0</td>\n",
       "      <td>177.0</td>\n",
       "      <td>7.2574</td>\n",
       "      <td>352100.0</td>\n",
       "      <td>NEAR BAY</td>\n",
       "    </tr>\n",
       "    <tr>\n",
       "      <th>3</th>\n",
       "      <td>-122.25</td>\n",
       "      <td>37.85</td>\n",
       "      <td>52.0</td>\n",
       "      <td>1274.0</td>\n",
       "      <td>235.0</td>\n",
       "      <td>558.0</td>\n",
       "      <td>219.0</td>\n",
       "      <td>5.6431</td>\n",
       "      <td>341300.0</td>\n",
       "      <td>NEAR BAY</td>\n",
       "    </tr>\n",
       "    <tr>\n",
       "      <th>4</th>\n",
       "      <td>-122.25</td>\n",
       "      <td>37.85</td>\n",
       "      <td>52.0</td>\n",
       "      <td>1627.0</td>\n",
       "      <td>280.0</td>\n",
       "      <td>565.0</td>\n",
       "      <td>259.0</td>\n",
       "      <td>3.8462</td>\n",
       "      <td>342200.0</td>\n",
       "      <td>NEAR BAY</td>\n",
       "    </tr>\n",
       "  </tbody>\n",
       "</table>\n",
       "</div>"
      ],
      "text/plain": [
       "   longitude  latitude  housing_median_age  total_rooms  total_bedrooms  \\\n",
       "0    -122.23     37.88                41.0        880.0           129.0   \n",
       "1    -122.22     37.86                21.0       7099.0          1106.0   \n",
       "2    -122.24     37.85                52.0       1467.0           190.0   \n",
       "3    -122.25     37.85                52.0       1274.0           235.0   \n",
       "4    -122.25     37.85                52.0       1627.0           280.0   \n",
       "\n",
       "   population  households  median_income  median_house_value ocean_proximity  \n",
       "0       322.0       126.0         8.3252            452600.0        NEAR BAY  \n",
       "1      2401.0      1138.0         8.3014            358500.0        NEAR BAY  \n",
       "2       496.0       177.0         7.2574            352100.0        NEAR BAY  \n",
       "3       558.0       219.0         5.6431            341300.0        NEAR BAY  \n",
       "4       565.0       259.0         3.8462            342200.0        NEAR BAY  "
      ]
     },
     "execution_count": 39,
     "metadata": {},
     "output_type": "execute_result"
    }
   ],
   "source": [
    "housing = pd.read_csv('data/housing.csv')\n",
    "housing.head()"
   ]
  },
  {
   "cell_type": "code",
   "execution_count": 40,
   "metadata": {},
   "outputs": [
    {
     "name": "stdout",
     "output_type": "stream",
     "text": [
      "<class 'pandas.core.frame.DataFrame'>\n",
      "RangeIndex: 20640 entries, 0 to 20639\n",
      "Data columns (total 10 columns):\n",
      " #   Column              Non-Null Count  Dtype  \n",
      "---  ------              --------------  -----  \n",
      " 0   longitude           20640 non-null  float64\n",
      " 1   latitude            20640 non-null  float64\n",
      " 2   housing_median_age  20640 non-null  float64\n",
      " 3   total_rooms         20640 non-null  float64\n",
      " 4   total_bedrooms      20433 non-null  float64\n",
      " 5   population          20640 non-null  float64\n",
      " 6   households          20640 non-null  float64\n",
      " 7   median_income       20640 non-null  float64\n",
      " 8   median_house_value  20640 non-null  float64\n",
      " 9   ocean_proximity     20640 non-null  object \n",
      "dtypes: float64(9), object(1)\n",
      "memory usage: 1.6+ MB\n"
     ]
    }
   ],
   "source": [
    "housing.info()"
   ]
  },
  {
   "cell_type": "code",
   "execution_count": 41,
   "metadata": {},
   "outputs": [
    {
     "data": {
      "text/plain": [
       "<1H OCEAN     9136\n",
       "INLAND        6551\n",
       "NEAR OCEAN    2658\n",
       "NEAR BAY      2290\n",
       "ISLAND           5\n",
       "Name: ocean_proximity, dtype: int64"
      ]
     },
     "execution_count": 41,
     "metadata": {},
     "output_type": "execute_result"
    }
   ],
   "source": [
    "housing['ocean_proximity'].value_counts()"
   ]
  },
  {
   "cell_type": "code",
   "execution_count": 42,
   "metadata": {},
   "outputs": [
    {
     "data": {
      "text/html": [
       "<div>\n",
       "<style scoped>\n",
       "    .dataframe tbody tr th:only-of-type {\n",
       "        vertical-align: middle;\n",
       "    }\n",
       "\n",
       "    .dataframe tbody tr th {\n",
       "        vertical-align: top;\n",
       "    }\n",
       "\n",
       "    .dataframe thead th {\n",
       "        text-align: right;\n",
       "    }\n",
       "</style>\n",
       "<table border=\"1\" class=\"dataframe\">\n",
       "  <thead>\n",
       "    <tr style=\"text-align: right;\">\n",
       "      <th></th>\n",
       "      <th>longitude</th>\n",
       "      <th>latitude</th>\n",
       "      <th>housing_median_age</th>\n",
       "      <th>total_rooms</th>\n",
       "      <th>total_bedrooms</th>\n",
       "      <th>population</th>\n",
       "      <th>households</th>\n",
       "      <th>median_income</th>\n",
       "      <th>median_house_value</th>\n",
       "    </tr>\n",
       "  </thead>\n",
       "  <tbody>\n",
       "    <tr>\n",
       "      <th>count</th>\n",
       "      <td>20640.000000</td>\n",
       "      <td>20640.000000</td>\n",
       "      <td>20640.000000</td>\n",
       "      <td>20640.000000</td>\n",
       "      <td>20433.000000</td>\n",
       "      <td>20640.000000</td>\n",
       "      <td>20640.000000</td>\n",
       "      <td>20640.000000</td>\n",
       "      <td>20640.000000</td>\n",
       "    </tr>\n",
       "    <tr>\n",
       "      <th>mean</th>\n",
       "      <td>-119.569704</td>\n",
       "      <td>35.631861</td>\n",
       "      <td>28.639486</td>\n",
       "      <td>2635.763081</td>\n",
       "      <td>537.870553</td>\n",
       "      <td>1425.476744</td>\n",
       "      <td>499.539680</td>\n",
       "      <td>3.870671</td>\n",
       "      <td>206855.816909</td>\n",
       "    </tr>\n",
       "    <tr>\n",
       "      <th>std</th>\n",
       "      <td>2.003532</td>\n",
       "      <td>2.135952</td>\n",
       "      <td>12.585558</td>\n",
       "      <td>2181.615252</td>\n",
       "      <td>421.385070</td>\n",
       "      <td>1132.462122</td>\n",
       "      <td>382.329753</td>\n",
       "      <td>1.899822</td>\n",
       "      <td>115395.615874</td>\n",
       "    </tr>\n",
       "    <tr>\n",
       "      <th>min</th>\n",
       "      <td>-124.350000</td>\n",
       "      <td>32.540000</td>\n",
       "      <td>1.000000</td>\n",
       "      <td>2.000000</td>\n",
       "      <td>1.000000</td>\n",
       "      <td>3.000000</td>\n",
       "      <td>1.000000</td>\n",
       "      <td>0.499900</td>\n",
       "      <td>14999.000000</td>\n",
       "    </tr>\n",
       "    <tr>\n",
       "      <th>25%</th>\n",
       "      <td>-121.800000</td>\n",
       "      <td>33.930000</td>\n",
       "      <td>18.000000</td>\n",
       "      <td>1447.750000</td>\n",
       "      <td>296.000000</td>\n",
       "      <td>787.000000</td>\n",
       "      <td>280.000000</td>\n",
       "      <td>2.563400</td>\n",
       "      <td>119600.000000</td>\n",
       "    </tr>\n",
       "    <tr>\n",
       "      <th>50%</th>\n",
       "      <td>-118.490000</td>\n",
       "      <td>34.260000</td>\n",
       "      <td>29.000000</td>\n",
       "      <td>2127.000000</td>\n",
       "      <td>435.000000</td>\n",
       "      <td>1166.000000</td>\n",
       "      <td>409.000000</td>\n",
       "      <td>3.534800</td>\n",
       "      <td>179700.000000</td>\n",
       "    </tr>\n",
       "    <tr>\n",
       "      <th>75%</th>\n",
       "      <td>-118.010000</td>\n",
       "      <td>37.710000</td>\n",
       "      <td>37.000000</td>\n",
       "      <td>3148.000000</td>\n",
       "      <td>647.000000</td>\n",
       "      <td>1725.000000</td>\n",
       "      <td>605.000000</td>\n",
       "      <td>4.743250</td>\n",
       "      <td>264725.000000</td>\n",
       "    </tr>\n",
       "    <tr>\n",
       "      <th>max</th>\n",
       "      <td>-114.310000</td>\n",
       "      <td>41.950000</td>\n",
       "      <td>52.000000</td>\n",
       "      <td>39320.000000</td>\n",
       "      <td>6445.000000</td>\n",
       "      <td>35682.000000</td>\n",
       "      <td>6082.000000</td>\n",
       "      <td>15.000100</td>\n",
       "      <td>500001.000000</td>\n",
       "    </tr>\n",
       "  </tbody>\n",
       "</table>\n",
       "</div>"
      ],
      "text/plain": [
       "          longitude      latitude  housing_median_age   total_rooms  \\\n",
       "count  20640.000000  20640.000000        20640.000000  20640.000000   \n",
       "mean    -119.569704     35.631861           28.639486   2635.763081   \n",
       "std        2.003532      2.135952           12.585558   2181.615252   \n",
       "min     -124.350000     32.540000            1.000000      2.000000   \n",
       "25%     -121.800000     33.930000           18.000000   1447.750000   \n",
       "50%     -118.490000     34.260000           29.000000   2127.000000   \n",
       "75%     -118.010000     37.710000           37.000000   3148.000000   \n",
       "max     -114.310000     41.950000           52.000000  39320.000000   \n",
       "\n",
       "       total_bedrooms    population    households  median_income  \\\n",
       "count    20433.000000  20640.000000  20640.000000   20640.000000   \n",
       "mean       537.870553   1425.476744    499.539680       3.870671   \n",
       "std        421.385070   1132.462122    382.329753       1.899822   \n",
       "min          1.000000      3.000000      1.000000       0.499900   \n",
       "25%        296.000000    787.000000    280.000000       2.563400   \n",
       "50%        435.000000   1166.000000    409.000000       3.534800   \n",
       "75%        647.000000   1725.000000    605.000000       4.743250   \n",
       "max       6445.000000  35682.000000   6082.000000      15.000100   \n",
       "\n",
       "       median_house_value  \n",
       "count        20640.000000  \n",
       "mean        206855.816909  \n",
       "std         115395.615874  \n",
       "min          14999.000000  \n",
       "25%         119600.000000  \n",
       "50%         179700.000000  \n",
       "75%         264725.000000  \n",
       "max         500001.000000  "
      ]
     },
     "execution_count": 42,
     "metadata": {},
     "output_type": "execute_result"
    }
   ],
   "source": [
    "housing.describe()"
   ]
  },
  {
   "cell_type": "code",
   "execution_count": 43,
   "metadata": {},
   "outputs": [
    {
     "data": {
      "image/png": "[encoded data removed]",
      "text/plain": [
       "<Figure size 1440x1080 with 9 Axes>"
      ]
     },
     "metadata": {
      "needs_background": "light"
     },
     "output_type": "display_data"
    }
   ],
   "source": [
    "housing.hist(bins=50, figsize=(20,15))\n",
    "plt.show()"
   ]
  },
  {
   "cell_type": "markdown",
   "metadata": {},
   "source": [
    "### Create an attribute from continuous data"
   ]
  },
  {
   "cell_type": "code",
   "execution_count": 44,
   "metadata": {},
   "outputs": [
    {
     "data": {
      "image/png": "[encoded data removed]",
      "text/plain": [
       "<Figure size 432x288 with 1 Axes>"
      ]
     },
     "metadata": {
      "needs_background": "light"
     },
     "output_type": "display_data"
    }
   ],
   "source": [
    "housing[\"income_cat\"] = pd.cut(housing[\"median_income\"], bins=[0., 1.5, 3.0, 4.5, 6., np.inf], labels=[1, 2, 3, 4, 5])\n",
    "housing[\"income_cat\"].hist()\n",
    "plt.show()"
   ]
  },
  {
   "cell_type": "markdown",
   "metadata": {},
   "source": [
    "# Building the train/test datasets"
   ]
  },
  {
   "cell_type": "markdown",
   "metadata": {},
   "source": [
    "### Classic sampling"
   ]
  },
  {
   "cell_type": "code",
   "execution_count": 45,
   "metadata": {},
   "outputs": [
    {
     "name": "stdout",
     "output_type": "stream",
     "text": [
      "Number of samples in the train set: 16512\n",
      "Number of samples in the test set: 4128\n"
     ]
    }
   ],
   "source": [
    "train_set, test_set = train_test_split(housing, test_size=0.2, random_state=42)\n",
    "print(f\"Number of samples in the train set: {len(train_set)}\")\n",
    "print(f\"Number of samples in the test set: {len(test_set)}\")"
   ]
  },
  {
   "cell_type": "code",
   "execution_count": 46,
   "metadata": {},
   "outputs": [
    {
     "name": "stdout",
     "output_type": "stream",
     "text": [
      "3    0.358527\n",
      "2    0.324370\n",
      "4    0.167393\n",
      "5    0.109496\n",
      "1    0.040213\n",
      "Name: income_cat, dtype: float64\n"
     ]
    }
   ],
   "source": [
    "print(test_set[\"income_cat\"].value_counts() / len(test_set))"
   ]
  },
  {
   "cell_type": "markdown",
   "metadata": {},
   "source": [
    "### Stratified sampling (according to one feature)"
   ]
  },
  {
   "cell_type": "code",
   "execution_count": 47,
   "metadata": {},
   "outputs": [
    {
     "name": "stdout",
     "output_type": "stream",
     "text": [
      "3    0.350533\n",
      "2    0.318798\n",
      "4    0.176357\n",
      "5    0.114583\n",
      "1    0.039729\n",
      "Name: income_cat, dtype: float64\n"
     ]
    }
   ],
   "source": [
    "split = StratifiedShuffleSplit(n_splits=1, test_size=0.2, random_state=42)\n",
    "for train_index, test_index in split.split(housing, housing[\"income_cat\"]):\n",
    "    strat_train_set = housing.loc[train_index]\n",
    "    strat_test_set = housing.loc[test_index]\n",
    "print(strat_test_set[\"income_cat\"].value_counts() / len(strat_test_set))"
   ]
  },
  {
   "cell_type": "markdown",
   "metadata": {},
   "source": [
    "### Comparison with dataframe"
   ]
  },
  {
   "cell_type": "code",
   "execution_count": 48,
   "metadata": {},
   "outputs": [
    {
     "name": "stdout",
     "output_type": "stream",
     "text": [
      "3    0.350581\n",
      "2    0.318847\n",
      "4    0.176308\n",
      "5    0.114438\n",
      "1    0.039826\n",
      "Name: income_cat, dtype: float64\n"
     ]
    }
   ],
   "source": [
    "print(housing[\"income_cat\"].value_counts() / len(housing))"
   ]
  },
  {
   "cell_type": "markdown",
   "metadata": {},
   "source": [
    "### Preparing the data"
   ]
  },
  {
   "cell_type": "code",
   "execution_count": 49,
   "metadata": {},
   "outputs": [],
   "source": [
    "# Dropping the labels in the training set\n",
    "housing = strat_train_set.drop(\"median_house_value\", axis=1) # drop labels for training set\n",
    "housing_labels = strat_train_set[\"median_house_value\"].copy()"
   ]
  },
  {
   "cell_type": "code",
   "execution_count": 50,
   "metadata": {},
   "outputs": [
    {
     "name": "stdout",
     "output_type": "stream",
     "text": [
      "       longitude  latitude  housing_median_age  total_rooms  total_bedrooms  \\\n",
      "4629     -118.30     34.07                18.0       3759.0             NaN   \n",
      "6068     -117.86     34.01                16.0       4632.0             NaN   \n",
      "17923    -121.97     37.35                30.0       1955.0             NaN   \n",
      "13656    -117.30     34.05                 6.0       2155.0             NaN   \n",
      "19252    -122.79     38.48                 7.0       6837.0             NaN   \n",
      "\n",
      "       population  households  median_income ocean_proximity income_cat  \n",
      "4629       3296.0      1462.0         2.2708       <1H OCEAN          2  \n",
      "6068       3038.0       727.0         5.1762       <1H OCEAN          4  \n",
      "17923       999.0       386.0         4.6328       <1H OCEAN          4  \n",
      "13656      1039.0       391.0         1.6675          INLAND          2  \n",
      "19252      3468.0      1405.0         3.1662       <1H OCEAN          3  \n"
     ]
    }
   ],
   "source": [
    "sample_incomplete_rows = housing[housing.isnull().any(axis=1)]\n",
    "print(sample_incomplete_rows.head())"
   ]
  },
  {
   "cell_type": "code",
   "execution_count": 51,
   "metadata": {},
   "outputs": [
    {
     "name": "stdout",
     "output_type": "stream",
     "text": [
      "       longitude  latitude  housing_median_age  total_rooms  total_bedrooms  \\\n",
      "4629     -118.30     34.07                18.0       3759.0           433.0   \n",
      "6068     -117.86     34.01                16.0       4632.0           433.0   \n",
      "17923    -121.97     37.35                30.0       1955.0           433.0   \n",
      "13656    -117.30     34.05                 6.0       2155.0           433.0   \n",
      "19252    -122.79     38.48                 7.0       6837.0           433.0   \n",
      "\n",
      "       population  households  median_income ocean_proximity income_cat  \n",
      "4629       3296.0      1462.0         2.2708       <1H OCEAN          2  \n",
      "6068       3038.0       727.0         5.1762       <1H OCEAN          4  \n",
      "17923       999.0       386.0         4.6328       <1H OCEAN          4  \n",
      "13656      1039.0       391.0         1.6675          INLAND          2  \n",
      "19252      3468.0      1405.0         3.1662       <1H OCEAN          3  \n"
     ]
    }
   ],
   "source": [
    "# Option 1: Drop all lines with missing data\n",
    "# sample_incomplete_rows.dropna(subset=[\"total_bedrooms\"])\n",
    "\n",
    "# Option 2: Drop all features with missing values\n",
    "# sample_incomplete_rows.drop(\"total_bedrooms\", axis=1)\n",
    "\n",
    "# Option 3: Complete missing values with median\n",
    "median = housing[\"total_bedrooms\"].median()\n",
    "sample_incomplete_rows[\"total_bedrooms\"] = sample_incomplete_rows[\"total_bedrooms\"].fillna(median)#, inplace=True)\n",
    "print(sample_incomplete_rows.head())"
   ]
  },
  {
   "cell_type": "code",
   "execution_count": 52,
   "metadata": {},
   "outputs": [
    {
     "name": "stdout",
     "output_type": "stream",
     "text": [
      "       longitude  latitude  housing_median_age  total_rooms  total_bedrooms  \\\n",
      "4629     -118.30     34.07                18.0       3759.0           433.0   \n",
      "6068     -117.86     34.01                16.0       4632.0           433.0   \n",
      "17923    -121.97     37.35                30.0       1955.0           433.0   \n",
      "13656    -117.30     34.05                 6.0       2155.0           433.0   \n",
      "19252    -122.79     38.48                 7.0       6837.0           433.0   \n",
      "...          ...       ...                 ...          ...             ...   \n",
      "3376     -118.28     34.25                29.0       2559.0           433.0   \n",
      "4691     -118.37     34.07                50.0       2519.0           433.0   \n",
      "6052     -117.76     34.04                34.0       1914.0           433.0   \n",
      "17198    -119.75     34.45                 6.0       2864.0           433.0   \n",
      "4738     -118.38     34.05                49.0        702.0           433.0   \n",
      "\n",
      "       population  households  median_income  income_cat  \n",
      "4629       3296.0      1462.0         2.2708         2.0  \n",
      "6068       3038.0       727.0         5.1762         4.0  \n",
      "17923       999.0       386.0         4.6328         4.0  \n",
      "13656      1039.0       391.0         1.6675         2.0  \n",
      "19252      3468.0      1405.0         3.1662         3.0  \n",
      "...           ...         ...            ...         ...  \n",
      "3376       1886.0       769.0         2.6036         2.0  \n",
      "4691       1117.0       516.0         4.3667         3.0  \n",
      "6052       1564.0       328.0         2.8347         2.0  \n",
      "17198      1404.0       603.0         5.5073         4.0  \n",
      "4738        458.0       187.0         4.8958         4.0  \n",
      "\n",
      "[158 rows x 9 columns]\n"
     ]
    }
   ],
   "source": [
    "# On the numerical data\n",
    "imputer = SimpleImputer(strategy=\"median\")\n",
    "housing_num = housing.drop(\"ocean_proximity\", axis=1)\n",
    "imputer.fit(housing_num)\n",
    "X = imputer.transform(housing_num)\n",
    "housing_tr = pd.DataFrame(X, columns=housing_num.columns, index=housing.index)\n",
    "print(housing_tr.loc[sample_incomplete_rows.index.values])"
   ]
  },
  {
   "cell_type": "markdown",
   "metadata": {},
   "source": [
    "### On the categorical data"
   ]
  },
  {
   "cell_type": "code",
   "execution_count": 53,
   "metadata": {},
   "outputs": [
    {
     "data": {
      "text/plain": [
       "(16512, 5)"
      ]
     },
     "execution_count": 53,
     "metadata": {},
     "output_type": "execute_result"
    }
   ],
   "source": [
    "housing_cat = housing[[\"ocean_proximity\"]]\n",
    "cat_encoder = OneHotEncoder()\n",
    "housing_cat_1hot = cat_encoder.fit_transform(housing_cat)\n",
    "housing_cat_1hot.toarray().shape"
   ]
  },
  {
   "cell_type": "code",
   "execution_count": 54,
   "metadata": {},
   "outputs": [
    {
     "data": {
      "text/plain": [
       "[array(['<1H OCEAN', 'INLAND', 'ISLAND', 'NEAR BAY', 'NEAR OCEAN'],\n",
       "       dtype=object)]"
      ]
     },
     "execution_count": 54,
     "metadata": {},
     "output_type": "execute_result"
    }
   ],
   "source": [
    "cat_encoder.categories_"
   ]
  },
  {
   "cell_type": "markdown",
   "metadata": {},
   "source": [
    "## Overall Data preprocessing pipeline"
   ]
  },
  {
   "cell_type": "code",
   "execution_count": 55,
   "metadata": {},
   "outputs": [],
   "source": [
    "num_attributes = list(housing_num)\n",
    "cat_attributes = [\"ocean_proximity\"]"
   ]
  },
  {
   "cell_type": "code",
   "execution_count": 56,
   "metadata": {},
   "outputs": [],
   "source": [
    "# numerical pipeline\n",
    "num_pipeline = Pipeline([\n",
    "    ('imputer', SimpleImputer(strategy=\"median\")), # replace missing values\n",
    "    ('std_scaler', StandardScaler()) # normalize all features\n",
    "])\n",
    "\n",
    "# categorical pipeline\n",
    "cat_pipeline = Pipeline([\n",
    "    ('cat', OneHotEncoder()) # replace str features by usable features\n",
    "])\n",
    "\n",
    "# full pipeline\n",
    "full_pipeline = ColumnTransformer([\n",
    "    (\"num\", num_pipeline, num_attributes),\n",
    "    (\"cat\", cat_pipeline, cat_attributes)\n",
    "])"
   ]
  },
  {
   "cell_type": "code",
   "execution_count": 57,
   "metadata": {},
   "outputs": [],
   "source": [
    "housing_prepared = full_pipeline.fit_transform(housing)"
   ]
  },
  {
   "cell_type": "code",
   "execution_count": 58,
   "metadata": {},
   "outputs": [
    {
     "name": "stdout",
     "output_type": "stream",
     "text": [
      "             0         1         2         3         4         5         6   \\\n",
      "0     -1.156043  0.771950  0.743331 -0.493234 -0.445438 -0.636211 -0.420698   \n",
      "1     -1.176025  0.659695 -1.165317 -0.908967 -1.036928 -0.998331 -1.022227   \n",
      "2      1.186849 -1.342183  0.186642 -0.313660 -0.153345 -0.433639 -0.093318   \n",
      "3     -0.017068  0.313576 -0.290520 -0.362762 -0.396756  0.036041 -0.383436   \n",
      "4      0.492474 -0.659299 -0.926736  1.856193  2.412211  2.724154  2.570975   \n",
      "...         ...       ...       ...       ...       ...       ...       ...   \n",
      "16507  0.722267 -0.673331  1.379547 -0.632123 -0.725361 -0.759010 -0.764049   \n",
      "16508  1.007011 -0.823004  0.902385 -0.667196 -0.584183 -0.329664 -0.636291   \n",
      "16509  1.586489 -0.724781 -1.562952  1.043901  0.822735  0.607904  0.713156   \n",
      "16510  0.782213 -0.851068  0.186642 -0.309919 -0.374849 -0.057178 -0.375451   \n",
      "16511 -1.435791  0.996459  1.856709  0.220853  0.360253 -0.135159  0.377791   \n",
      "\n",
      "             7         8    9    10   11   12   13  \n",
      "0     -0.614937 -0.954456  1.0  0.0  0.0  0.0  0.0  \n",
      "1      1.336459  1.890305  1.0  0.0  0.0  0.0  0.0  \n",
      "2     -0.532046 -0.954456  0.0  0.0  0.0  0.0  1.0  \n",
      "3     -1.045566 -0.954456  0.0  1.0  0.0  0.0  0.0  \n",
      "4     -0.441437 -0.006202  1.0  0.0  0.0  0.0  0.0  \n",
      "...         ...       ...  ...  ...  ...  ...  ...  \n",
      "16507  0.554158  0.942051  0.0  1.0  0.0  0.0  0.0  \n",
      "16508 -0.948815 -0.954456  0.0  1.0  0.0  0.0  0.0  \n",
      "16509 -0.316705 -0.006202  0.0  1.0  0.0  0.0  0.0  \n",
      "16510  0.098121 -0.006202  1.0  0.0  0.0  0.0  0.0  \n",
      "16511 -0.157799 -0.006202  0.0  0.0  0.0  1.0  0.0  \n",
      "\n",
      "[16512 rows x 14 columns]\n"
     ]
    }
   ],
   "source": [
    "print(pd.DataFrame(housing_prepared))"
   ]
  },
  {
   "cell_type": "markdown",
   "metadata": {},
   "source": [
    "# Select and Train a model"
   ]
  },
  {
   "cell_type": "markdown",
   "metadata": {},
   "source": [
    "### Baseline"
   ]
  },
  {
   "cell_type": "code",
   "execution_count": 59,
   "metadata": {},
   "outputs": [
    {
     "data": {
      "text/plain": [
       "LinearRegression()"
      ]
     },
     "execution_count": 59,
     "metadata": {},
     "output_type": "execute_result"
    }
   ],
   "source": [
    "# Training\n",
    "from sklearn.linear_model import LinearRegression\n",
    "\n",
    "lin_reg = LinearRegression()\n",
    "lin_reg.fit(housing_prepared, housing_labels)"
   ]
  },
  {
   "cell_type": "code",
   "execution_count": 60,
   "metadata": {},
   "outputs": [
    {
     "data": {
      "text/plain": [
       "68867.01067610044"
      ]
     },
     "execution_count": 60,
     "metadata": {},
     "output_type": "execute_result"
    }
   ],
   "source": [
    "from sklearn.metrics import mean_squared_error\n",
    "\n",
    "housing_predictions = lin_reg.predict(housing_prepared)\n",
    "lin_mse = mean_squared_error(housing_labels, housing_predictions)\n",
    "lin_rmse = np.sqrt(lin_mse)\n",
    "lin_rmse"
   ]
  },
  {
   "cell_type": "code",
   "execution_count": 61,
   "metadata": {},
   "outputs": [],
   "source": [
    "# Finetuning\n",
    "from sklearn.model_selection import cross_val_score\n",
    "\n",
    "scores = cross_val_score(lin_reg, housing_prepared, housing_labels,\n",
    "                         scoring=\"neg_mean_squared_error\", cv=10)\n",
    "lin_rmse_scores = np.sqrt(-scores)"
   ]
  },
  {
   "cell_type": "code",
   "execution_count": 62,
   "metadata": {},
   "outputs": [
    {
     "name": "stdout",
     "output_type": "stream",
     "text": [
      "Scores: [67621.36459192 67050.2893707  68159.77945126 74185.17069359\n",
      " 68112.25073467 71610.00721757 65235.24278175 68160.85292722\n",
      " 72191.44396288 68163.77349381]\n",
      "Mean: 69049.01752253593\n",
      "Standard deviation: 2581.3240040191663\n",
      "None\n"
     ]
    }
   ],
   "source": [
    "def display_scores(scores):\n",
    "    print(\"Scores:\", scores)\n",
    "    print(\"Mean:\", scores.mean())\n",
    "    print(\"Standard deviation:\", scores.std())\n",
    "\n",
    "print(display_scores(lin_rmse_scores))"
   ]
  },
  {
   "cell_type": "markdown",
   "metadata": {},
   "source": [
    "### Improved Model"
   ]
  },
  {
   "cell_type": "code",
   "execution_count": 63,
   "metadata": {},
   "outputs": [
    {
     "data": {
      "text/plain": [
       "RandomForestRegressor(random_state=42)"
      ]
     },
     "execution_count": 63,
     "metadata": {},
     "output_type": "execute_result"
    }
   ],
   "source": [
    "from sklearn.ensemble import RandomForestRegressor\n",
    "\n",
    "forest_reg = RandomForestRegressor(n_estimators=100, random_state=42)\n",
    "forest_reg.fit(housing_prepared, housing_labels)"
   ]
  },
  {
   "cell_type": "code",
   "execution_count": 64,
   "metadata": {},
   "outputs": [
    {
     "data": {
      "text/plain": [
       "18371.496470539376"
      ]
     },
     "execution_count": 64,
     "metadata": {},
     "output_type": "execute_result"
    }
   ],
   "source": [
    "housing_predictions = forest_reg.predict(housing_prepared)\n",
    "forest_mse = mean_squared_error(housing_labels, housing_predictions)\n",
    "forest_rmse = np.sqrt(forest_mse)\n",
    "forest_rmse"
   ]
  },
  {
   "cell_type": "code",
   "execution_count": 65,
   "metadata": {},
   "outputs": [
    {
     "name": "stdout",
     "output_type": "stream",
     "text": [
      "Scores: [48101.68923306 46177.59029008 49214.36910121 50185.04700181\n",
      " 49423.96987359 53097.04128979 48907.51617801 50533.5477434\n",
      " 51417.93252541 49465.39134636]\n",
      "Mean: 49652.4094582698\n",
      "Standard deviation: 1770.7533658175892\n"
     ]
    }
   ],
   "source": [
    "from sklearn.model_selection import cross_val_score\n",
    "\n",
    "forest_scores = cross_val_score(forest_reg, housing_prepared, housing_labels,\n",
    "                                scoring=\"neg_mean_squared_error\", cv=10)\n",
    "forest_rmse_scores = np.sqrt(-forest_scores)\n",
    "display_scores(forest_rmse_scores)\n",
    "# The validation scores are still very high compared to the training rmse --> overfitting."
   ]
  },
  {
   "cell_type": "code",
   "execution_count": 66,
   "metadata": {},
   "outputs": [
    {
     "data": {
      "text/plain": [
       "GridSearchCV(cv=5, estimator=RandomForestRegressor(random_state=42),\n",
       "             param_grid=[{'max_features': [2, 4, 6, 8],\n",
       "                          'n_estimators': [3, 10, 30]},\n",
       "                         {'bootstrap': [False], 'max_features': [2, 3, 4],\n",
       "                          'n_estimators': [3, 10]}],\n",
       "             return_train_score=True, scoring='neg_mean_squared_error')"
      ]
     },
     "execution_count": 66,
     "metadata": {},
     "output_type": "execute_result"
    }
   ],
   "source": [
    "from sklearn.model_selection import GridSearchCV\n",
    "\n",
    "param_grid = [\n",
    "    # try 12 (3×4) combinations of hyperparameters\n",
    "    {'n_estimators': [3, 10, 30], 'max_features': [2, 4, 6, 8]},\n",
    "    # then try 6 (2×3) combinations with bootstrap set as False\n",
    "    {'bootstrap': [False], 'n_estimators': [3, 10], 'max_features': [2, 3, 4]},\n",
    "  ]\n",
    "\n",
    "forest_reg = RandomForestRegressor(random_state=42)\n",
    "# train across 5 folds, that's a total of (12+6)*5=90 rounds of training \n",
    "grid_search = GridSearchCV(forest_reg, param_grid, cv=5,\n",
    "                           scoring='neg_mean_squared_error',\n",
    "                           return_train_score=True)\n",
    "grid_search.fit(housing_prepared, housing_labels)"
   ]
  },
  {
   "cell_type": "code",
   "execution_count": 67,
   "metadata": {},
   "outputs": [
    {
     "data": {
      "text/plain": [
       "RandomForestRegressor(max_features=8, n_estimators=30, random_state=42)"
      ]
     },
     "execution_count": 67,
     "metadata": {},
     "output_type": "execute_result"
    }
   ],
   "source": [
    "grid_search.best_estimator_"
   ]
  },
  {
   "cell_type": "code",
   "execution_count": 68,
   "metadata": {},
   "outputs": [
    {
     "data": {
      "text/html": [
       "<div>\n",
       "<style scoped>\n",
       "    .dataframe tbody tr th:only-of-type {\n",
       "        vertical-align: middle;\n",
       "    }\n",
       "\n",
       "    .dataframe tbody tr th {\n",
       "        vertical-align: top;\n",
       "    }\n",
       "\n",
       "    .dataframe thead th {\n",
       "        text-align: right;\n",
       "    }\n",
       "</style>\n",
       "<table border=\"1\" class=\"dataframe\">\n",
       "  <thead>\n",
       "    <tr style=\"text-align: right;\">\n",
       "      <th></th>\n",
       "      <th>mean_fit_time</th>\n",
       "      <th>std_fit_time</th>\n",
       "      <th>mean_score_time</th>\n",
       "      <th>std_score_time</th>\n",
       "      <th>param_max_features</th>\n",
       "      <th>param_n_estimators</th>\n",
       "      <th>param_bootstrap</th>\n",
       "      <th>params</th>\n",
       "      <th>split0_test_score</th>\n",
       "      <th>split1_test_score</th>\n",
       "      <th>...</th>\n",
       "      <th>mean_test_score</th>\n",
       "      <th>std_test_score</th>\n",
       "      <th>rank_test_score</th>\n",
       "      <th>split0_train_score</th>\n",
       "      <th>split1_train_score</th>\n",
       "      <th>split2_train_score</th>\n",
       "      <th>split3_train_score</th>\n",
       "      <th>split4_train_score</th>\n",
       "      <th>mean_train_score</th>\n",
       "      <th>std_train_score</th>\n",
       "    </tr>\n",
       "  </thead>\n",
       "  <tbody>\n",
       "    <tr>\n",
       "      <th>0</th>\n",
       "      <td>0.061457</td>\n",
       "      <td>0.007605</td>\n",
       "      <td>0.004423</td>\n",
       "      <td>0.000852</td>\n",
       "      <td>2</td>\n",
       "      <td>3</td>\n",
       "      <td>NaN</td>\n",
       "      <td>{'max_features': 2, 'n_estimators': 3}</td>\n",
       "      <td>-4.088461e+09</td>\n",
       "      <td>-4.242723e+09</td>\n",
       "      <td>...</td>\n",
       "      <td>-4.272801e+09</td>\n",
       "      <td>1.330387e+08</td>\n",
       "      <td>18</td>\n",
       "      <td>-1.143941e+09</td>\n",
       "      <td>-1.124761e+09</td>\n",
       "      <td>-1.086546e+09</td>\n",
       "      <td>-1.154340e+09</td>\n",
       "      <td>-1.206089e+09</td>\n",
       "      <td>-1.143135e+09</td>\n",
       "      <td>3.906238e+07</td>\n",
       "    </tr>\n",
       "    <tr>\n",
       "      <th>1</th>\n",
       "      <td>0.178524</td>\n",
       "      <td>0.012536</td>\n",
       "      <td>0.010248</td>\n",
       "      <td>0.000930</td>\n",
       "      <td>2</td>\n",
       "      <td>10</td>\n",
       "      <td>NaN</td>\n",
       "      <td>{'max_features': 2, 'n_estimators': 10}</td>\n",
       "      <td>-2.990791e+09</td>\n",
       "      <td>-3.209748e+09</td>\n",
       "      <td>...</td>\n",
       "      <td>-3.232910e+09</td>\n",
       "      <td>1.524314e+08</td>\n",
       "      <td>11</td>\n",
       "      <td>-5.861361e+08</td>\n",
       "      <td>-5.763490e+08</td>\n",
       "      <td>-5.716955e+08</td>\n",
       "      <td>-5.999535e+08</td>\n",
       "      <td>-6.084065e+08</td>\n",
       "      <td>-5.885081e+08</td>\n",
       "      <td>1.387858e+07</td>\n",
       "    </tr>\n",
       "    <tr>\n",
       "      <th>2</th>\n",
       "      <td>0.503182</td>\n",
       "      <td>0.005864</td>\n",
       "      <td>0.028642</td>\n",
       "      <td>0.001844</td>\n",
       "      <td>2</td>\n",
       "      <td>30</td>\n",
       "      <td>NaN</td>\n",
       "      <td>{'max_features': 2, 'n_estimators': 30}</td>\n",
       "      <td>-2.652149e+09</td>\n",
       "      <td>-2.924836e+09</td>\n",
       "      <td>...</td>\n",
       "      <td>-2.886753e+09</td>\n",
       "      <td>1.506633e+08</td>\n",
       "      <td>7</td>\n",
       "      <td>-4.394226e+08</td>\n",
       "      <td>-4.426059e+08</td>\n",
       "      <td>-4.363402e+08</td>\n",
       "      <td>-4.465282e+08</td>\n",
       "      <td>-4.449632e+08</td>\n",
       "      <td>-4.419720e+08</td>\n",
       "      <td>3.696591e+06</td>\n",
       "    </tr>\n",
       "    <tr>\n",
       "      <th>3</th>\n",
       "      <td>0.078456</td>\n",
       "      <td>0.001001</td>\n",
       "      <td>0.003275</td>\n",
       "      <td>0.000200</td>\n",
       "      <td>4</td>\n",
       "      <td>3</td>\n",
       "      <td>NaN</td>\n",
       "      <td>{'max_features': 4, 'n_estimators': 3}</td>\n",
       "      <td>-3.586953e+09</td>\n",
       "      <td>-3.752945e+09</td>\n",
       "      <td>...</td>\n",
       "      <td>-3.906539e+09</td>\n",
       "      <td>2.142506e+08</td>\n",
       "      <td>16</td>\n",
       "      <td>-1.006450e+09</td>\n",
       "      <td>-9.709680e+08</td>\n",
       "      <td>-1.025778e+09</td>\n",
       "      <td>-1.081935e+09</td>\n",
       "      <td>-1.043054e+09</td>\n",
       "      <td>-1.025637e+09</td>\n",
       "      <td>3.695840e+07</td>\n",
       "    </tr>\n",
       "    <tr>\n",
       "      <th>4</th>\n",
       "      <td>0.255334</td>\n",
       "      <td>0.002144</td>\n",
       "      <td>0.010001</td>\n",
       "      <td>0.000830</td>\n",
       "      <td>4</td>\n",
       "      <td>10</td>\n",
       "      <td>NaN</td>\n",
       "      <td>{'max_features': 4, 'n_estimators': 10}</td>\n",
       "      <td>-2.685589e+09</td>\n",
       "      <td>-2.876527e+09</td>\n",
       "      <td>...</td>\n",
       "      <td>-2.944631e+09</td>\n",
       "      <td>1.783382e+08</td>\n",
       "      <td>9</td>\n",
       "      <td>-5.430727e+08</td>\n",
       "      <td>-5.411177e+08</td>\n",
       "      <td>-5.273505e+08</td>\n",
       "      <td>-5.418979e+08</td>\n",
       "      <td>-5.475733e+08</td>\n",
       "      <td>-5.402024e+08</td>\n",
       "      <td>6.803705e+06</td>\n",
       "    </tr>\n",
       "    <tr>\n",
       "      <th>5</th>\n",
       "      <td>0.774058</td>\n",
       "      <td>0.008278</td>\n",
       "      <td>0.027001</td>\n",
       "      <td>0.001052</td>\n",
       "      <td>4</td>\n",
       "      <td>30</td>\n",
       "      <td>NaN</td>\n",
       "      <td>{'max_features': 4, 'n_estimators': 30}</td>\n",
       "      <td>-2.479887e+09</td>\n",
       "      <td>-2.718644e+09</td>\n",
       "      <td>...</td>\n",
       "      <td>-2.722898e+09</td>\n",
       "      <td>1.616576e+08</td>\n",
       "      <td>3</td>\n",
       "      <td>-4.228063e+08</td>\n",
       "      <td>-4.152406e+08</td>\n",
       "      <td>-4.109926e+08</td>\n",
       "      <td>-4.119073e+08</td>\n",
       "      <td>-4.151372e+08</td>\n",
       "      <td>-4.152168e+08</td>\n",
       "      <td>4.157017e+06</td>\n",
       "    </tr>\n",
       "    <tr>\n",
       "      <th>6</th>\n",
       "      <td>0.106275</td>\n",
       "      <td>0.002314</td>\n",
       "      <td>0.003820</td>\n",
       "      <td>0.000697</td>\n",
       "      <td>6</td>\n",
       "      <td>3</td>\n",
       "      <td>NaN</td>\n",
       "      <td>{'max_features': 6, 'n_estimators': 3}</td>\n",
       "      <td>-3.362822e+09</td>\n",
       "      <td>-3.458030e+09</td>\n",
       "      <td>...</td>\n",
       "      <td>-3.583085e+09</td>\n",
       "      <td>2.189316e+08</td>\n",
       "      <td>13</td>\n",
       "      <td>-9.867921e+08</td>\n",
       "      <td>-9.099003e+08</td>\n",
       "      <td>-9.053173e+08</td>\n",
       "      <td>-9.465530e+08</td>\n",
       "      <td>-1.009448e+09</td>\n",
       "      <td>-9.516022e+08</td>\n",
       "      <td>4.120997e+07</td>\n",
       "    </tr>\n",
       "    <tr>\n",
       "      <th>7</th>\n",
       "      <td>0.348875</td>\n",
       "      <td>0.003674</td>\n",
       "      <td>0.009614</td>\n",
       "      <td>0.000944</td>\n",
       "      <td>6</td>\n",
       "      <td>10</td>\n",
       "      <td>NaN</td>\n",
       "      <td>{'max_features': 6, 'n_estimators': 10}</td>\n",
       "      <td>-2.587212e+09</td>\n",
       "      <td>-2.786395e+09</td>\n",
       "      <td>...</td>\n",
       "      <td>-2.861577e+09</td>\n",
       "      <td>2.112788e+08</td>\n",
       "      <td>5</td>\n",
       "      <td>-5.284098e+08</td>\n",
       "      <td>-5.072151e+08</td>\n",
       "      <td>-5.028982e+08</td>\n",
       "      <td>-5.103598e+08</td>\n",
       "      <td>-5.427913e+08</td>\n",
       "      <td>-5.183349e+08</td>\n",
       "      <td>1.500109e+07</td>\n",
       "    </tr>\n",
       "    <tr>\n",
       "      <th>8</th>\n",
       "      <td>1.107924</td>\n",
       "      <td>0.040633</td>\n",
       "      <td>0.029464</td>\n",
       "      <td>0.002591</td>\n",
       "      <td>6</td>\n",
       "      <td>30</td>\n",
       "      <td>NaN</td>\n",
       "      <td>{'max_features': 6, 'n_estimators': 30}</td>\n",
       "      <td>-2.430400e+09</td>\n",
       "      <td>-2.686541e+09</td>\n",
       "      <td>...</td>\n",
       "      <td>-2.669313e+09</td>\n",
       "      <td>1.663578e+08</td>\n",
       "      <td>2</td>\n",
       "      <td>-4.188347e+08</td>\n",
       "      <td>-3.997206e+08</td>\n",
       "      <td>-3.965513e+08</td>\n",
       "      <td>-3.983695e+08</td>\n",
       "      <td>-4.081733e+08</td>\n",
       "      <td>-4.043299e+08</td>\n",
       "      <td>8.275752e+06</td>\n",
       "    </tr>\n",
       "    <tr>\n",
       "      <th>9</th>\n",
       "      <td>0.133265</td>\n",
       "      <td>0.001610</td>\n",
       "      <td>0.003380</td>\n",
       "      <td>0.000268</td>\n",
       "      <td>8</td>\n",
       "      <td>3</td>\n",
       "      <td>NaN</td>\n",
       "      <td>{'max_features': 8, 'n_estimators': 3}</td>\n",
       "      <td>-3.126308e+09</td>\n",
       "      <td>-3.575070e+09</td>\n",
       "      <td>...</td>\n",
       "      <td>-3.508630e+09</td>\n",
       "      <td>2.063912e+08</td>\n",
       "      <td>12</td>\n",
       "      <td>-9.283296e+08</td>\n",
       "      <td>-9.028185e+08</td>\n",
       "      <td>-8.814014e+08</td>\n",
       "      <td>-9.247240e+08</td>\n",
       "      <td>-9.156113e+08</td>\n",
       "      <td>-9.105769e+08</td>\n",
       "      <td>1.704140e+07</td>\n",
       "    </tr>\n",
       "    <tr>\n",
       "      <th>10</th>\n",
       "      <td>0.459460</td>\n",
       "      <td>0.006325</td>\n",
       "      <td>0.010637</td>\n",
       "      <td>0.001988</td>\n",
       "      <td>8</td>\n",
       "      <td>10</td>\n",
       "      <td>NaN</td>\n",
       "      <td>{'max_features': 8, 'n_estimators': 10}</td>\n",
       "      <td>-2.557975e+09</td>\n",
       "      <td>-2.829610e+09</td>\n",
       "      <td>...</td>\n",
       "      <td>-2.808683e+09</td>\n",
       "      <td>1.493303e+08</td>\n",
       "      <td>4</td>\n",
       "      <td>-5.030726e+08</td>\n",
       "      <td>-5.094591e+08</td>\n",
       "      <td>-4.906048e+08</td>\n",
       "      <td>-5.251481e+08</td>\n",
       "      <td>-5.096423e+08</td>\n",
       "      <td>-5.075854e+08</td>\n",
       "      <td>1.117943e+07</td>\n",
       "    </tr>\n",
       "    <tr>\n",
       "      <th>11</th>\n",
       "      <td>1.374805</td>\n",
       "      <td>0.040664</td>\n",
       "      <td>0.029361</td>\n",
       "      <td>0.002913</td>\n",
       "      <td>8</td>\n",
       "      <td>30</td>\n",
       "      <td>NaN</td>\n",
       "      <td>{'max_features': 8, 'n_estimators': 30}</td>\n",
       "      <td>-2.387932e+09</td>\n",
       "      <td>-2.619187e+09</td>\n",
       "      <td>...</td>\n",
       "      <td>-2.612215e+09</td>\n",
       "      <td>1.371158e+08</td>\n",
       "      <td>1</td>\n",
       "      <td>-4.010759e+08</td>\n",
       "      <td>-3.919987e+08</td>\n",
       "      <td>-3.874601e+08</td>\n",
       "      <td>-3.993241e+08</td>\n",
       "      <td>-4.001894e+08</td>\n",
       "      <td>-3.960096e+08</td>\n",
       "      <td>5.353599e+06</td>\n",
       "    </tr>\n",
       "    <tr>\n",
       "      <th>12</th>\n",
       "      <td>0.078213</td>\n",
       "      <td>0.000732</td>\n",
       "      <td>0.003894</td>\n",
       "      <td>0.000304</td>\n",
       "      <td>2</td>\n",
       "      <td>3</td>\n",
       "      <td>False</td>\n",
       "      <td>{'bootstrap': False, 'max_features': 2, 'n_est...</td>\n",
       "      <td>-3.635808e+09</td>\n",
       "      <td>-3.831106e+09</td>\n",
       "      <td>...</td>\n",
       "      <td>-3.935662e+09</td>\n",
       "      <td>2.164534e+08</td>\n",
       "      <td>17</td>\n",
       "      <td>-0.000000e+00</td>\n",
       "      <td>-0.000000e+00</td>\n",
       "      <td>-0.000000e+00</td>\n",
       "      <td>-3.256792e+02</td>\n",
       "      <td>-0.000000e+00</td>\n",
       "      <td>-6.513584e+01</td>\n",
       "      <td>1.302717e+02</td>\n",
       "    </tr>\n",
       "    <tr>\n",
       "      <th>13</th>\n",
       "      <td>0.256599</td>\n",
       "      <td>0.011217</td>\n",
       "      <td>0.012208</td>\n",
       "      <td>0.002164</td>\n",
       "      <td>2</td>\n",
       "      <td>10</td>\n",
       "      <td>False</td>\n",
       "      <td>{'bootstrap': False, 'max_features': 2, 'n_est...</td>\n",
       "      <td>-2.797956e+09</td>\n",
       "      <td>-3.049921e+09</td>\n",
       "      <td>...</td>\n",
       "      <td>-3.051941e+09</td>\n",
       "      <td>1.937959e+08</td>\n",
       "      <td>10</td>\n",
       "      <td>-0.000000e+00</td>\n",
       "      <td>-9.463245e+02</td>\n",
       "      <td>-3.300530e+00</td>\n",
       "      <td>-2.931113e+01</td>\n",
       "      <td>-0.000000e+00</td>\n",
       "      <td>-1.957872e+02</td>\n",
       "      <td>3.754296e+02</td>\n",
       "    </tr>\n",
       "    <tr>\n",
       "      <th>14</th>\n",
       "      <td>0.098440</td>\n",
       "      <td>0.005299</td>\n",
       "      <td>0.004016</td>\n",
       "      <td>0.000511</td>\n",
       "      <td>3</td>\n",
       "      <td>3</td>\n",
       "      <td>False</td>\n",
       "      <td>{'bootstrap': False, 'max_features': 3, 'n_est...</td>\n",
       "      <td>-3.627864e+09</td>\n",
       "      <td>-3.546712e+09</td>\n",
       "      <td>...</td>\n",
       "      <td>-3.699571e+09</td>\n",
       "      <td>9.533358e+07</td>\n",
       "      <td>15</td>\n",
       "      <td>-0.000000e+00</td>\n",
       "      <td>-1.616743e+02</td>\n",
       "      <td>-0.000000e+00</td>\n",
       "      <td>-0.000000e+00</td>\n",
       "      <td>-0.000000e+00</td>\n",
       "      <td>-3.233486e+01</td>\n",
       "      <td>6.466971e+01</td>\n",
       "    </tr>\n",
       "    <tr>\n",
       "      <th>15</th>\n",
       "      <td>0.321207</td>\n",
       "      <td>0.002183</td>\n",
       "      <td>0.011006</td>\n",
       "      <td>0.000959</td>\n",
       "      <td>3</td>\n",
       "      <td>10</td>\n",
       "      <td>False</td>\n",
       "      <td>{'bootstrap': False, 'max_features': 3, 'n_est...</td>\n",
       "      <td>-2.686089e+09</td>\n",
       "      <td>-2.809548e+09</td>\n",
       "      <td>...</td>\n",
       "      <td>-2.891464e+09</td>\n",
       "      <td>1.411880e+08</td>\n",
       "      <td>8</td>\n",
       "      <td>-0.000000e+00</td>\n",
       "      <td>-4.846090e+02</td>\n",
       "      <td>-0.000000e+00</td>\n",
       "      <td>-0.000000e+00</td>\n",
       "      <td>-0.000000e+00</td>\n",
       "      <td>-9.692180e+01</td>\n",
       "      <td>1.938436e+02</td>\n",
       "    </tr>\n",
       "    <tr>\n",
       "      <th>16</th>\n",
       "      <td>0.122986</td>\n",
       "      <td>0.003310</td>\n",
       "      <td>0.004089</td>\n",
       "      <td>0.000551</td>\n",
       "      <td>4</td>\n",
       "      <td>3</td>\n",
       "      <td>False</td>\n",
       "      <td>{'bootstrap': False, 'max_features': 4, 'n_est...</td>\n",
       "      <td>-3.365928e+09</td>\n",
       "      <td>-3.804643e+09</td>\n",
       "      <td>...</td>\n",
       "      <td>-3.695490e+09</td>\n",
       "      <td>2.427376e+08</td>\n",
       "      <td>14</td>\n",
       "      <td>-0.000000e+00</td>\n",
       "      <td>-0.000000e+00</td>\n",
       "      <td>-0.000000e+00</td>\n",
       "      <td>-0.000000e+00</td>\n",
       "      <td>-0.000000e+00</td>\n",
       "      <td>0.000000e+00</td>\n",
       "      <td>0.000000e+00</td>\n",
       "    </tr>\n",
       "    <tr>\n",
       "      <th>17</th>\n",
       "      <td>0.434815</td>\n",
       "      <td>0.022528</td>\n",
       "      <td>0.011485</td>\n",
       "      <td>0.001199</td>\n",
       "      <td>4</td>\n",
       "      <td>10</td>\n",
       "      <td>False</td>\n",
       "      <td>{'bootstrap': False, 'max_features': 4, 'n_est...</td>\n",
       "      <td>-2.634880e+09</td>\n",
       "      <td>-2.789175e+09</td>\n",
       "      <td>...</td>\n",
       "      <td>-2.864281e+09</td>\n",
       "      <td>1.822304e+08</td>\n",
       "      <td>6</td>\n",
       "      <td>-0.000000e+00</td>\n",
       "      <td>-6.056477e-02</td>\n",
       "      <td>-2.365632e+02</td>\n",
       "      <td>-0.000000e+00</td>\n",
       "      <td>-0.000000e+00</td>\n",
       "      <td>-4.732475e+01</td>\n",
       "      <td>9.461923e+01</td>\n",
       "    </tr>\n",
       "  </tbody>\n",
       "</table>\n",
       "<p>18 rows × 23 columns</p>\n",
       "</div>"
      ],
      "text/plain": [
       "    mean_fit_time  std_fit_time  mean_score_time  std_score_time  \\\n",
       "0        0.061457      0.007605         0.004423        0.000852   \n",
       "1        0.178524      0.012536         0.010248        0.000930   \n",
       "2        0.503182      0.005864         0.028642        0.001844   \n",
       "3        0.078456      0.001001         0.003275        0.000200   \n",
       "4        0.255334      0.002144         0.010001        0.000830   \n",
       "5        0.774058      0.008278         0.027001        0.001052   \n",
       "6        0.106275      0.002314         0.003820        0.000697   \n",
       "7        0.348875      0.003674         0.009614        0.000944   \n",
       "8        1.107924      0.040633         0.029464        0.002591   \n",
       "9        0.133265      0.001610         0.003380        0.000268   \n",
       "10       0.459460      0.006325         0.010637        0.001988   \n",
       "11       1.374805      0.040664         0.029361        0.002913   \n",
       "12       0.078213      0.000732         0.003894        0.000304   \n",
       "13       0.256599      0.011217         0.012208        0.002164   \n",
       "14       0.098440      0.005299         0.004016        0.000511   \n",
       "15       0.321207      0.002183         0.011006        0.000959   \n",
       "16       0.122986      0.003310         0.004089        0.000551   \n",
       "17       0.434815      0.022528         0.011485        0.001199   \n",
       "\n",
       "   param_max_features param_n_estimators param_bootstrap  \\\n",
       "0                   2                  3             NaN   \n",
       "1                   2                 10             NaN   \n",
       "2                   2                 30             NaN   \n",
       "3                   4                  3             NaN   \n",
       "4                   4                 10             NaN   \n",
       "5                   4                 30             NaN   \n",
       "6                   6                  3             NaN   \n",
       "7                   6                 10             NaN   \n",
       "8                   6                 30             NaN   \n",
       "9                   8                  3             NaN   \n",
       "10                  8                 10             NaN   \n",
       "11                  8                 30             NaN   \n",
       "12                  2                  3           False   \n",
       "13                  2                 10           False   \n",
       "14                  3                  3           False   \n",
       "15                  3                 10           False   \n",
       "16                  4                  3           False   \n",
       "17                  4                 10           False   \n",
       "\n",
       "                                               params  split0_test_score  \\\n",
       "0              {'max_features': 2, 'n_estimators': 3}      -4.088461e+09   \n",
       "1             {'max_features': 2, 'n_estimators': 10}      -2.990791e+09   \n",
       "2             {'max_features': 2, 'n_estimators': 30}      -2.652149e+09   \n",
       "3              {'max_features': 4, 'n_estimators': 3}      -3.586953e+09   \n",
       "4             {'max_features': 4, 'n_estimators': 10}      -2.685589e+09   \n",
       "5             {'max_features': 4, 'n_estimators': 30}      -2.479887e+09   \n",
       "6              {'max_features': 6, 'n_estimators': 3}      -3.362822e+09   \n",
       "7             {'max_features': 6, 'n_estimators': 10}      -2.587212e+09   \n",
       "8             {'max_features': 6, 'n_estimators': 30}      -2.430400e+09   \n",
       "9              {'max_features': 8, 'n_estimators': 3}      -3.126308e+09   \n",
       "10            {'max_features': 8, 'n_estimators': 10}      -2.557975e+09   \n",
       "11            {'max_features': 8, 'n_estimators': 30}      -2.387932e+09   \n",
       "12  {'bootstrap': False, 'max_features': 2, 'n_est...      -3.635808e+09   \n",
       "13  {'bootstrap': False, 'max_features': 2, 'n_est...      -2.797956e+09   \n",
       "14  {'bootstrap': False, 'max_features': 3, 'n_est...      -3.627864e+09   \n",
       "15  {'bootstrap': False, 'max_features': 3, 'n_est...      -2.686089e+09   \n",
       "16  {'bootstrap': False, 'max_features': 4, 'n_est...      -3.365928e+09   \n",
       "17  {'bootstrap': False, 'max_features': 4, 'n_est...      -2.634880e+09   \n",
       "\n",
       "    split1_test_score  ...  mean_test_score  std_test_score  rank_test_score  \\\n",
       "0       -4.242723e+09  ...    -4.272801e+09    1.330387e+08               18   \n",
       "1       -3.209748e+09  ...    -3.232910e+09    1.524314e+08               11   \n",
       "2       -2.924836e+09  ...    -2.886753e+09    1.506633e+08                7   \n",
       "3       -3.752945e+09  ...    -3.906539e+09    2.142506e+08               16   \n",
       "4       -2.876527e+09  ...    -2.944631e+09    1.783382e+08                9   \n",
       "5       -2.718644e+09  ...    -2.722898e+09    1.616576e+08                3   \n",
       "6       -3.458030e+09  ...    -3.583085e+09    2.189316e+08               13   \n",
       "7       -2.786395e+09  ...    -2.861577e+09    2.112788e+08                5   \n",
       "8       -2.686541e+09  ...    -2.669313e+09    1.663578e+08                2   \n",
       "9       -3.575070e+09  ...    -3.508630e+09    2.063912e+08               12   \n",
       "10      -2.829610e+09  ...    -2.808683e+09    1.493303e+08                4   \n",
       "11      -2.619187e+09  ...    -2.612215e+09    1.371158e+08                1   \n",
       "12      -3.831106e+09  ...    -3.935662e+09    2.164534e+08               17   \n",
       "13      -3.049921e+09  ...    -3.051941e+09    1.937959e+08               10   \n",
       "14      -3.546712e+09  ...    -3.699571e+09    9.533358e+07               15   \n",
       "15      -2.809548e+09  ...    -2.891464e+09    1.411880e+08                8   \n",
       "16      -3.804643e+09  ...    -3.695490e+09    2.427376e+08               14   \n",
       "17      -2.789175e+09  ...    -2.864281e+09    1.822304e+08                6   \n",
       "\n",
       "    split0_train_score  split1_train_score  split2_train_score  \\\n",
       "0        -1.143941e+09       -1.124761e+09       -1.086546e+09   \n",
       "1        -5.861361e+08       -5.763490e+08       -5.716955e+08   \n",
       "2        -4.394226e+08       -4.426059e+08       -4.363402e+08   \n",
       "3        -1.006450e+09       -9.709680e+08       -1.025778e+09   \n",
       "4        -5.430727e+08       -5.411177e+08       -5.273505e+08   \n",
       "5        -4.228063e+08       -4.152406e+08       -4.109926e+08   \n",
       "6        -9.867921e+08       -9.099003e+08       -9.053173e+08   \n",
       "7        -5.284098e+08       -5.072151e+08       -5.028982e+08   \n",
       "8        -4.188347e+08       -3.997206e+08       -3.965513e+08   \n",
       "9        -9.283296e+08       -9.028185e+08       -8.814014e+08   \n",
       "10       -5.030726e+08       -5.094591e+08       -4.906048e+08   \n",
       "11       -4.010759e+08       -3.919987e+08       -3.874601e+08   \n",
       "12       -0.000000e+00       -0.000000e+00       -0.000000e+00   \n",
       "13       -0.000000e+00       -9.463245e+02       -3.300530e+00   \n",
       "14       -0.000000e+00       -1.616743e+02       -0.000000e+00   \n",
       "15       -0.000000e+00       -4.846090e+02       -0.000000e+00   \n",
       "16       -0.000000e+00       -0.000000e+00       -0.000000e+00   \n",
       "17       -0.000000e+00       -6.056477e-02       -2.365632e+02   \n",
       "\n",
       "    split3_train_score  split4_train_score  mean_train_score  std_train_score  \n",
       "0        -1.154340e+09       -1.206089e+09     -1.143135e+09     3.906238e+07  \n",
       "1        -5.999535e+08       -6.084065e+08     -5.885081e+08     1.387858e+07  \n",
       "2        -4.465282e+08       -4.449632e+08     -4.419720e+08     3.696591e+06  \n",
       "3        -1.081935e+09       -1.043054e+09     -1.025637e+09     3.695840e+07  \n",
       "4        -5.418979e+08       -5.475733e+08     -5.402024e+08     6.803705e+06  \n",
       "5        -4.119073e+08       -4.151372e+08     -4.152168e+08     4.157017e+06  \n",
       "6        -9.465530e+08       -1.009448e+09     -9.516022e+08     4.120997e+07  \n",
       "7        -5.103598e+08       -5.427913e+08     -5.183349e+08     1.500109e+07  \n",
       "8        -3.983695e+08       -4.081733e+08     -4.043299e+08     8.275752e+06  \n",
       "9        -9.247240e+08       -9.156113e+08     -9.105769e+08     1.704140e+07  \n",
       "10       -5.251481e+08       -5.096423e+08     -5.075854e+08     1.117943e+07  \n",
       "11       -3.993241e+08       -4.001894e+08     -3.960096e+08     5.353599e+06  \n",
       "12       -3.256792e+02       -0.000000e+00     -6.513584e+01     1.302717e+02  \n",
       "13       -2.931113e+01       -0.000000e+00     -1.957872e+02     3.754296e+02  \n",
       "14       -0.000000e+00       -0.000000e+00     -3.233486e+01     6.466971e+01  \n",
       "15       -0.000000e+00       -0.000000e+00     -9.692180e+01     1.938436e+02  \n",
       "16       -0.000000e+00       -0.000000e+00      0.000000e+00     0.000000e+00  \n",
       "17       -0.000000e+00       -0.000000e+00     -4.732475e+01     9.461923e+01  \n",
       "\n",
       "[18 rows x 23 columns]"
      ]
     },
     "execution_count": 68,
     "metadata": {},
     "output_type": "execute_result"
    }
   ],
   "source": [
    "pd.DataFrame(grid_search.cv_results_)"
   ]
  },
  {
   "cell_type": "code",
   "execution_count": 69,
   "metadata": {},
   "outputs": [
    {
     "name": "stdout",
     "output_type": "stream",
     "text": [
      "65366.66703580078 {'max_features': 2, 'n_estimators': 3}\n",
      "56858.68648818557 {'max_features': 2, 'n_estimators': 10}\n",
      "53728.51250871097 {'max_features': 2, 'n_estimators': 30}\n",
      "62502.3123324232 {'max_features': 4, 'n_estimators': 3}\n",
      "54264.450707578435 {'max_features': 4, 'n_estimators': 10}\n",
      "52181.399883553015 {'max_features': 4, 'n_estimators': 30}\n",
      "59858.8772743321 {'max_features': 6, 'n_estimators': 3}\n",
      "53493.70578220264 {'max_features': 6, 'n_estimators': 10}\n",
      "51665.391094883606 {'max_features': 6, 'n_estimators': 30}\n",
      "59233.69330573073 {'max_features': 8, 'n_estimators': 3}\n",
      "52997.00491751953 {'max_features': 8, 'n_estimators': 10}\n",
      "51109.833236342696 {'max_features': 8, 'n_estimators': 30}\n",
      "62734.8537194592 {'bootstrap': False, 'max_features': 2, 'n_estimators': 3}\n",
      "55244.37690148358 {'bootstrap': False, 'max_features': 2, 'n_estimators': 10}\n",
      "60824.09594667789 {'bootstrap': False, 'max_features': 3, 'n_estimators': 3}\n",
      "53772.33825766095 {'bootstrap': False, 'max_features': 3, 'n_estimators': 10}\n",
      "60790.54191504923 {'bootstrap': False, 'max_features': 4, 'n_estimators': 3}\n",
      "53518.97656658825 {'bootstrap': False, 'max_features': 4, 'n_estimators': 10}\n"
     ]
    }
   ],
   "source": [
    "cvres = grid_search.cv_results_\n",
    "for mean_score, params in zip(cvres[\"mean_test_score\"], cvres[\"params\"]):\n",
    "    print(np.sqrt(-mean_score), params)"
   ]
  },
  {
   "cell_type": "code",
   "execution_count": 70,
   "metadata": {},
   "outputs": [
    {
     "data": {
      "text/plain": [
       "RandomizedSearchCV(cv=5, estimator=RandomForestRegressor(random_state=42),\n",
       "                   param_distributions={'max_features': <scipy.stats._distn_infrastructure.rv_frozen object at 0x7fc23e65a8d0>,\n",
       "                                        'n_estimators': <scipy.stats._distn_infrastructure.rv_frozen object at 0x7fc23e667e48>},\n",
       "                   random_state=42, scoring='neg_mean_squared_error')"
      ]
     },
     "execution_count": 70,
     "metadata": {},
     "output_type": "execute_result"
    }
   ],
   "source": [
    "from sklearn.model_selection import RandomizedSearchCV\n",
    "from scipy.stats import randint\n",
    "\n",
    "param_distribs = {\n",
    "        'n_estimators': randint(low=1, high=200),\n",
    "        'max_features': randint(low=1, high=8),\n",
    "    }\n",
    "\n",
    "forest_reg = RandomForestRegressor(random_state=42)\n",
    "rnd_search = RandomizedSearchCV(forest_reg, param_distributions=param_distribs,\n",
    "                                n_iter=10, cv=5, scoring='neg_mean_squared_error', random_state=42)\n",
    "rnd_search.fit(housing_prepared, housing_labels)"
   ]
  },
  {
   "cell_type": "code",
   "execution_count": 71,
   "metadata": {},
   "outputs": [
    {
     "data": {
      "text/plain": [
       "RandomForestRegressor(max_features=7, n_estimators=180, random_state=42)"
      ]
     },
     "execution_count": 71,
     "metadata": {},
     "output_type": "execute_result"
    }
   ],
   "source": [
    "rnd_search.best_estimator_"
   ]
  },
  {
   "cell_type": "markdown",
   "metadata": {},
   "source": [
    "# Evaluating on the test set"
   ]
  },
  {
   "cell_type": "code",
   "execution_count": 72,
   "metadata": {},
   "outputs": [],
   "source": [
    "final_model = grid_search.best_estimator_\n",
    "\n",
    "X_test = strat_test_set.drop(\"median_house_value\", axis=1)\n",
    "y_test = strat_test_set[\"median_house_value\"].copy()\n",
    "\n",
    "X_test_prepared = full_pipeline.transform(X_test)\n",
    "final_predictions = final_model.predict(X_test_prepared)\n",
    "\n",
    "final_mse = mean_squared_error(y_test, final_predictions)\n",
    "final_rmse = np.sqrt(final_mse)"
   ]
  },
  {
   "cell_type": "code",
   "execution_count": 73,
   "metadata": {},
   "outputs": [
    {
     "name": "stdout",
     "output_type": "stream",
     "text": [
      "48474.605007937585\n"
     ]
    }
   ],
   "source": [
    "print(final_rmse)"
   ]
  },
  {
   "cell_type": "code",
   "execution_count": 74,
   "metadata": {},
   "outputs": [
    {
     "name": "stdout",
     "output_type": "stream",
     "text": [
      "[488640.8        260443.36666667 204186.66666667 ... 294186.66666667\n",
      " 151273.33333333 108336.66666667]\n"
     ]
    }
   ],
   "source": [
    "print(final_predictions)"
   ]
  }
 ],
 "metadata": {
  "interpreter": {
   "hash": "ecbb290622efe6a108e88b8a5dccb3aa582d66a3ed03b3b3ca754b0c02090994"
  },
  "kernelspec": {
   "display_name": "Python 3",
   "language": "python",
   "name": "python3"
  },
  "language_info": {
   "codemirror_mode": {
    "name": "ipython",
    "version": 3
   },
   "file_extension": ".py",
   "mimetype": "text/x-python",
   "name": "python",
   "nbconvert_exporter": "python",
   "pygments_lexer": "ipython3",
   "version": "3.6.3"
  }
 },
 "nbformat": 4,
 "nbformat_minor": 2
}
