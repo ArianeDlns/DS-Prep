{
 "cells": [
  {
   "cell_type": "markdown",
   "metadata": {
    "colab_type": "text",
    "id": "Cv8pFv4FbE5T",
    "toc": true
   },
   "source": [
    "<h1>Sommaire du notebook<span class=\"tocSkip\"></span></h1>\n",
    "<div class=\"toc\"><ul class=\"toc-item\"><li><span><a href=\"#Question-1:-Le-client-annonce-avoir-entendu-que-80%-des-bateaux-impliqués-étaient-des-plaisanciers--et-5%-concernent-les-loisirs-nautiques.-Pouvez-vous-vérifier-cette-hypothèse-?\" data-toc-modified-id=\"Question-1:-Le-client-annonce-avoir-entendu-que-80%-des-bateaux-impliqués-étaient-des-plaisanciers--et-5%-concernent-les-loisirs-nautiques.-Pouvez-vous-vérifier-cette-hypothèse-?-1\"><span class=\"toc-item-num\">1&nbsp;&nbsp;</span>Question 1: Le client annonce avoir entendu que 80% des bateaux impliqués étaient des plaisanciers  et 5% concernent les loisirs nautiques. Pouvez-vous vérifier cette hypothèse ?</a></span></li><li><span><a href=\"#Question-2:-Quels-sont-les-départements-qui-ont-vu-se-dérouler-le-plus-d’interventions-SAR-?-(Faire-un-graphique)\" data-toc-modified-id=\"Question-2:-Quels-sont-les-départements-qui-ont-vu-se-dérouler-le-plus-d’interventions-SAR-?-(Faire-un-graphique)-2\"><span class=\"toc-item-num\">2&nbsp;&nbsp;</span>Question 2: Quels sont les départements qui ont vu se dérouler le plus d’interventions SAR ? (Faire un graphique)</a></span></li><li><span><a href=\"#Question-3:-Tracer-la-répartition-des-interventions-en-fonction-de-la-force-du-vent-?\" data-toc-modified-id=\"Question-3:-Tracer-la-répartition-des-interventions-en-fonction-de-la-force-du-vent-?-3\"><span class=\"toc-item-num\">3&nbsp;&nbsp;</span>Question 3: Tracer la répartition des interventions en fonction de la force du vent ?</a></span></li><li><span><a href=\"#Question-4:-Quel-est-le-nombre-de-personnes-impliquées-dans-une-fausse-alerte-?-(en-pourcentage-du-nombre-de-personnes-total)\" data-toc-modified-id=\"Question-4:-Quel-est-le-nombre-de-personnes-impliquées-dans-une-fausse-alerte-?-(en-pourcentage-du-nombre-de-personnes-total)-4\"><span class=\"toc-item-num\">4&nbsp;&nbsp;</span>Question 4: Quel est le nombre de personnes impliquées dans une fausse alerte ? (en pourcentage du nombre de personnes total)</a></span></li><li><span><a href=\"#Question-5:-Réaliser-un-tableau-croisé-dynamique-entre-le-type-d’opération-et-la-zone-de-responsabilité-?--Quel-est-le-pourcentage-d’opérations-situés-en-plage-de-300m-sont-des-opérations-MAS\" data-toc-modified-id=\"Question-5:-Réaliser-un-tableau-croisé-dynamique-entre-le-type-d’opération-et-la-zone-de-responsabilité-?--Quel-est-le-pourcentage-d’opérations-situés-en-plage-de-300m-sont-des-opérations-MAS-5\"><span class=\"toc-item-num\">5&nbsp;&nbsp;</span>Question 5: Réaliser un tableau croisé dynamique entre le type d’opération et la zone de responsabilité ?  Quel est le pourcentage d’opérations situés en plage de 300m sont des opérations MAS</a></span></li><li><span><a href=\"#Question-6-:-Quel-est-le-nombre-total-d’opérations-depuis-2010-?\" data-toc-modified-id=\"Question-6-:-Quel-est-le-nombre-total-d’opérations-depuis-2010-?-6\"><span class=\"toc-item-num\">6&nbsp;&nbsp;</span>Question 6 : Quel est le nombre total d’opérations depuis 2010 ?</a></span></li><li><span><a href=\"#Question-7-:-Observez-vous-une-augmentation-du-nombre-d’opérations-ces-dernières-années-?-SI-oui,-donnez-un-chiffre-?\" data-toc-modified-id=\"Question-7-:-Observez-vous-une-augmentation-du-nombre-d’opérations-ces-dernières-années-?-SI-oui,-donnez-un-chiffre-?-7\"><span class=\"toc-item-num\">7&nbsp;&nbsp;</span>Question 7 : Observez-vous une augmentation du nombre d’opérations ces dernières années ? SI oui, donnez un chiffre ?</a></span></li><li><span><a href=\"#Question-8-:-Y-a-t’il-une-augmentation-du-nombre-d’opérations-impliquant-un-kitesurf-en-jour-et-en-année?\" data-toc-modified-id=\"Question-8-:-Y-a-t’il-une-augmentation-du-nombre-d’opérations-impliquant-un-kitesurf-en-jour-et-en-année?-8\"><span class=\"toc-item-num\">8&nbsp;&nbsp;</span>Question 8 : Y-a-t’il une augmentation du nombre d’opérations impliquant un kitesurf en jour et en année?</a></span></li><li><span><a href=\"#Question-9-:-Sur-les-années-2017-2018,-tracer-l’évolution-du-nombre-d’opérations.-Observez-vous-une-saisonnalité-?-La-saisonnalité-est-elle-différente-pour-les-DOMTOM-et-France-Métropolitaine?\" data-toc-modified-id=\"Question-9-:-Sur-les-années-2017-2018,-tracer-l’évolution-du-nombre-d’opérations.-Observez-vous-une-saisonnalité-?-La-saisonnalité-est-elle-différente-pour-les-DOMTOM-et-France-Métropolitaine?-9\"><span class=\"toc-item-num\">9&nbsp;&nbsp;</span>Question 9 : Sur les années 2017-2018, tracer l’évolution du nombre d’opérations. Observez-vous une saisonnalité ? La saisonnalité est-elle différente pour les DOMTOM et France Métropolitaine?</a></span></li><li><span><a href=\"#Question-10-:-Mettre-à-jour-l’infographie-du-ministère-pour-2019\" data-toc-modified-id=\"Question-10-:-Mettre-à-jour-l’infographie-du-ministère-pour-2019-10\"><span class=\"toc-item-num\">10&nbsp;&nbsp;</span>Question 10 : Mettre à jour l’infographie du ministère pour 2019</a></span></li><li><span><a href=\"#Question-Bonus\" data-toc-modified-id=\"Question-Bonus-11\"><span class=\"toc-item-num\">11&nbsp;&nbsp;</span>Question Bonus</a></span><ul class=\"toc-item\"><li><span><a href=\"#Contexte\" data-toc-modified-id=\"Contexte-11.1\"><span class=\"toc-item-num\">11.1&nbsp;&nbsp;</span>Contexte</a></span></li><li><span><a href=\"#Métrique-d'évaluation\" data-toc-modified-id=\"Métrique-d'évaluation-11.2\"><span class=\"toc-item-num\">11.2&nbsp;&nbsp;</span>Métrique d'évaluation</a></span></li><li><span><a href=\"#Train-et-Test-set\" data-toc-modified-id=\"Train-et-Test-set-11.3\"><span class=\"toc-item-num\">11.3&nbsp;&nbsp;</span>Train et Test set</a></span></li></ul></li></ul></div>"
   ]
  },
  {
   "cell_type": "markdown",
   "metadata": {
    "colab_type": "text",
    "id": "5fbIk2C3bE5U"
   },
   "source": [
    "# Etude des données CROSS de sauvetage en mer"
   ]
  },
  {
   "cell_type": "markdown",
   "metadata": {
    "colab_type": "text",
    "id": "iDaTyRnwbE5V"
   },
   "source": [
    "Quelques références:"
   ]
  },
  {
   "cell_type": "markdown",
   "metadata": {
    "colab_type": "text",
    "id": "owyYVJrlbE5V"
   },
   "source": [
    "<a href=\"http://www.leparisien.fr/societe/les-heros-du-service-public/surveillance-et-sauvetage-en-mer-le-quotidien-des-cross-02-07-2019-8107890.php\">Article du Parisien</a>\n",
    "\n",
    "<a href=\"https://www.ecologique-solidaire.gouv.fr/surveillance-et-sauvetage-en-mer\">Infographie sur le sauvetage en mer</a>\n",
    "\n",
    "<a href=\"https://mtes-mct.github.io/secmar-documentation/schema.html#operations\">Documentation de la base de données</a>\n",
    "\n",
    "<a href=\"https://carte.snosan.fr\"> Carte</a>"
   ]
  },
  {
   "cell_type": "markdown",
   "metadata": {
    "colab_type": "text",
    "id": "vA3eXxZPbE5c"
   },
   "source": [
    "# Importer les librairies \n",
    "Avec  **Numpy**  et  **Matplotlib**  , la librairie  **Pandas**  fait partie des librairies open source de base pour la data science en Python. Pandas fournit des structures de données puissantes et simples à utiliser.\n",
    "L'objectif est de permettre la manipulation de grands volumes de données structurées (tabulées, multi-dimensionnelles, voire hétérogènes) et de données temporelles de façon simple, efficace et rapide. La bibliothèque contient donc un grand nombre d'outils pour récupérer, agréger, combiner, transformer, trier, découper, déplacer et exporter les données, ainsi que gérer les valeurs manquantes, calculer des statistiques et produire des graphiques."
   ]
  },
  {
   "cell_type": "code",
   "execution_count": 1,
   "metadata": {
    "ExecuteTime": {
     "end_time": "2019-11-04T10:37:18.734904Z",
     "start_time": "2019-11-04T10:37:18.718078Z"
    },
    "colab": {},
    "colab_type": "code",
    "id": "MF41NGVBbE5W"
   },
   "outputs": [],
   "source": [
    "import pandas as pd\n",
    "import matplotlib.pyplot as plt\n",
    "from matplotlib.pyplot import figure\n",
    "import seaborn as sns\n",
    "from sklearn.linear_model import LinearRegression\n",
    "import numpy as np\n",
    "sns.set_style('ticks')\n",
    "pd.set_option('display.max_columns', 500) #display all the columns of a dataframe when doing df.head()"
   ]
  },
  {
   "cell_type": "markdown",
   "metadata": {
    "colab_type": "text",
    "id": "QhdsXduCbE5W"
   },
   "source": [
    "# Import des données"
   ]
  },
  {
   "cell_type": "markdown",
   "metadata": {},
   "source": [
    "La documentation des données se trouve sur ce lien https://mtes-mct.github.io/secmar-documentation/. Le schema des données est le suivant.\n",
    "![Schema des données](https://raw.githubusercontent.com/entrepreneur-interet-general/predisauvetage/master/opendata/uml/uml.png)"
   ]
  },
  {
   "cell_type": "code",
   "execution_count": 2,
   "metadata": {
    "ExecuteTime": {
     "end_time": "2019-11-04T10:37:23.096448Z",
     "start_time": "2019-11-04T10:37:18.742828Z"
    },
    "colab": {},
    "colab_type": "code",
    "id": "yPiWnJk8bE5Z",
    "outputId": "7f15ebb4-b498-4e51-d846-01827d1d8676",
    "scrolled": true
   },
   "outputs": [
    {
     "name": "stderr",
     "output_type": "stream",
     "text": [
      "/Users/ariane/anaconda3/lib/python3.6/site-packages/IPython/core/interactiveshell.py:2698: DtypeWarning: Columns (1,2,12) have mixed types.Specify dtype option on import or set low_memory=False.\n",
      "  interactivity=interactivity, compiler=compiler, result=result)\n",
      "/Users/ariane/anaconda3/lib/python3.6/site-packages/IPython/core/interactiveshell.py:2698: DtypeWarning: Columns (11,17,19,20,22) have mixed types.Specify dtype option on import or set low_memory=False.\n",
      "  interactivity=interactivity, compiler=compiler, result=result)\n"
     ]
    }
   ],
   "source": [
    "df_operations = pd.read_csv(\"data/operations.csv\", index_col=\"operation_id\")\n",
    "df_operations_stats = pd.read_csv(\"data/operations_stats.csv\", index_col=\"operation_id\")\n",
    "df_resultats = pd.read_csv(\"data/resultats_humain.csv\", index_col=\"operation_id\")\n",
    "df_flotteurs = pd.read_csv(\"data/flotteurs.csv\", index_col=\"operation_id\")"
   ]
  },
  {
   "cell_type": "markdown",
   "metadata": {
    "colab_type": "text",
    "id": "vA3eXxZPbE5c"
   },
   "source": [
    "# Aperçus des données"
   ]
  },
  {
   "cell_type": "code",
   "execution_count": 3,
   "metadata": {
    "ExecuteTime": {
     "end_time": "2019-11-04T10:37:23.168452Z",
     "start_time": "2019-11-04T10:37:23.099964Z"
    },
    "colab": {},
    "colab_type": "code",
    "id": "6_wvl6TQbE5c",
    "outputId": "7f9ec471-5ece-4703-9896-53a5f61c612d"
   },
   "outputs": [
    {
     "data": {
      "text/html": [
       "<div>\n",
       "<style scoped>\n",
       "    .dataframe tbody tr th:only-of-type {\n",
       "        vertical-align: middle;\n",
       "    }\n",
       "\n",
       "    .dataframe tbody tr th {\n",
       "        vertical-align: top;\n",
       "    }\n",
       "\n",
       "    .dataframe thead th {\n",
       "        text-align: right;\n",
       "    }\n",
       "</style>\n",
       "<table border=\"1\" class=\"dataframe\">\n",
       "  <thead>\n",
       "    <tr style=\"text-align: right;\">\n",
       "      <th></th>\n",
       "      <th>numero_ordre</th>\n",
       "      <th>pavillon</th>\n",
       "      <th>resultat_flotteur</th>\n",
       "      <th>type_flotteur</th>\n",
       "      <th>categorie_flotteur</th>\n",
       "      <th>numero_immatriculation</th>\n",
       "    </tr>\n",
       "    <tr>\n",
       "      <th>operation_id</th>\n",
       "      <th></th>\n",
       "      <th></th>\n",
       "      <th></th>\n",
       "      <th></th>\n",
       "      <th></th>\n",
       "      <th></th>\n",
       "    </tr>\n",
       "  </thead>\n",
       "  <tbody>\n",
       "    <tr>\n",
       "      <th>-114851</th>\n",
       "      <td>1</td>\n",
       "      <td>Français</td>\n",
       "      <td>Remorqué</td>\n",
       "      <td>Plaisance à voile</td>\n",
       "      <td>Plaisance</td>\n",
       "      <td>848c6fd7499e4148cbcf59404bea1a291a4ab011</td>\n",
       "    </tr>\n",
       "    <tr>\n",
       "      <th>-114847</th>\n",
       "      <td>1</td>\n",
       "      <td>Étranger</td>\n",
       "      <td>Difficulté surmontée, reprise de route</td>\n",
       "      <td>Navire de charge ou de servitude</td>\n",
       "      <td>Commerce</td>\n",
       "      <td>NaN</td>\n",
       "    </tr>\n",
       "    <tr>\n",
       "      <th>-114846</th>\n",
       "      <td>1</td>\n",
       "      <td>Français</td>\n",
       "      <td>Remorqué</td>\n",
       "      <td>Plaisance à voile</td>\n",
       "      <td>Plaisance</td>\n",
       "      <td>8a750cca6de840bb8b9e2f79b76cd62dbd3fefcd</td>\n",
       "    </tr>\n",
       "    <tr>\n",
       "      <th>-114844</th>\n",
       "      <td>1</td>\n",
       "      <td>Français</td>\n",
       "      <td>Remorqué</td>\n",
       "      <td>Plaisance à voile</td>\n",
       "      <td>Plaisance</td>\n",
       "      <td>7f5e95deca37a63a8a5be596bab4ff8bbd81e0ae</td>\n",
       "    </tr>\n",
       "    <tr>\n",
       "      <th>-114843</th>\n",
       "      <td>1</td>\n",
       "      <td>Français</td>\n",
       "      <td>Assisté</td>\n",
       "      <td>Administration / Armée</td>\n",
       "      <td>Autre</td>\n",
       "      <td>NaN</td>\n",
       "    </tr>\n",
       "  </tbody>\n",
       "</table>\n",
       "</div>"
      ],
      "text/plain": [
       "              numero_ordre  pavillon                       resultat_flotteur  \\\n",
       "operation_id                                                                   \n",
       "-114851                  1  Français                                Remorqué   \n",
       "-114847                  1  Étranger  Difficulté surmontée, reprise de route   \n",
       "-114846                  1  Français                                Remorqué   \n",
       "-114844                  1  Français                                Remorqué   \n",
       "-114843                  1  Français                                 Assisté   \n",
       "\n",
       "                                 type_flotteur categorie_flotteur  \\\n",
       "operation_id                                                        \n",
       "-114851                      Plaisance à voile          Plaisance   \n",
       "-114847       Navire de charge ou de servitude           Commerce   \n",
       "-114846                      Plaisance à voile          Plaisance   \n",
       "-114844                      Plaisance à voile          Plaisance   \n",
       "-114843                 Administration / Armée              Autre   \n",
       "\n",
       "                                numero_immatriculation  \n",
       "operation_id                                            \n",
       "-114851       848c6fd7499e4148cbcf59404bea1a291a4ab011  \n",
       "-114847                                            NaN  \n",
       "-114846       8a750cca6de840bb8b9e2f79b76cd62dbd3fefcd  \n",
       "-114844       7f5e95deca37a63a8a5be596bab4ff8bbd81e0ae  \n",
       "-114843                                            NaN  "
      ]
     },
     "execution_count": 3,
     "metadata": {},
     "output_type": "execute_result"
    }
   ],
   "source": [
    "df_flotteurs.head()"
   ]
  },
  {
   "cell_type": "code",
   "execution_count": 4,
   "metadata": {
    "ExecuteTime": {
     "end_time": "2019-11-04T10:37:23.240837Z",
     "start_time": "2019-11-04T10:37:23.175752Z"
    },
    "colab": {},
    "colab_type": "code",
    "id": "Xz4nNIlKbE5f",
    "outputId": "de0ee0f3-3caf-4093-e335-c5ff1cfa04c2"
   },
   "outputs": [
    {
     "data": {
      "text/html": [
       "<div>\n",
       "<style scoped>\n",
       "    .dataframe tbody tr th:only-of-type {\n",
       "        vertical-align: middle;\n",
       "    }\n",
       "\n",
       "    .dataframe tbody tr th {\n",
       "        vertical-align: top;\n",
       "    }\n",
       "\n",
       "    .dataframe thead th {\n",
       "        text-align: right;\n",
       "    }\n",
       "</style>\n",
       "<table border=\"1\" class=\"dataframe\">\n",
       "  <thead>\n",
       "    <tr style=\"text-align: right;\">\n",
       "      <th></th>\n",
       "      <th>type_operation</th>\n",
       "      <th>pourquoi_alerte</th>\n",
       "      <th>moyen_alerte</th>\n",
       "      <th>qui_alerte</th>\n",
       "      <th>categorie_qui_alerte</th>\n",
       "      <th>cross</th>\n",
       "      <th>departement</th>\n",
       "      <th>est_metropolitain</th>\n",
       "      <th>evenement</th>\n",
       "      <th>categorie_evenement</th>\n",
       "      <th>autorite</th>\n",
       "      <th>seconde_autorite</th>\n",
       "      <th>zone_responsabilite</th>\n",
       "      <th>latitude</th>\n",
       "      <th>longitude</th>\n",
       "      <th>vent_direction</th>\n",
       "      <th>vent_direction_categorie</th>\n",
       "      <th>vent_force</th>\n",
       "      <th>mer_force</th>\n",
       "      <th>date_heure_reception_alerte</th>\n",
       "      <th>date_heure_fin_operation</th>\n",
       "      <th>numero_sitrep</th>\n",
       "      <th>cross_sitrep</th>\n",
       "      <th>fuseau_horaire</th>\n",
       "    </tr>\n",
       "    <tr>\n",
       "      <th>operation_id</th>\n",
       "      <th></th>\n",
       "      <th></th>\n",
       "      <th></th>\n",
       "      <th></th>\n",
       "      <th></th>\n",
       "      <th></th>\n",
       "      <th></th>\n",
       "      <th></th>\n",
       "      <th></th>\n",
       "      <th></th>\n",
       "      <th></th>\n",
       "      <th></th>\n",
       "      <th></th>\n",
       "      <th></th>\n",
       "      <th></th>\n",
       "      <th></th>\n",
       "      <th></th>\n",
       "      <th></th>\n",
       "      <th></th>\n",
       "      <th></th>\n",
       "      <th></th>\n",
       "      <th></th>\n",
       "      <th></th>\n",
       "      <th></th>\n",
       "    </tr>\n",
       "  </thead>\n",
       "  <tbody>\n",
       "    <tr>\n",
       "      <th>-114851</th>\n",
       "      <td>SAR</td>\n",
       "      <td>NaN</td>\n",
       "      <td>Téléphone à la mer / GSM</td>\n",
       "      <td>Navire impliqué</td>\n",
       "      <td>Navire à la mer</td>\n",
       "      <td>Corse</td>\n",
       "      <td>Corse-du-Sud</td>\n",
       "      <td>True</td>\n",
       "      <td>Autre événement</td>\n",
       "      <td>Autres affaires nécessitant opération</td>\n",
       "      <td>Préfet maritime</td>\n",
       "      <td>NaN</td>\n",
       "      <td>Eaux territoriales</td>\n",
       "      <td>41.3478</td>\n",
       "      <td>9.2522</td>\n",
       "      <td>260.0</td>\n",
       "      <td>ouest</td>\n",
       "      <td>5.0</td>\n",
       "      <td>3.0</td>\n",
       "      <td>2019-10-28T12:11:00Z</td>\n",
       "      <td>2019-10-28T14:49:00Z</td>\n",
       "      <td>557</td>\n",
       "      <td>Corse 2019/557</td>\n",
       "      <td>Europe/Paris</td>\n",
       "    </tr>\n",
       "    <tr>\n",
       "      <th>-114847</th>\n",
       "      <td>MAS</td>\n",
       "      <td>NaN</td>\n",
       "      <td>VHF phonie</td>\n",
       "      <td>Navire impliqué</td>\n",
       "      <td>Navire à la mer</td>\n",
       "      <td>Corsen</td>\n",
       "      <td>NaN</td>\n",
       "      <td>NaN</td>\n",
       "      <td>Avarie du système de propulsion</td>\n",
       "      <td>Avaries non suivies d'accident navire</td>\n",
       "      <td>Préfet maritime</td>\n",
       "      <td>NaN</td>\n",
       "      <td>Responsabilité française</td>\n",
       "      <td>48.1000</td>\n",
       "      <td>-6.1333</td>\n",
       "      <td>106.0</td>\n",
       "      <td>est</td>\n",
       "      <td>5.0</td>\n",
       "      <td>5.0</td>\n",
       "      <td>2019-10-28T23:04:00Z</td>\n",
       "      <td>2019-10-29T00:12:00Z</td>\n",
       "      <td>2335</td>\n",
       "      <td>Corsen 2019/2335</td>\n",
       "      <td>Europe/Paris</td>\n",
       "    </tr>\n",
       "    <tr>\n",
       "      <th>-114846</th>\n",
       "      <td>SAR</td>\n",
       "      <td>NaN</td>\n",
       "      <td>Téléphone à la mer / GSM</td>\n",
       "      <td>CODIS / SDIS / CTA</td>\n",
       "      <td>Autorité civile française à terre</td>\n",
       "      <td>Corsen</td>\n",
       "      <td>Finistère</td>\n",
       "      <td>True</td>\n",
       "      <td>Sans avarie inexpérience</td>\n",
       "      <td>Autres affaires nécessitant opération</td>\n",
       "      <td>Préfet maritime</td>\n",
       "      <td>NaN</td>\n",
       "      <td>Eaux territoriales</td>\n",
       "      <td>48.0208</td>\n",
       "      <td>-4.7355</td>\n",
       "      <td>90.0</td>\n",
       "      <td>est</td>\n",
       "      <td>4.0</td>\n",
       "      <td>3.0</td>\n",
       "      <td>2019-10-28T19:04:00Z</td>\n",
       "      <td>2019-10-29T00:10:00Z</td>\n",
       "      <td>2334</td>\n",
       "      <td>Corsen 2019/2334</td>\n",
       "      <td>Europe/Paris</td>\n",
       "    </tr>\n",
       "    <tr>\n",
       "      <th>-114845</th>\n",
       "      <td>SAR</td>\n",
       "      <td>NaN</td>\n",
       "      <td>Téléphone mobile à terre</td>\n",
       "      <td>CODIS / SDIS / CTA</td>\n",
       "      <td>Autorité civile française à terre</td>\n",
       "      <td>Corsen</td>\n",
       "      <td>Ille-et-Vilaine</td>\n",
       "      <td>True</td>\n",
       "      <td>Isolement par la marée / Envasé</td>\n",
       "      <td>Accidents individuels à personnes</td>\n",
       "      <td>Préfet maritime</td>\n",
       "      <td>NaN</td>\n",
       "      <td>Plage et 300 mètres</td>\n",
       "      <td>48.6297</td>\n",
       "      <td>-2.2872</td>\n",
       "      <td>90.0</td>\n",
       "      <td>est</td>\n",
       "      <td>4.0</td>\n",
       "      <td>2.0</td>\n",
       "      <td>2019-10-28T14:29:00Z</td>\n",
       "      <td>2019-10-28T20:59:00Z</td>\n",
       "      <td>2329</td>\n",
       "      <td>Corsen 2019/2329</td>\n",
       "      <td>Europe/Paris</td>\n",
       "    </tr>\n",
       "    <tr>\n",
       "      <th>-114844</th>\n",
       "      <td>MAS</td>\n",
       "      <td>NaN</td>\n",
       "      <td>VHF phonie</td>\n",
       "      <td>Navire impliqué</td>\n",
       "      <td>Navire à la mer</td>\n",
       "      <td>Corsen</td>\n",
       "      <td>Côtes-d'Armor</td>\n",
       "      <td>True</td>\n",
       "      <td>Avarie du système de propulsion</td>\n",
       "      <td>Avaries non suivies d'accident navire</td>\n",
       "      <td>Préfet maritime</td>\n",
       "      <td>NaN</td>\n",
       "      <td>Eaux territoriales</td>\n",
       "      <td>48.8543</td>\n",
       "      <td>-3.1897</td>\n",
       "      <td>90.0</td>\n",
       "      <td>est</td>\n",
       "      <td>5.0</td>\n",
       "      <td>3.0</td>\n",
       "      <td>2019-10-28T15:01:00Z</td>\n",
       "      <td>2019-10-28T21:30:00Z</td>\n",
       "      <td>2331</td>\n",
       "      <td>Corsen 2019/2331</td>\n",
       "      <td>Europe/Paris</td>\n",
       "    </tr>\n",
       "  </tbody>\n",
       "</table>\n",
       "</div>"
      ],
      "text/plain": [
       "             type_operation pourquoi_alerte              moyen_alerte  \\\n",
       "operation_id                                                            \n",
       "-114851                 SAR             NaN  Téléphone à la mer / GSM   \n",
       "-114847                 MAS             NaN                VHF phonie   \n",
       "-114846                 SAR             NaN  Téléphone à la mer / GSM   \n",
       "-114845                 SAR             NaN  Téléphone mobile à terre   \n",
       "-114844                 MAS             NaN                VHF phonie   \n",
       "\n",
       "                      qui_alerte               categorie_qui_alerte   cross  \\\n",
       "operation_id                                                                  \n",
       "-114851          Navire impliqué                    Navire à la mer   Corse   \n",
       "-114847          Navire impliqué                    Navire à la mer  Corsen   \n",
       "-114846       CODIS / SDIS / CTA  Autorité civile française à terre  Corsen   \n",
       "-114845       CODIS / SDIS / CTA  Autorité civile française à terre  Corsen   \n",
       "-114844          Navire impliqué                    Navire à la mer  Corsen   \n",
       "\n",
       "                  departement est_metropolitain  \\\n",
       "operation_id                                      \n",
       "-114851          Corse-du-Sud              True   \n",
       "-114847                   NaN               NaN   \n",
       "-114846             Finistère              True   \n",
       "-114845       Ille-et-Vilaine              True   \n",
       "-114844         Côtes-d'Armor              True   \n",
       "\n",
       "                                    evenement  \\\n",
       "operation_id                                    \n",
       "-114851                       Autre événement   \n",
       "-114847       Avarie du système de propulsion   \n",
       "-114846              Sans avarie inexpérience   \n",
       "-114845       Isolement par la marée / Envasé   \n",
       "-114844       Avarie du système de propulsion   \n",
       "\n",
       "                                categorie_evenement         autorite  \\\n",
       "operation_id                                                           \n",
       "-114851       Autres affaires nécessitant opération  Préfet maritime   \n",
       "-114847       Avaries non suivies d'accident navire  Préfet maritime   \n",
       "-114846       Autres affaires nécessitant opération  Préfet maritime   \n",
       "-114845           Accidents individuels à personnes  Préfet maritime   \n",
       "-114844       Avaries non suivies d'accident navire  Préfet maritime   \n",
       "\n",
       "             seconde_autorite       zone_responsabilite  latitude  longitude  \\\n",
       "operation_id                                                                   \n",
       "-114851                   NaN        Eaux territoriales   41.3478     9.2522   \n",
       "-114847                   NaN  Responsabilité française   48.1000    -6.1333   \n",
       "-114846                   NaN        Eaux territoriales   48.0208    -4.7355   \n",
       "-114845                   NaN       Plage et 300 mètres   48.6297    -2.2872   \n",
       "-114844                   NaN        Eaux territoriales   48.8543    -3.1897   \n",
       "\n",
       "              vent_direction vent_direction_categorie  vent_force  mer_force  \\\n",
       "operation_id                                                                   \n",
       "-114851                260.0                    ouest         5.0        3.0   \n",
       "-114847                106.0                      est         5.0        5.0   \n",
       "-114846                 90.0                      est         4.0        3.0   \n",
       "-114845                 90.0                      est         4.0        2.0   \n",
       "-114844                 90.0                      est         5.0        3.0   \n",
       "\n",
       "             date_heure_reception_alerte date_heure_fin_operation  \\\n",
       "operation_id                                                        \n",
       "-114851             2019-10-28T12:11:00Z     2019-10-28T14:49:00Z   \n",
       "-114847             2019-10-28T23:04:00Z     2019-10-29T00:12:00Z   \n",
       "-114846             2019-10-28T19:04:00Z     2019-10-29T00:10:00Z   \n",
       "-114845             2019-10-28T14:29:00Z     2019-10-28T20:59:00Z   \n",
       "-114844             2019-10-28T15:01:00Z     2019-10-28T21:30:00Z   \n",
       "\n",
       "              numero_sitrep      cross_sitrep fuseau_horaire  \n",
       "operation_id                                                  \n",
       "-114851                 557    Corse 2019/557   Europe/Paris  \n",
       "-114847                2335  Corsen 2019/2335   Europe/Paris  \n",
       "-114846                2334  Corsen 2019/2334   Europe/Paris  \n",
       "-114845                2329  Corsen 2019/2329   Europe/Paris  \n",
       "-114844                2331  Corsen 2019/2331   Europe/Paris  "
      ]
     },
     "execution_count": 4,
     "metadata": {},
     "output_type": "execute_result"
    }
   ],
   "source": [
    "df_operations.head()"
   ]
  },
  {
   "cell_type": "code",
   "execution_count": 5,
   "metadata": {
    "ExecuteTime": {
     "end_time": "2019-11-04T10:37:23.272922Z",
     "start_time": "2019-11-04T10:37:23.245850Z"
    },
    "colab": {},
    "colab_type": "code",
    "id": "zJJkTSP3bE5h",
    "outputId": "19a7b1ff-88bc-4dd0-fd5b-704984f7633f"
   },
   "outputs": [
    {
     "data": {
      "text/html": [
       "<div>\n",
       "<style scoped>\n",
       "    .dataframe tbody tr th:only-of-type {\n",
       "        vertical-align: middle;\n",
       "    }\n",
       "\n",
       "    .dataframe tbody tr th {\n",
       "        vertical-align: top;\n",
       "    }\n",
       "\n",
       "    .dataframe thead th {\n",
       "        text-align: right;\n",
       "    }\n",
       "</style>\n",
       "<table border=\"1\" class=\"dataframe\">\n",
       "  <thead>\n",
       "    <tr style=\"text-align: right;\">\n",
       "      <th></th>\n",
       "      <th>categorie_personne</th>\n",
       "      <th>resultat_humain</th>\n",
       "      <th>nombre</th>\n",
       "      <th>dont_nombre_blesse</th>\n",
       "    </tr>\n",
       "    <tr>\n",
       "      <th>operation_id</th>\n",
       "      <th></th>\n",
       "      <th></th>\n",
       "      <th></th>\n",
       "      <th></th>\n",
       "    </tr>\n",
       "  </thead>\n",
       "  <tbody>\n",
       "    <tr>\n",
       "      <th>-114851</th>\n",
       "      <td>Plaisancier français</td>\n",
       "      <td>Personne secourue</td>\n",
       "      <td>1</td>\n",
       "      <td>0</td>\n",
       "    </tr>\n",
       "    <tr>\n",
       "      <th>-114847</th>\n",
       "      <td>Marin étranger</td>\n",
       "      <td>Personne tirée d'affaire seule</td>\n",
       "      <td>17</td>\n",
       "      <td>0</td>\n",
       "    </tr>\n",
       "    <tr>\n",
       "      <th>-114846</th>\n",
       "      <td>Plaisancier français</td>\n",
       "      <td>Personne secourue</td>\n",
       "      <td>3</td>\n",
       "      <td>0</td>\n",
       "    </tr>\n",
       "    <tr>\n",
       "      <th>-114845</th>\n",
       "      <td>Plaisancier français</td>\n",
       "      <td>Personne secourue</td>\n",
       "      <td>1</td>\n",
       "      <td>0</td>\n",
       "    </tr>\n",
       "    <tr>\n",
       "      <th>-114845</th>\n",
       "      <td>Autre</td>\n",
       "      <td>Personne disparue</td>\n",
       "      <td>1</td>\n",
       "      <td>0</td>\n",
       "    </tr>\n",
       "  </tbody>\n",
       "</table>\n",
       "</div>"
      ],
      "text/plain": [
       "                categorie_personne                 resultat_humain  nombre  \\\n",
       "operation_id                                                                 \n",
       "-114851       Plaisancier français               Personne secourue       1   \n",
       "-114847             Marin étranger  Personne tirée d'affaire seule      17   \n",
       "-114846       Plaisancier français               Personne secourue       3   \n",
       "-114845       Plaisancier français               Personne secourue       1   \n",
       "-114845                      Autre               Personne disparue       1   \n",
       "\n",
       "              dont_nombre_blesse  \n",
       "operation_id                      \n",
       "-114851                        0  \n",
       "-114847                        0  \n",
       "-114846                        0  \n",
       "-114845                        0  \n",
       "-114845                        0  "
      ]
     },
     "execution_count": 5,
     "metadata": {},
     "output_type": "execute_result"
    }
   ],
   "source": [
    "df_resultats.head()"
   ]
  },
  {
   "cell_type": "code",
   "execution_count": 6,
   "metadata": {},
   "outputs": [
    {
     "data": {
      "text/html": [
       "<div>\n",
       "<style scoped>\n",
       "    .dataframe tbody tr th:only-of-type {\n",
       "        vertical-align: middle;\n",
       "    }\n",
       "\n",
       "    .dataframe tbody tr th {\n",
       "        vertical-align: top;\n",
       "    }\n",
       "\n",
       "    .dataframe thead th {\n",
       "        text-align: right;\n",
       "    }\n",
       "</style>\n",
       "<table border=\"1\" class=\"dataframe\">\n",
       "  <thead>\n",
       "    <tr style=\"text-align: right;\">\n",
       "      <th></th>\n",
       "      <th>date</th>\n",
       "      <th>annee</th>\n",
       "      <th>mois</th>\n",
       "      <th>jour</th>\n",
       "      <th>mois_texte</th>\n",
       "      <th>semaine</th>\n",
       "      <th>annee_semaine</th>\n",
       "      <th>jour_semaine</th>\n",
       "      <th>est_weekend</th>\n",
       "      <th>est_jour_ferie</th>\n",
       "      <th>est_vacances_scolaires</th>\n",
       "      <th>phase_journee</th>\n",
       "      <th>concerne_plongee</th>\n",
       "      <th>distance_cote_metres</th>\n",
       "      <th>distance_cote_milles_nautiques</th>\n",
       "      <th>est_dans_stm</th>\n",
       "      <th>nom_stm</th>\n",
       "      <th>est_dans_dst</th>\n",
       "      <th>nom_dst</th>\n",
       "      <th>maree_port</th>\n",
       "      <th>maree_coefficient</th>\n",
       "      <th>maree_categorie</th>\n",
       "      <th>nombre_personnes_blessees</th>\n",
       "      <th>nombre_personnes_assistees</th>\n",
       "      <th>nombre_personnes_decedees</th>\n",
       "      <th>nombre_personnes_decedees_accidentellement</th>\n",
       "      <th>nombre_personnes_decedees_naturellement</th>\n",
       "      <th>nombre_personnes_disparues</th>\n",
       "      <th>nombre_personnes_impliquees_dans_fausse_alerte</th>\n",
       "      <th>nombre_personnes_retrouvees</th>\n",
       "      <th>nombre_personnes_secourues</th>\n",
       "      <th>nombre_personnes_tirees_daffaire_seule</th>\n",
       "      <th>nombre_personnes_tous_deces</th>\n",
       "      <th>nombre_personnes_tous_deces_ou_disparues</th>\n",
       "      <th>nombre_personnes_impliquees</th>\n",
       "      <th>nombre_personnes_blessees_sans_clandestins</th>\n",
       "      <th>nombre_personnes_assistees_sans_clandestins</th>\n",
       "      <th>nombre_personnes_decedees_sans_clandestins</th>\n",
       "      <th>nombre_personnes_decedees_accidentellement_sans_clandestins</th>\n",
       "      <th>nombre_personnes_decedees_naturellement_sans_clandestins</th>\n",
       "      <th>nombre_personnes_disparues_sans_clandestins</th>\n",
       "      <th>nombre_personnes_impliquees_dans_fausse_alerte_sans_clandestins</th>\n",
       "      <th>nombre_personnes_retrouvees_sans_clandestins</th>\n",
       "      <th>nombre_personnes_secourues_sans_clandestins</th>\n",
       "      <th>nombre_personnes_tirees_daffaire_seule_sans_clandestins</th>\n",
       "      <th>nombre_personnes_tous_deces_sans_clandestins</th>\n",
       "      <th>nombre_personnes_tous_deces_ou_disparues_sans_clandestins</th>\n",
       "      <th>nombre_personnes_impliquees_sans_clandestins</th>\n",
       "      <th>nombre_flotteurs_commerce_impliques</th>\n",
       "      <th>nombre_flotteurs_peche_impliques</th>\n",
       "      <th>nombre_flotteurs_plaisance_impliques</th>\n",
       "      <th>nombre_flotteurs_loisirs_nautiques_impliques</th>\n",
       "      <th>nombre_aeronefs_impliques</th>\n",
       "      <th>nombre_flotteurs_autre_impliques</th>\n",
       "      <th>nombre_flotteurs_annexe_impliques</th>\n",
       "      <th>nombre_flotteurs_autre_loisir_nautique_impliques</th>\n",
       "      <th>nombre_flotteurs_canoe_kayak_aviron_impliques</th>\n",
       "      <th>nombre_flotteurs_engin_de_plage_impliques</th>\n",
       "      <th>nombre_flotteurs_kitesurf_impliques</th>\n",
       "      <th>nombre_flotteurs_plaisance_voile_legere_impliques</th>\n",
       "      <th>nombre_flotteurs_plaisance_a_moteur_moins_8m_impliques</th>\n",
       "      <th>nombre_flotteurs_plaisance_a_moteur_plus_8m_impliques</th>\n",
       "      <th>nombre_flotteurs_plaisance_a_voile_impliques</th>\n",
       "      <th>nombre_flotteurs_planche_a_voile_impliques</th>\n",
       "      <th>nombre_flotteurs_ski_nautique_impliques</th>\n",
       "      <th>nombre_flotteurs_surf_impliques</th>\n",
       "      <th>nombre_flotteurs_vehicule_nautique_a_moteur_impliques</th>\n",
       "      <th>sans_flotteur_implique</th>\n",
       "    </tr>\n",
       "    <tr>\n",
       "      <th>operation_id</th>\n",
       "      <th></th>\n",
       "      <th></th>\n",
       "      <th></th>\n",
       "      <th></th>\n",
       "      <th></th>\n",
       "      <th></th>\n",
       "      <th></th>\n",
       "      <th></th>\n",
       "      <th></th>\n",
       "      <th></th>\n",
       "      <th></th>\n",
       "      <th></th>\n",
       "      <th></th>\n",
       "      <th></th>\n",
       "      <th></th>\n",
       "      <th></th>\n",
       "      <th></th>\n",
       "      <th></th>\n",
       "      <th></th>\n",
       "      <th></th>\n",
       "      <th></th>\n",
       "      <th></th>\n",
       "      <th></th>\n",
       "      <th></th>\n",
       "      <th></th>\n",
       "      <th></th>\n",
       "      <th></th>\n",
       "      <th></th>\n",
       "      <th></th>\n",
       "      <th></th>\n",
       "      <th></th>\n",
       "      <th></th>\n",
       "      <th></th>\n",
       "      <th></th>\n",
       "      <th></th>\n",
       "      <th></th>\n",
       "      <th></th>\n",
       "      <th></th>\n",
       "      <th></th>\n",
       "      <th></th>\n",
       "      <th></th>\n",
       "      <th></th>\n",
       "      <th></th>\n",
       "      <th></th>\n",
       "      <th></th>\n",
       "      <th></th>\n",
       "      <th></th>\n",
       "      <th></th>\n",
       "      <th></th>\n",
       "      <th></th>\n",
       "      <th></th>\n",
       "      <th></th>\n",
       "      <th></th>\n",
       "      <th></th>\n",
       "      <th></th>\n",
       "      <th></th>\n",
       "      <th></th>\n",
       "      <th></th>\n",
       "      <th></th>\n",
       "      <th></th>\n",
       "      <th></th>\n",
       "      <th></th>\n",
       "      <th></th>\n",
       "      <th></th>\n",
       "      <th></th>\n",
       "      <th></th>\n",
       "      <th></th>\n",
       "      <th></th>\n",
       "    </tr>\n",
       "  </thead>\n",
       "  <tbody>\n",
       "    <tr>\n",
       "      <th>-114851</th>\n",
       "      <td>2019-10-28</td>\n",
       "      <td>2019</td>\n",
       "      <td>10</td>\n",
       "      <td>28</td>\n",
       "      <td>Octobre</td>\n",
       "      <td>44</td>\n",
       "      <td>2019-44</td>\n",
       "      <td>Lundi</td>\n",
       "      <td>False</td>\n",
       "      <td>False</td>\n",
       "      <td>True</td>\n",
       "      <td>déjeuner</td>\n",
       "      <td>False</td>\n",
       "      <td>100.0</td>\n",
       "      <td>0.05</td>\n",
       "      <td>False</td>\n",
       "      <td>NaN</td>\n",
       "      <td>False</td>\n",
       "      <td>NaN</td>\n",
       "      <td>NaN</td>\n",
       "      <td>NaN</td>\n",
       "      <td>NaN</td>\n",
       "      <td>0</td>\n",
       "      <td>0</td>\n",
       "      <td>0</td>\n",
       "      <td>0</td>\n",
       "      <td>0</td>\n",
       "      <td>0</td>\n",
       "      <td>0</td>\n",
       "      <td>0</td>\n",
       "      <td>1</td>\n",
       "      <td>0</td>\n",
       "      <td>0</td>\n",
       "      <td>0</td>\n",
       "      <td>1</td>\n",
       "      <td>0</td>\n",
       "      <td>0</td>\n",
       "      <td>0</td>\n",
       "      <td>0</td>\n",
       "      <td>0</td>\n",
       "      <td>0</td>\n",
       "      <td>0</td>\n",
       "      <td>0</td>\n",
       "      <td>1</td>\n",
       "      <td>0</td>\n",
       "      <td>0</td>\n",
       "      <td>0</td>\n",
       "      <td>1</td>\n",
       "      <td>0</td>\n",
       "      <td>0</td>\n",
       "      <td>1</td>\n",
       "      <td>0</td>\n",
       "      <td>0</td>\n",
       "      <td>0</td>\n",
       "      <td>0</td>\n",
       "      <td>0</td>\n",
       "      <td>0</td>\n",
       "      <td>0</td>\n",
       "      <td>0</td>\n",
       "      <td>0</td>\n",
       "      <td>0</td>\n",
       "      <td>0</td>\n",
       "      <td>1</td>\n",
       "      <td>0</td>\n",
       "      <td>0</td>\n",
       "      <td>0</td>\n",
       "      <td>0</td>\n",
       "      <td>False</td>\n",
       "    </tr>\n",
       "    <tr>\n",
       "      <th>-114847</th>\n",
       "      <td>2019-10-29</td>\n",
       "      <td>2019</td>\n",
       "      <td>10</td>\n",
       "      <td>29</td>\n",
       "      <td>Octobre</td>\n",
       "      <td>44</td>\n",
       "      <td>2019-44</td>\n",
       "      <td>Mardi</td>\n",
       "      <td>False</td>\n",
       "      <td>False</td>\n",
       "      <td>True</td>\n",
       "      <td>nuit</td>\n",
       "      <td>False</td>\n",
       "      <td>83300.0</td>\n",
       "      <td>44.98</td>\n",
       "      <td>False</td>\n",
       "      <td>NaN</td>\n",
       "      <td>False</td>\n",
       "      <td>NaN</td>\n",
       "      <td>NaN</td>\n",
       "      <td>NaN</td>\n",
       "      <td>NaN</td>\n",
       "      <td>0</td>\n",
       "      <td>0</td>\n",
       "      <td>0</td>\n",
       "      <td>0</td>\n",
       "      <td>0</td>\n",
       "      <td>0</td>\n",
       "      <td>0</td>\n",
       "      <td>0</td>\n",
       "      <td>0</td>\n",
       "      <td>17</td>\n",
       "      <td>0</td>\n",
       "      <td>0</td>\n",
       "      <td>17</td>\n",
       "      <td>0</td>\n",
       "      <td>0</td>\n",
       "      <td>0</td>\n",
       "      <td>0</td>\n",
       "      <td>0</td>\n",
       "      <td>0</td>\n",
       "      <td>0</td>\n",
       "      <td>0</td>\n",
       "      <td>0</td>\n",
       "      <td>17</td>\n",
       "      <td>0</td>\n",
       "      <td>0</td>\n",
       "      <td>17</td>\n",
       "      <td>1</td>\n",
       "      <td>0</td>\n",
       "      <td>0</td>\n",
       "      <td>0</td>\n",
       "      <td>0</td>\n",
       "      <td>0</td>\n",
       "      <td>0</td>\n",
       "      <td>0</td>\n",
       "      <td>0</td>\n",
       "      <td>0</td>\n",
       "      <td>0</td>\n",
       "      <td>0</td>\n",
       "      <td>0</td>\n",
       "      <td>0</td>\n",
       "      <td>0</td>\n",
       "      <td>0</td>\n",
       "      <td>0</td>\n",
       "      <td>0</td>\n",
       "      <td>0</td>\n",
       "      <td>False</td>\n",
       "    </tr>\n",
       "    <tr>\n",
       "      <th>-114846</th>\n",
       "      <td>2019-10-28</td>\n",
       "      <td>2019</td>\n",
       "      <td>10</td>\n",
       "      <td>28</td>\n",
       "      <td>Octobre</td>\n",
       "      <td>44</td>\n",
       "      <td>2019-44</td>\n",
       "      <td>Lundi</td>\n",
       "      <td>False</td>\n",
       "      <td>False</td>\n",
       "      <td>True</td>\n",
       "      <td>nuit</td>\n",
       "      <td>False</td>\n",
       "      <td>1500.0</td>\n",
       "      <td>0.81</td>\n",
       "      <td>True</td>\n",
       "      <td>stm-corsen</td>\n",
       "      <td>False</td>\n",
       "      <td>NaN</td>\n",
       "      <td>Brest</td>\n",
       "      <td>103.0</td>\n",
       "      <td>96-120</td>\n",
       "      <td>0</td>\n",
       "      <td>0</td>\n",
       "      <td>0</td>\n",
       "      <td>0</td>\n",
       "      <td>0</td>\n",
       "      <td>0</td>\n",
       "      <td>0</td>\n",
       "      <td>0</td>\n",
       "      <td>3</td>\n",
       "      <td>0</td>\n",
       "      <td>0</td>\n",
       "      <td>0</td>\n",
       "      <td>3</td>\n",
       "      <td>0</td>\n",
       "      <td>0</td>\n",
       "      <td>0</td>\n",
       "      <td>0</td>\n",
       "      <td>0</td>\n",
       "      <td>0</td>\n",
       "      <td>0</td>\n",
       "      <td>0</td>\n",
       "      <td>3</td>\n",
       "      <td>0</td>\n",
       "      <td>0</td>\n",
       "      <td>0</td>\n",
       "      <td>3</td>\n",
       "      <td>0</td>\n",
       "      <td>0</td>\n",
       "      <td>1</td>\n",
       "      <td>0</td>\n",
       "      <td>0</td>\n",
       "      <td>0</td>\n",
       "      <td>0</td>\n",
       "      <td>0</td>\n",
       "      <td>0</td>\n",
       "      <td>0</td>\n",
       "      <td>0</td>\n",
       "      <td>0</td>\n",
       "      <td>0</td>\n",
       "      <td>0</td>\n",
       "      <td>1</td>\n",
       "      <td>0</td>\n",
       "      <td>0</td>\n",
       "      <td>0</td>\n",
       "      <td>0</td>\n",
       "      <td>False</td>\n",
       "    </tr>\n",
       "    <tr>\n",
       "      <th>-114845</th>\n",
       "      <td>2019-10-28</td>\n",
       "      <td>2019</td>\n",
       "      <td>10</td>\n",
       "      <td>28</td>\n",
       "      <td>Octobre</td>\n",
       "      <td>44</td>\n",
       "      <td>2019-44</td>\n",
       "      <td>Lundi</td>\n",
       "      <td>False</td>\n",
       "      <td>False</td>\n",
       "      <td>True</td>\n",
       "      <td>après-midi</td>\n",
       "      <td>False</td>\n",
       "      <td>0.0</td>\n",
       "      <td>0.00</td>\n",
       "      <td>False</td>\n",
       "      <td>NaN</td>\n",
       "      <td>False</td>\n",
       "      <td>NaN</td>\n",
       "      <td>Saint-Malo</td>\n",
       "      <td>103.0</td>\n",
       "      <td>96-120</td>\n",
       "      <td>0</td>\n",
       "      <td>0</td>\n",
       "      <td>0</td>\n",
       "      <td>0</td>\n",
       "      <td>0</td>\n",
       "      <td>1</td>\n",
       "      <td>0</td>\n",
       "      <td>0</td>\n",
       "      <td>1</td>\n",
       "      <td>0</td>\n",
       "      <td>0</td>\n",
       "      <td>1</td>\n",
       "      <td>2</td>\n",
       "      <td>0</td>\n",
       "      <td>0</td>\n",
       "      <td>0</td>\n",
       "      <td>0</td>\n",
       "      <td>0</td>\n",
       "      <td>1</td>\n",
       "      <td>0</td>\n",
       "      <td>0</td>\n",
       "      <td>1</td>\n",
       "      <td>0</td>\n",
       "      <td>0</td>\n",
       "      <td>1</td>\n",
       "      <td>2</td>\n",
       "      <td>0</td>\n",
       "      <td>0</td>\n",
       "      <td>0</td>\n",
       "      <td>0</td>\n",
       "      <td>0</td>\n",
       "      <td>0</td>\n",
       "      <td>0</td>\n",
       "      <td>0</td>\n",
       "      <td>0</td>\n",
       "      <td>0</td>\n",
       "      <td>0</td>\n",
       "      <td>0</td>\n",
       "      <td>0</td>\n",
       "      <td>0</td>\n",
       "      <td>0</td>\n",
       "      <td>0</td>\n",
       "      <td>0</td>\n",
       "      <td>0</td>\n",
       "      <td>0</td>\n",
       "      <td>True</td>\n",
       "    </tr>\n",
       "    <tr>\n",
       "      <th>-114844</th>\n",
       "      <td>2019-10-28</td>\n",
       "      <td>2019</td>\n",
       "      <td>10</td>\n",
       "      <td>28</td>\n",
       "      <td>Octobre</td>\n",
       "      <td>44</td>\n",
       "      <td>2019-44</td>\n",
       "      <td>Lundi</td>\n",
       "      <td>False</td>\n",
       "      <td>False</td>\n",
       "      <td>True</td>\n",
       "      <td>après-midi</td>\n",
       "      <td>False</td>\n",
       "      <td>900.0</td>\n",
       "      <td>0.49</td>\n",
       "      <td>False</td>\n",
       "      <td>NaN</td>\n",
       "      <td>False</td>\n",
       "      <td>NaN</td>\n",
       "      <td>Paimpol</td>\n",
       "      <td>103.0</td>\n",
       "      <td>96-120</td>\n",
       "      <td>0</td>\n",
       "      <td>1</td>\n",
       "      <td>0</td>\n",
       "      <td>0</td>\n",
       "      <td>0</td>\n",
       "      <td>0</td>\n",
       "      <td>0</td>\n",
       "      <td>0</td>\n",
       "      <td>0</td>\n",
       "      <td>0</td>\n",
       "      <td>0</td>\n",
       "      <td>0</td>\n",
       "      <td>1</td>\n",
       "      <td>0</td>\n",
       "      <td>1</td>\n",
       "      <td>0</td>\n",
       "      <td>0</td>\n",
       "      <td>0</td>\n",
       "      <td>0</td>\n",
       "      <td>0</td>\n",
       "      <td>0</td>\n",
       "      <td>0</td>\n",
       "      <td>0</td>\n",
       "      <td>0</td>\n",
       "      <td>0</td>\n",
       "      <td>1</td>\n",
       "      <td>0</td>\n",
       "      <td>0</td>\n",
       "      <td>1</td>\n",
       "      <td>0</td>\n",
       "      <td>0</td>\n",
       "      <td>0</td>\n",
       "      <td>0</td>\n",
       "      <td>0</td>\n",
       "      <td>0</td>\n",
       "      <td>0</td>\n",
       "      <td>0</td>\n",
       "      <td>0</td>\n",
       "      <td>0</td>\n",
       "      <td>0</td>\n",
       "      <td>1</td>\n",
       "      <td>0</td>\n",
       "      <td>0</td>\n",
       "      <td>0</td>\n",
       "      <td>0</td>\n",
       "      <td>False</td>\n",
       "    </tr>\n",
       "  </tbody>\n",
       "</table>\n",
       "</div>"
      ],
      "text/plain": [
       "                    date  annee  mois  jour mois_texte  semaine annee_semaine  \\\n",
       "operation_id                                                                    \n",
       "-114851       2019-10-28   2019    10    28    Octobre       44       2019-44   \n",
       "-114847       2019-10-29   2019    10    29    Octobre       44       2019-44   \n",
       "-114846       2019-10-28   2019    10    28    Octobre       44       2019-44   \n",
       "-114845       2019-10-28   2019    10    28    Octobre       44       2019-44   \n",
       "-114844       2019-10-28   2019    10    28    Octobre       44       2019-44   \n",
       "\n",
       "             jour_semaine  est_weekend  est_jour_ferie est_vacances_scolaires  \\\n",
       "operation_id                                                                    \n",
       "-114851             Lundi        False           False                   True   \n",
       "-114847             Mardi        False           False                   True   \n",
       "-114846             Lundi        False           False                   True   \n",
       "-114845             Lundi        False           False                   True   \n",
       "-114844             Lundi        False           False                   True   \n",
       "\n",
       "             phase_journee  concerne_plongee  distance_cote_metres  \\\n",
       "operation_id                                                         \n",
       "-114851           déjeuner             False                 100.0   \n",
       "-114847               nuit             False               83300.0   \n",
       "-114846               nuit             False                1500.0   \n",
       "-114845         après-midi             False                   0.0   \n",
       "-114844         après-midi             False                 900.0   \n",
       "\n",
       "              distance_cote_milles_nautiques  est_dans_stm     nom_stm  \\\n",
       "operation_id                                                             \n",
       "-114851                                 0.05         False         NaN   \n",
       "-114847                                44.98         False         NaN   \n",
       "-114846                                 0.81          True  stm-corsen   \n",
       "-114845                                 0.00         False         NaN   \n",
       "-114844                                 0.49         False         NaN   \n",
       "\n",
       "              est_dans_dst nom_dst  maree_port  maree_coefficient  \\\n",
       "operation_id                                                        \n",
       "-114851              False     NaN         NaN                NaN   \n",
       "-114847              False     NaN         NaN                NaN   \n",
       "-114846              False     NaN       Brest              103.0   \n",
       "-114845              False     NaN  Saint-Malo              103.0   \n",
       "-114844              False     NaN     Paimpol              103.0   \n",
       "\n",
       "             maree_categorie  nombre_personnes_blessees  \\\n",
       "operation_id                                              \n",
       "-114851                  NaN                          0   \n",
       "-114847                  NaN                          0   \n",
       "-114846               96-120                          0   \n",
       "-114845               96-120                          0   \n",
       "-114844               96-120                          0   \n",
       "\n",
       "              nombre_personnes_assistees  nombre_personnes_decedees  \\\n",
       "operation_id                                                          \n",
       "-114851                                0                          0   \n",
       "-114847                                0                          0   \n",
       "-114846                                0                          0   \n",
       "-114845                                0                          0   \n",
       "-114844                                1                          0   \n",
       "\n",
       "              nombre_personnes_decedees_accidentellement  \\\n",
       "operation_id                                               \n",
       "-114851                                                0   \n",
       "-114847                                                0   \n",
       "-114846                                                0   \n",
       "-114845                                                0   \n",
       "-114844                                                0   \n",
       "\n",
       "              nombre_personnes_decedees_naturellement  \\\n",
       "operation_id                                            \n",
       "-114851                                             0   \n",
       "-114847                                             0   \n",
       "-114846                                             0   \n",
       "-114845                                             0   \n",
       "-114844                                             0   \n",
       "\n",
       "              nombre_personnes_disparues  \\\n",
       "operation_id                               \n",
       "-114851                                0   \n",
       "-114847                                0   \n",
       "-114846                                0   \n",
       "-114845                                1   \n",
       "-114844                                0   \n",
       "\n",
       "              nombre_personnes_impliquees_dans_fausse_alerte  \\\n",
       "operation_id                                                   \n",
       "-114851                                                    0   \n",
       "-114847                                                    0   \n",
       "-114846                                                    0   \n",
       "-114845                                                    0   \n",
       "-114844                                                    0   \n",
       "\n",
       "              nombre_personnes_retrouvees  nombre_personnes_secourues  \\\n",
       "operation_id                                                            \n",
       "-114851                                 0                           1   \n",
       "-114847                                 0                           0   \n",
       "-114846                                 0                           3   \n",
       "-114845                                 0                           1   \n",
       "-114844                                 0                           0   \n",
       "\n",
       "              nombre_personnes_tirees_daffaire_seule  \\\n",
       "operation_id                                           \n",
       "-114851                                            0   \n",
       "-114847                                           17   \n",
       "-114846                                            0   \n",
       "-114845                                            0   \n",
       "-114844                                            0   \n",
       "\n",
       "              nombre_personnes_tous_deces  \\\n",
       "operation_id                                \n",
       "-114851                                 0   \n",
       "-114847                                 0   \n",
       "-114846                                 0   \n",
       "-114845                                 0   \n",
       "-114844                                 0   \n",
       "\n",
       "              nombre_personnes_tous_deces_ou_disparues  \\\n",
       "operation_id                                             \n",
       "-114851                                              0   \n",
       "-114847                                              0   \n",
       "-114846                                              0   \n",
       "-114845                                              1   \n",
       "-114844                                              0   \n",
       "\n",
       "              nombre_personnes_impliquees  \\\n",
       "operation_id                                \n",
       "-114851                                 1   \n",
       "-114847                                17   \n",
       "-114846                                 3   \n",
       "-114845                                 2   \n",
       "-114844                                 1   \n",
       "\n",
       "              nombre_personnes_blessees_sans_clandestins  \\\n",
       "operation_id                                               \n",
       "-114851                                                0   \n",
       "-114847                                                0   \n",
       "-114846                                                0   \n",
       "-114845                                                0   \n",
       "-114844                                                0   \n",
       "\n",
       "              nombre_personnes_assistees_sans_clandestins  \\\n",
       "operation_id                                                \n",
       "-114851                                                 0   \n",
       "-114847                                                 0   \n",
       "-114846                                                 0   \n",
       "-114845                                                 0   \n",
       "-114844                                                 1   \n",
       "\n",
       "              nombre_personnes_decedees_sans_clandestins  \\\n",
       "operation_id                                               \n",
       "-114851                                                0   \n",
       "-114847                                                0   \n",
       "-114846                                                0   \n",
       "-114845                                                0   \n",
       "-114844                                                0   \n",
       "\n",
       "              nombre_personnes_decedees_accidentellement_sans_clandestins  \\\n",
       "operation_id                                                                \n",
       "-114851                                                       0             \n",
       "-114847                                                       0             \n",
       "-114846                                                       0             \n",
       "-114845                                                       0             \n",
       "-114844                                                       0             \n",
       "\n",
       "              nombre_personnes_decedees_naturellement_sans_clandestins  \\\n",
       "operation_id                                                             \n",
       "-114851                                                       0          \n",
       "-114847                                                       0          \n",
       "-114846                                                       0          \n",
       "-114845                                                       0          \n",
       "-114844                                                       0          \n",
       "\n",
       "              nombre_personnes_disparues_sans_clandestins  \\\n",
       "operation_id                                                \n",
       "-114851                                                 0   \n",
       "-114847                                                 0   \n",
       "-114846                                                 0   \n",
       "-114845                                                 1   \n",
       "-114844                                                 0   \n",
       "\n",
       "              nombre_personnes_impliquees_dans_fausse_alerte_sans_clandestins  \\\n",
       "operation_id                                                                    \n",
       "-114851                                                       0                 \n",
       "-114847                                                       0                 \n",
       "-114846                                                       0                 \n",
       "-114845                                                       0                 \n",
       "-114844                                                       0                 \n",
       "\n",
       "              nombre_personnes_retrouvees_sans_clandestins  \\\n",
       "operation_id                                                 \n",
       "-114851                                                  0   \n",
       "-114847                                                  0   \n",
       "-114846                                                  0   \n",
       "-114845                                                  0   \n",
       "-114844                                                  0   \n",
       "\n",
       "              nombre_personnes_secourues_sans_clandestins  \\\n",
       "operation_id                                                \n",
       "-114851                                                 1   \n",
       "-114847                                                 0   \n",
       "-114846                                                 3   \n",
       "-114845                                                 1   \n",
       "-114844                                                 0   \n",
       "\n",
       "              nombre_personnes_tirees_daffaire_seule_sans_clandestins  \\\n",
       "operation_id                                                            \n",
       "-114851                                                       0         \n",
       "-114847                                                      17         \n",
       "-114846                                                       0         \n",
       "-114845                                                       0         \n",
       "-114844                                                       0         \n",
       "\n",
       "              nombre_personnes_tous_deces_sans_clandestins  \\\n",
       "operation_id                                                 \n",
       "-114851                                                  0   \n",
       "-114847                                                  0   \n",
       "-114846                                                  0   \n",
       "-114845                                                  0   \n",
       "-114844                                                  0   \n",
       "\n",
       "              nombre_personnes_tous_deces_ou_disparues_sans_clandestins  \\\n",
       "operation_id                                                              \n",
       "-114851                                                       0           \n",
       "-114847                                                       0           \n",
       "-114846                                                       0           \n",
       "-114845                                                       1           \n",
       "-114844                                                       0           \n",
       "\n",
       "              nombre_personnes_impliquees_sans_clandestins  \\\n",
       "operation_id                                                 \n",
       "-114851                                                  1   \n",
       "-114847                                                 17   \n",
       "-114846                                                  3   \n",
       "-114845                                                  2   \n",
       "-114844                                                  1   \n",
       "\n",
       "              nombre_flotteurs_commerce_impliques  \\\n",
       "operation_id                                        \n",
       "-114851                                         0   \n",
       "-114847                                         1   \n",
       "-114846                                         0   \n",
       "-114845                                         0   \n",
       "-114844                                         0   \n",
       "\n",
       "              nombre_flotteurs_peche_impliques  \\\n",
       "operation_id                                     \n",
       "-114851                                      0   \n",
       "-114847                                      0   \n",
       "-114846                                      0   \n",
       "-114845                                      0   \n",
       "-114844                                      0   \n",
       "\n",
       "              nombre_flotteurs_plaisance_impliques  \\\n",
       "operation_id                                         \n",
       "-114851                                          1   \n",
       "-114847                                          0   \n",
       "-114846                                          1   \n",
       "-114845                                          0   \n",
       "-114844                                          1   \n",
       "\n",
       "              nombre_flotteurs_loisirs_nautiques_impliques  \\\n",
       "operation_id                                                 \n",
       "-114851                                                  0   \n",
       "-114847                                                  0   \n",
       "-114846                                                  0   \n",
       "-114845                                                  0   \n",
       "-114844                                                  0   \n",
       "\n",
       "              nombre_aeronefs_impliques  nombre_flotteurs_autre_impliques  \\\n",
       "operation_id                                                                \n",
       "-114851                               0                                 0   \n",
       "-114847                               0                                 0   \n",
       "-114846                               0                                 0   \n",
       "-114845                               0                                 0   \n",
       "-114844                               0                                 0   \n",
       "\n",
       "              nombre_flotteurs_annexe_impliques  \\\n",
       "operation_id                                      \n",
       "-114851                                       0   \n",
       "-114847                                       0   \n",
       "-114846                                       0   \n",
       "-114845                                       0   \n",
       "-114844                                       0   \n",
       "\n",
       "              nombre_flotteurs_autre_loisir_nautique_impliques  \\\n",
       "operation_id                                                     \n",
       "-114851                                                      0   \n",
       "-114847                                                      0   \n",
       "-114846                                                      0   \n",
       "-114845                                                      0   \n",
       "-114844                                                      0   \n",
       "\n",
       "              nombre_flotteurs_canoe_kayak_aviron_impliques  \\\n",
       "operation_id                                                  \n",
       "-114851                                                   0   \n",
       "-114847                                                   0   \n",
       "-114846                                                   0   \n",
       "-114845                                                   0   \n",
       "-114844                                                   0   \n",
       "\n",
       "              nombre_flotteurs_engin_de_plage_impliques  \\\n",
       "operation_id                                              \n",
       "-114851                                               0   \n",
       "-114847                                               0   \n",
       "-114846                                               0   \n",
       "-114845                                               0   \n",
       "-114844                                               0   \n",
       "\n",
       "              nombre_flotteurs_kitesurf_impliques  \\\n",
       "operation_id                                        \n",
       "-114851                                         0   \n",
       "-114847                                         0   \n",
       "-114846                                         0   \n",
       "-114845                                         0   \n",
       "-114844                                         0   \n",
       "\n",
       "              nombre_flotteurs_plaisance_voile_legere_impliques  \\\n",
       "operation_id                                                      \n",
       "-114851                                                       0   \n",
       "-114847                                                       0   \n",
       "-114846                                                       0   \n",
       "-114845                                                       0   \n",
       "-114844                                                       0   \n",
       "\n",
       "              nombre_flotteurs_plaisance_a_moteur_moins_8m_impliques  \\\n",
       "operation_id                                                           \n",
       "-114851                                                       0        \n",
       "-114847                                                       0        \n",
       "-114846                                                       0        \n",
       "-114845                                                       0        \n",
       "-114844                                                       0        \n",
       "\n",
       "              nombre_flotteurs_plaisance_a_moteur_plus_8m_impliques  \\\n",
       "operation_id                                                          \n",
       "-114851                                                       0       \n",
       "-114847                                                       0       \n",
       "-114846                                                       0       \n",
       "-114845                                                       0       \n",
       "-114844                                                       0       \n",
       "\n",
       "              nombre_flotteurs_plaisance_a_voile_impliques  \\\n",
       "operation_id                                                 \n",
       "-114851                                                  1   \n",
       "-114847                                                  0   \n",
       "-114846                                                  1   \n",
       "-114845                                                  0   \n",
       "-114844                                                  1   \n",
       "\n",
       "              nombre_flotteurs_planche_a_voile_impliques  \\\n",
       "operation_id                                               \n",
       "-114851                                                0   \n",
       "-114847                                                0   \n",
       "-114846                                                0   \n",
       "-114845                                                0   \n",
       "-114844                                                0   \n",
       "\n",
       "              nombre_flotteurs_ski_nautique_impliques  \\\n",
       "operation_id                                            \n",
       "-114851                                             0   \n",
       "-114847                                             0   \n",
       "-114846                                             0   \n",
       "-114845                                             0   \n",
       "-114844                                             0   \n",
       "\n",
       "              nombre_flotteurs_surf_impliques  \\\n",
       "operation_id                                    \n",
       "-114851                                     0   \n",
       "-114847                                     0   \n",
       "-114846                                     0   \n",
       "-114845                                     0   \n",
       "-114844                                     0   \n",
       "\n",
       "              nombre_flotteurs_vehicule_nautique_a_moteur_impliques  \\\n",
       "operation_id                                                          \n",
       "-114851                                                       0       \n",
       "-114847                                                       0       \n",
       "-114846                                                       0       \n",
       "-114845                                                       0       \n",
       "-114844                                                       0       \n",
       "\n",
       "              sans_flotteur_implique  \n",
       "operation_id                          \n",
       "-114851                        False  \n",
       "-114847                        False  \n",
       "-114846                        False  \n",
       "-114845                         True  \n",
       "-114844                        False  "
      ]
     },
     "execution_count": 6,
     "metadata": {},
     "output_type": "execute_result"
    }
   ],
   "source": [
    "df_operations_stats.head()"
   ]
  },
  {
   "cell_type": "markdown",
   "metadata": {
    "colab_type": "text",
    "id": "Gj8zOa90bE5l"
   },
   "source": [
    "On définit une fonction pour tracer les figures."
   ]
  },
  {
   "cell_type": "code",
   "execution_count": 7,
   "metadata": {
    "colab": {},
    "colab_type": "code",
    "id": "GrbBscYNbE5l"
   },
   "outputs": [],
   "source": [
    "def plot_bar(df, figsize=(8,4)):\n",
    "    fig, ax = plt.subplots(figsize=figsize)\n",
    "    df.plot.bar(ax=ax)\n",
    "    sns.despine()"
   ]
  },
  {
   "cell_type": "markdown",
   "metadata": {
    "colab_type": "text",
    "id": "6iZZCh6abE5n"
   },
   "source": [
    "## Question 1: Le client annonce avoir entendu que 80% des bateaux impliqués étaient des plaisanciers  et 5% concernent les loisirs nautiques. Pouvez-vous vérifier cette hypothèse ?"
   ]
  },
  {
   "cell_type": "markdown",
   "metadata": {
    "colab_type": "text",
    "id": "W8mpsTOnj_lh"
   },
   "source": [
    "**Elements de réponse**\n",
    "\n",
    "*   Pour compter le nombre de chaque modalité dans la base de données, on pourra utiliser value_counts() de pandas.\n",
    "\n",
    "*   Pour transformer les valeurs d'une série, on pourra utiliser apply() de pandas"
   ]
  },
  {
   "cell_type": "code",
   "execution_count": 8,
   "metadata": {
    "ExecuteTime": {
     "end_time": "2019-11-04T10:08:52.099113Z",
     "start_time": "2019-11-04T10:08:50.724721Z"
    },
    "colab": {},
    "colab_type": "code",
    "id": "apA0U8qmbE5o",
    "outputId": "67c90ae0-d4ac-4e96-a2ca-b87662077218"
   },
   "outputs": [
    {
     "data": {
      "text/plain": [
       "Plaisance          57.360150\n",
       "Pêche              14.391757\n",
       "Loisir nautique    13.582698\n",
       "Commerce           12.741576\n",
       "Autre               1.290892\n",
       "Aéronef             0.632928\n",
       "Name: categorie_flotteur, dtype: float64"
      ]
     },
     "execution_count": 8,
     "metadata": {},
     "output_type": "execute_result"
    }
   ],
   "source": [
    "df_flotteurs.categorie_flotteur.value_counts().apply(lambda x: x/len(df_flotteurs)*100)"
   ]
  },
  {
   "cell_type": "markdown",
   "metadata": {
    "colab_type": "text",
    "id": "CKpz6k_abE5q"
   },
   "source": [
    "Réponse : 58% plaisanciers et 13% loisirs natiques."
   ]
  },
  {
   "cell_type": "markdown",
   "metadata": {
    "colab_type": "text",
    "id": "lm_F2cmRbE5q"
   },
   "source": [
    "## Question 2: Quels sont les départements qui ont vu se dérouler le plus d’interventions SAR ? (Faire un graphique)"
   ]
  },
  {
   "cell_type": "markdown",
   "metadata": {
    "colab_type": "text",
    "id": "W8mpsTOnj_lh"
   },
   "source": [
    "**Elements de réponse**\n",
    "\n",
    "* Pour compter le nombre d'interventions SAR dans la base de données par département, on peut d'abord filtrer sur le type d'opération (SAR)\n",
    "* Pour le comptage, on peut utiliser la donction value_counts. \n",
    "* Le graphique doit être simple et lisible notemment grace à la fonction de tri sort_values()"
   ]
  },
  {
   "cell_type": "code",
   "execution_count": 9,
   "metadata": {
    "colab": {},
    "colab_type": "code",
    "id": "C7oO16pebE5r",
    "outputId": "670dfafe-1062-47d1-fdbe-fd2e3babac54"
   },
   "outputs": [
    {
     "data": {
      "image/png": "[encoded data removed]",
      "text/plain": [
       "<Figure size 576x288 with 1 Axes>"
      ]
     },
     "metadata": {
      "needs_background": "light"
     },
     "output_type": "display_data"
    }
   ],
   "source": [
    "df = df_operations[df_operations['type_operation']=='SAR'].departement.value_counts()\n",
    "plot_bar(df)"
   ]
  },
  {
   "cell_type": "markdown",
   "metadata": {
    "colab_type": "text",
    "id": "_5TF1RU6bE5t"
   },
   "source": [
    "Les Top 5 interventions ont eu lieu dans Var, Finistère, Morbihan, Bouches-du-Rhone et Côtes d'Amor"
   ]
  },
  {
   "cell_type": "markdown",
   "metadata": {
    "colab_type": "text",
    "id": "HVTD0NOxbE5t"
   },
   "source": [
    "## Question 3: Tracer la répartition des interventions en fonction de la force du vent ?"
   ]
  },
  {
   "cell_type": "markdown",
   "metadata": {
    "colab_type": "text",
    "id": "W8mpsTOnj_lh"
   },
   "source": [
    "**Elements de réponse**\n",
    "\n",
    "*  Les fonction groupby() et aggr() seront utilisées.\n",
    "*  Le graphique doit contenir 3 dimensions : la force du vent, le nombre d'opérations et le type d'opérations"
   ]
  },
  {
   "cell_type": "code",
   "execution_count": 10,
   "metadata": {},
   "outputs": [
    {
     "data": {
      "text/html": [
       "<div>\n",
       "<style scoped>\n",
       "    .dataframe tbody tr th:only-of-type {\n",
       "        vertical-align: middle;\n",
       "    }\n",
       "\n",
       "    .dataframe tbody tr th {\n",
       "        vertical-align: top;\n",
       "    }\n",
       "\n",
       "    .dataframe thead th {\n",
       "        text-align: right;\n",
       "    }\n",
       "</style>\n",
       "<table border=\"1\" class=\"dataframe\">\n",
       "  <thead>\n",
       "    <tr style=\"text-align: right;\">\n",
       "      <th></th>\n",
       "      <th></th>\n",
       "      <th>operation_id</th>\n",
       "    </tr>\n",
       "    <tr>\n",
       "      <th>type_operation</th>\n",
       "      <th>vent_force</th>\n",
       "      <th></th>\n",
       "    </tr>\n",
       "  </thead>\n",
       "  <tbody>\n",
       "    <tr>\n",
       "      <th rowspan=\"6\" valign=\"top\">DIV</th>\n",
       "      <th>0.0</th>\n",
       "      <td>463</td>\n",
       "    </tr>\n",
       "    <tr>\n",
       "      <th>1.0</th>\n",
       "      <td>593</td>\n",
       "    </tr>\n",
       "    <tr>\n",
       "      <th>2.0</th>\n",
       "      <td>1567</td>\n",
       "    </tr>\n",
       "    <tr>\n",
       "      <th>3.0</th>\n",
       "      <td>2136</td>\n",
       "    </tr>\n",
       "    <tr>\n",
       "      <th>4.0</th>\n",
       "      <td>2057</td>\n",
       "    </tr>\n",
       "    <tr>\n",
       "      <th>5.0</th>\n",
       "      <td>961</td>\n",
       "    </tr>\n",
       "  </tbody>\n",
       "</table>\n",
       "</div>"
      ],
      "text/plain": [
       "                           operation_id\n",
       "type_operation vent_force              \n",
       "DIV            0.0                  463\n",
       "               1.0                  593\n",
       "               2.0                 1567\n",
       "               3.0                 2136\n",
       "               4.0                 2057\n",
       "               5.0                  961"
      ]
     },
     "execution_count": 10,
     "metadata": {},
     "output_type": "execute_result"
    }
   ],
   "source": [
    "df = df_operations.reset_index().groupby(['type_operation','vent_force']).agg({'operation_id':'nunique'})\n",
    "df.head(6)"
   ]
  },
  {
   "cell_type": "code",
   "execution_count": 11,
   "metadata": {},
   "outputs": [
    {
     "data": {
      "text/plain": [
       "<matplotlib.axes._subplots.AxesSubplot at 0x7fb037938c18>"
      ]
     },
     "execution_count": 11,
     "metadata": {},
     "output_type": "execute_result"
    },
    {
     "data": {
      "image/png": "[encoded data removed]",
      "text/plain": [
       "<Figure size 432x288 with 1 Axes>"
      ]
     },
     "metadata": {
      "needs_background": "light"
     },
     "output_type": "display_data"
    }
   ],
   "source": [
    "#plot_bar(df)\n",
    "df = df_operations.reset_index().groupby(['type_operation','vent_force']).agg({'operation_id':'nunique'})\n",
    "#df = df.unstack('type_operation')\n",
    "sns.barplot(x='vent_force',y='operation_id',hue='type_operation',data=df.reset_index())\n",
    "#df"
   ]
  },
  {
   "cell_type": "markdown",
   "metadata": {
    "colab_type": "text",
    "id": "m7Sso5TEbE5w"
   },
   "source": [
    "On remarque une distribution Gaussienne pour tout type d'opération."
   ]
  },
  {
   "cell_type": "markdown",
   "metadata": {
    "colab_type": "text",
    "id": "k1qXk8cdbE5x"
   },
   "source": [
    "## Question 4: Quel est le nombre de personnes impliquées dans une fausse alerte ? (en pourcentage du nombre de personnes total)"
   ]
  },
  {
   "cell_type": "markdown",
   "metadata": {
    "colab_type": "text",
    "id": "W8mpsTOnj_lh"
   },
   "source": [
    "**Elements de réponse**\n",
    "\n",
    "*  Pour compter le nombre de chaque modalité dans la base de données, on peut utiliser value_counts() de pandas.\n",
    "*  Penser à filtrer les données sur \"Personne impliquée dans fausse alerte\" avant de calculer le pourcentage\n",
    "*  Le format du % affiché est le suivant : {:.2f}%\n"
   ]
  },
  {
   "cell_type": "code",
   "execution_count": 12,
   "metadata": {
    "colab": {},
    "colab_type": "code",
    "id": "xFYkR2VmbE5y",
    "outputId": "23783cc5-2bbd-498f-b724-015c13ffa69f"
   },
   "outputs": [
    {
     "data": {
      "text/html": [
       "<div>\n",
       "<style scoped>\n",
       "    .dataframe tbody tr th:only-of-type {\n",
       "        vertical-align: middle;\n",
       "    }\n",
       "\n",
       "    .dataframe tbody tr th {\n",
       "        vertical-align: top;\n",
       "    }\n",
       "\n",
       "    .dataframe thead th {\n",
       "        text-align: right;\n",
       "    }\n",
       "</style>\n",
       "<table border=\"1\" class=\"dataframe\">\n",
       "  <thead>\n",
       "    <tr style=\"text-align: right;\">\n",
       "      <th></th>\n",
       "      <th>type_operation</th>\n",
       "      <th>pourquoi_alerte</th>\n",
       "      <th>moyen_alerte</th>\n",
       "      <th>qui_alerte</th>\n",
       "      <th>categorie_qui_alerte</th>\n",
       "      <th>cross</th>\n",
       "      <th>departement</th>\n",
       "      <th>est_metropolitain</th>\n",
       "      <th>evenement</th>\n",
       "      <th>categorie_evenement</th>\n",
       "      <th>autorite</th>\n",
       "      <th>seconde_autorite</th>\n",
       "      <th>zone_responsabilite</th>\n",
       "      <th>latitude</th>\n",
       "      <th>longitude</th>\n",
       "      <th>vent_direction</th>\n",
       "      <th>vent_direction_categorie</th>\n",
       "      <th>vent_force</th>\n",
       "      <th>mer_force</th>\n",
       "      <th>date_heure_reception_alerte</th>\n",
       "      <th>date_heure_fin_operation</th>\n",
       "      <th>numero_sitrep</th>\n",
       "      <th>cross_sitrep</th>\n",
       "      <th>fuseau_horaire</th>\n",
       "    </tr>\n",
       "    <tr>\n",
       "      <th>operation_id</th>\n",
       "      <th></th>\n",
       "      <th></th>\n",
       "      <th></th>\n",
       "      <th></th>\n",
       "      <th></th>\n",
       "      <th></th>\n",
       "      <th></th>\n",
       "      <th></th>\n",
       "      <th></th>\n",
       "      <th></th>\n",
       "      <th></th>\n",
       "      <th></th>\n",
       "      <th></th>\n",
       "      <th></th>\n",
       "      <th></th>\n",
       "      <th></th>\n",
       "      <th></th>\n",
       "      <th></th>\n",
       "      <th></th>\n",
       "      <th></th>\n",
       "      <th></th>\n",
       "      <th></th>\n",
       "      <th></th>\n",
       "      <th></th>\n",
       "    </tr>\n",
       "  </thead>\n",
       "  <tbody>\n",
       "    <tr>\n",
       "      <th>-114837</th>\n",
       "      <td>SAR</td>\n",
       "      <td>NaN</td>\n",
       "      <td>Téléphone mobile à terre</td>\n",
       "      <td>Témoin</td>\n",
       "      <td>Organisme ou personne privée</td>\n",
       "      <td>Jobourg</td>\n",
       "      <td>Calvados</td>\n",
       "      <td>True</td>\n",
       "      <td>Toutes fausses alertes</td>\n",
       "      <td>Fausses alertes</td>\n",
       "      <td>Préfet maritime</td>\n",
       "      <td>NaN</td>\n",
       "      <td>Plage et 300 mètres</td>\n",
       "      <td>49.3910</td>\n",
       "      <td>-1.0455</td>\n",
       "      <td>80.0</td>\n",
       "      <td>est</td>\n",
       "      <td>5.0</td>\n",
       "      <td>3.0</td>\n",
       "      <td>2019-10-28T15:54:00Z</td>\n",
       "      <td>2019-10-28T16:27:00Z</td>\n",
       "      <td>1210</td>\n",
       "      <td>Jobourg 2019/1210</td>\n",
       "      <td>Europe/Paris</td>\n",
       "    </tr>\n",
       "    <tr>\n",
       "      <th>-114830</th>\n",
       "      <td>DIV</td>\n",
       "      <td>NaN</td>\n",
       "      <td>VHF ASN</td>\n",
       "      <td>Sémaphore</td>\n",
       "      <td>Autorité militaire française à terre</td>\n",
       "      <td>Jobourg</td>\n",
       "      <td>Manche</td>\n",
       "      <td>True</td>\n",
       "      <td>Toutes fausses alertes</td>\n",
       "      <td>Fausses alertes</td>\n",
       "      <td>Préfet maritime</td>\n",
       "      <td>NaN</td>\n",
       "      <td>Port et accès</td>\n",
       "      <td>49.6470</td>\n",
       "      <td>-1.6222</td>\n",
       "      <td>90.0</td>\n",
       "      <td>est</td>\n",
       "      <td>3.0</td>\n",
       "      <td>2.0</td>\n",
       "      <td>2019-10-28T08:33:00Z</td>\n",
       "      <td>2019-10-28T12:41:00Z</td>\n",
       "      <td>1205</td>\n",
       "      <td>Jobourg 2019/1205</td>\n",
       "      <td>Europe/Paris</td>\n",
       "    </tr>\n",
       "    <tr>\n",
       "      <th>-114810</th>\n",
       "      <td>SAR</td>\n",
       "      <td>NaN</td>\n",
       "      <td>Balise de détresse</td>\n",
       "      <td>Navire de plaisance</td>\n",
       "      <td>Navire à la mer</td>\n",
       "      <td>Étel</td>\n",
       "      <td>Finistère</td>\n",
       "      <td>True</td>\n",
       "      <td>Toutes fausses alertes</td>\n",
       "      <td>Fausses alertes</td>\n",
       "      <td>Préfet maritime</td>\n",
       "      <td>NaN</td>\n",
       "      <td>Eaux territoriales</td>\n",
       "      <td>47.7317</td>\n",
       "      <td>-3.9845</td>\n",
       "      <td>81.0</td>\n",
       "      <td>est</td>\n",
       "      <td>5.0</td>\n",
       "      <td>3.0</td>\n",
       "      <td>2019-10-28T06:37:00Z</td>\n",
       "      <td>2019-10-28T07:35:00Z</td>\n",
       "      <td>3161</td>\n",
       "      <td>Étel 2019/3161</td>\n",
       "      <td>Europe/Paris</td>\n",
       "    </tr>\n",
       "  </tbody>\n",
       "</table>\n",
       "</div>"
      ],
      "text/plain": [
       "             type_operation pourquoi_alerte              moyen_alerte  \\\n",
       "operation_id                                                            \n",
       "-114837                 SAR             NaN  Téléphone mobile à terre   \n",
       "-114830                 DIV             NaN                   VHF ASN   \n",
       "-114810                 SAR             NaN        Balise de détresse   \n",
       "\n",
       "                       qui_alerte                  categorie_qui_alerte  \\\n",
       "operation_id                                                              \n",
       "-114837                    Témoin          Organisme ou personne privée   \n",
       "-114830                 Sémaphore  Autorité militaire française à terre   \n",
       "-114810       Navire de plaisance                       Navire à la mer   \n",
       "\n",
       "                cross departement est_metropolitain               evenement  \\\n",
       "operation_id                                                                  \n",
       "-114837       Jobourg    Calvados              True  Toutes fausses alertes   \n",
       "-114830       Jobourg      Manche              True  Toutes fausses alertes   \n",
       "-114810          Étel   Finistère              True  Toutes fausses alertes   \n",
       "\n",
       "             categorie_evenement         autorite seconde_autorite  \\\n",
       "operation_id                                                         \n",
       "-114837          Fausses alertes  Préfet maritime              NaN   \n",
       "-114830          Fausses alertes  Préfet maritime              NaN   \n",
       "-114810          Fausses alertes  Préfet maritime              NaN   \n",
       "\n",
       "              zone_responsabilite  latitude  longitude  vent_direction  \\\n",
       "operation_id                                                             \n",
       "-114837       Plage et 300 mètres   49.3910    -1.0455            80.0   \n",
       "-114830             Port et accès   49.6470    -1.6222            90.0   \n",
       "-114810        Eaux territoriales   47.7317    -3.9845            81.0   \n",
       "\n",
       "             vent_direction_categorie  vent_force  mer_force  \\\n",
       "operation_id                                                   \n",
       "-114837                           est         5.0        3.0   \n",
       "-114830                           est         3.0        2.0   \n",
       "-114810                           est         5.0        3.0   \n",
       "\n",
       "             date_heure_reception_alerte date_heure_fin_operation  \\\n",
       "operation_id                                                        \n",
       "-114837             2019-10-28T15:54:00Z     2019-10-28T16:27:00Z   \n",
       "-114830             2019-10-28T08:33:00Z     2019-10-28T12:41:00Z   \n",
       "-114810             2019-10-28T06:37:00Z     2019-10-28T07:35:00Z   \n",
       "\n",
       "              numero_sitrep       cross_sitrep fuseau_horaire  \n",
       "operation_id                                                   \n",
       "-114837                1210  Jobourg 2019/1210   Europe/Paris  \n",
       "-114830                1205  Jobourg 2019/1205   Europe/Paris  \n",
       "-114810                3161     Étel 2019/3161   Europe/Paris  "
      ]
     },
     "execution_count": 12,
     "metadata": {},
     "output_type": "execute_result"
    }
   ],
   "source": [
    "#df_operations.evenement.value_counts()\n",
    "df_operations[df_operations['evenement'] == 'Toutes fausses alertes'].head(3)"
   ]
  },
  {
   "cell_type": "code",
   "execution_count": 13,
   "metadata": {},
   "outputs": [
    {
     "name": "stdout",
     "output_type": "stream",
     "text": [
      "Il y a 6.09% de personnes impliquées dans de fausses alertes\n"
     ]
    }
   ],
   "source": [
    "result = (df_resultats\n",
    "          [df_resultats['resultat_humain']=='Personne impliquée dans fausse alerte']\n",
    "          .nombre.sum()\n",
    "          /df_resultats\n",
    "          .nombre.sum())\n",
    "\n",
    "print('Il y a ' + '{:.2f}%'.format(result*100) + ' de personnes impliquées dans de fausses alertes')"
   ]
  },
  {
   "cell_type": "markdown",
   "metadata": {
    "colab_type": "text",
    "id": "Ed5pUsLebE53"
   },
   "source": [
    "## Question 5: Réaliser un tableau croisé dynamique entre le type d’opération et la zone de responsabilité ?  Quel est le pourcentage d’opérations situés en plage de 300m sont des opérations MAS"
   ]
  },
  {
   "cell_type": "markdown",
   "metadata": {
    "colab_type": "text",
    "id": "W8mpsTOnj_lh"
   },
   "source": [
    " **Elements de réponse**\n",
    "\n",
    "*  Pour réaliser le pivot, on peut utiliser crosstab() de pandas.\n",
    "\n",
    "*  Utiliser apply() pour calculer le pourcentage\n",
    "*  Utiliser *print()* pour afficher le résultat\n",
    "*  Le format du % affiché est le suivant : {:.2f}%\n"
   ]
  },
  {
   "cell_type": "code",
   "execution_count": 14,
   "metadata": {
    "ExecuteTime": {
     "end_time": "2019-11-04T10:08:52.175158Z",
     "start_time": "2019-11-04T10:08:52.105133Z"
    },
    "colab": {},
    "colab_type": "code",
    "id": "ZsoZ3I_dbE54",
    "outputId": "9694bbea-8f85-46ba-fdd3-85eb8c6e4ea7",
    "scrolled": true
   },
   "outputs": [
    {
     "data": {
      "text/html": [
       "<div>\n",
       "<style scoped>\n",
       "    .dataframe tbody tr th:only-of-type {\n",
       "        vertical-align: middle;\n",
       "    }\n",
       "\n",
       "    .dataframe tbody tr th {\n",
       "        vertical-align: top;\n",
       "    }\n",
       "\n",
       "    .dataframe thead tr th {\n",
       "        text-align: left;\n",
       "    }\n",
       "\n",
       "    .dataframe thead tr:last-of-type th {\n",
       "        text-align: right;\n",
       "    }\n",
       "</style>\n",
       "<table border=\"1\" class=\"dataframe\">\n",
       "  <thead>\n",
       "    <tr>\n",
       "      <th></th>\n",
       "      <th colspan=\"5\" halign=\"left\">operation_id</th>\n",
       "    </tr>\n",
       "    <tr>\n",
       "      <th>zone_responsabilite</th>\n",
       "      <th>Eaux territoriales</th>\n",
       "      <th>Plage et 300 mètres</th>\n",
       "      <th>Port et accès</th>\n",
       "      <th>Responsabilité française</th>\n",
       "      <th>Responsabilité étrangère</th>\n",
       "    </tr>\n",
       "    <tr>\n",
       "      <th>type_operation</th>\n",
       "      <th></th>\n",
       "      <th></th>\n",
       "      <th></th>\n",
       "      <th></th>\n",
       "      <th></th>\n",
       "    </tr>\n",
       "  </thead>\n",
       "  <tbody>\n",
       "    <tr>\n",
       "      <th>DIV</th>\n",
       "      <td>0.106169</td>\n",
       "      <td>0.222510</td>\n",
       "      <td>0.309925</td>\n",
       "      <td>0.125212</td>\n",
       "      <td>0.151367</td>\n",
       "    </tr>\n",
       "    <tr>\n",
       "      <th>MAS</th>\n",
       "      <td>0.454561</td>\n",
       "      <td>0.230076</td>\n",
       "      <td>0.267509</td>\n",
       "      <td>0.301897</td>\n",
       "      <td>0.059863</td>\n",
       "    </tr>\n",
       "    <tr>\n",
       "      <th>SAR</th>\n",
       "      <td>0.438120</td>\n",
       "      <td>0.546120</td>\n",
       "      <td>0.419101</td>\n",
       "      <td>0.565411</td>\n",
       "      <td>0.754102</td>\n",
       "    </tr>\n",
       "    <tr>\n",
       "      <th>SUR</th>\n",
       "      <td>0.001149</td>\n",
       "      <td>0.001294</td>\n",
       "      <td>0.003464</td>\n",
       "      <td>0.007481</td>\n",
       "      <td>0.034668</td>\n",
       "    </tr>\n",
       "  </tbody>\n",
       "</table>\n",
       "</div>"
      ],
      "text/plain": [
       "                          operation_id                                    \\\n",
       "zone_responsabilite Eaux territoriales Plage et 300 mètres Port et accès   \n",
       "type_operation                                                             \n",
       "DIV                           0.106169            0.222510      0.309925   \n",
       "MAS                           0.454561            0.230076      0.267509   \n",
       "SAR                           0.438120            0.546120      0.419101   \n",
       "SUR                           0.001149            0.001294      0.003464   \n",
       "\n",
       "                                                                       \n",
       "zone_responsabilite Responsabilité française Responsabilité étrangère  \n",
       "type_operation                                                         \n",
       "DIV                                 0.125212                 0.151367  \n",
       "MAS                                 0.301897                 0.059863  \n",
       "SAR                                 0.565411                 0.754102  \n",
       "SUR                                 0.007481                 0.034668  "
      ]
     },
     "execution_count": 14,
     "metadata": {},
     "output_type": "execute_result"
    }
   ],
   "source": [
    "df_operations.head(5)\n",
    "df = (df_operations.reset_index()[['operation_id','zone_responsabilite','type_operation']]\n",
    "      .pivot_table(index=['type_operation'], columns=['zone_responsabilite'], aggfunc='nunique'))\n",
    "df = df.apply(lambda x: x/sum(x))\n",
    "df \n",
    "#print(' ' + '{:.2f}%'.format(df['type_operation'='MAS']))"
   ]
  },
  {
   "cell_type": "markdown",
   "metadata": {
    "colab_type": "text",
    "id": "_Y9p_hotbE57"
   },
   "source": [
    "## Question 6 : Quel est le nombre total d’opérations depuis 2010 ?"
   ]
  },
  {
   "cell_type": "markdown",
   "metadata": {
    "colab_type": "text",
    "id": "6LdBcrAvlGJP"
   },
   "source": [
    "**Elements de réponse**\n",
    "\n",
    "*   Ici on travaille avec les données de type date.\n",
    "*   Pour convertir en type date, on pourra utiliser pd.to_datetime()\n",
    "\n",
    "*   Pour extraire une unité de temps spécifique d'une donnée de type date, on pourra utiliser en pandas l'attribut .dt. Exemple : pour extraire l'année, on pourra faire : \n",
    "\n",
    "```\n",
    ".dt.year\n",
    "```\n",
    "\n",
    "\n",
    " "
   ]
  },
  {
   "cell_type": "code",
   "execution_count": 15,
   "metadata": {},
   "outputs": [],
   "source": [
    "df_operations[\"date_heure_reception_alerte\"] = pd.to_datetime(df_operations.date_heure_reception_alerte)"
   ]
  },
  {
   "cell_type": "code",
   "execution_count": 16,
   "metadata": {
    "colab": {},
    "colab_type": "code",
    "id": "is48AUrgbE58",
    "outputId": "f9a9b5dd-f351-437e-9bdd-b8efded80b6c"
   },
   "outputs": [
    {
     "data": {
      "text/plain": [
       "108679"
      ]
     },
     "execution_count": 16,
     "metadata": {},
     "output_type": "execute_result"
    }
   ],
   "source": [
    "len(df_operations[df_operations.date_heure_reception_alerte.dt.year >= 2010])"
   ]
  },
  {
   "cell_type": "markdown",
   "metadata": {
    "colab_type": "text",
    "id": "iDP76veTbE5-"
   },
   "source": [
    "## Question 7 : Observez-vous une augmentation du nombre d’opérations ces dernières années ? Si oui, donnez un chiffre ?"
   ]
  },
  {
   "cell_type": "markdown",
   "metadata": {
    "colab_type": "text",
    "id": "PBimHl2UmB3R"
   },
   "source": [
    "**Elements de réponse**\n",
    "\n",
    "* Pour observer l'augmentation du nombre d'opérations en fonction d'année, on va tracer une série temporelle. On pourra utiliser le countplot de seaborn.\n",
    "* (avancé) pour mettre en évidence cette augmentation, on pourra mettre en place une régression linéaire avec l'outil de scikit-learn.\n",
    "\n",
    "\n",
    "\n",
    "\n",
    " "
   ]
  },
  {
   "cell_type": "code",
   "execution_count": 17,
   "metadata": {
    "colab": {},
    "colab_type": "code",
    "id": "jKtCUxMEbE5_",
    "outputId": "aa2430d1-18d1-4f66-fc0d-edc18a742627",
    "scrolled": true
   },
   "outputs": [
    {
     "data": {
      "text/plain": [
       "<matplotlib.axes._subplots.AxesSubplot at 0x7fb022ac00b8>"
      ]
     },
     "execution_count": 17,
     "metadata": {},
     "output_type": "execute_result"
    },
    {
     "data": {
      "image/png": "[encoded data removed]",
      "text/plain": [
       "<Figure size 1440x360 with 1 Axes>"
      ]
     },
     "metadata": {
      "needs_background": "light"
     },
     "output_type": "display_data"
    }
   ],
   "source": [
    "df = df_operations.reset_index()\n",
    "df.date_heure_reception_alerte = df.date_heure_reception_alerte.dt.year\n",
    "\n",
    "fig, ax = plt.subplots(figsize=(20,5))\n",
    "sns.countplot(x='date_heure_reception_alerte', data=df, ax=ax)"
   ]
  },
  {
   "cell_type": "markdown",
   "metadata": {
    "colab_type": "text",
    "id": "MUW60rTIbE6D"
   },
   "source": [
    "On observe une augmentation du nombre d'opérations ces dernières années."
   ]
  },
  {
   "cell_type": "markdown",
   "metadata": {
    "colab_type": "text",
    "id": "eBxCAamBbE6G"
   },
   "source": [
    "**Regression**"
   ]
  },
  {
   "cell_type": "markdown",
   "metadata": {
    "colab_type": "text",
    "id": "1tDDEqedbE6H"
   },
   "source": [
    "On pourrait se contenter du Python pour faire la régression linéaire mais ici on va utiliser la bibliothèque ScikitLearn pour cela en quelques lignes de code.\n",
    "\n",
    "**Scikit-learn** est une bibliothèque libre Python destinée à l'apprentissage automatique. Elle est développée par de nombreux contributeurs notamment dans le monde académique par des instituts français d'enseignement supérieur et de recherche comme Inria et Télécom ParisTech. \n",
    "\n",
    "Elle est une des bibliothèques favorites parmi les data scientists pour effectuer la modélisation sur les donneés.\n",
    "\n",
    "Réference : https://scikit-learn.org/stable/"
   ]
  },
  {
   "cell_type": "code",
   "execution_count": 18,
   "metadata": {},
   "outputs": [],
   "source": [
    "#fig, ax = plt.subplots(figsize=(20,5))\n",
    "df_year = df.groupby('date_heure_reception_alerte').agg({'operation_id':'nunique'}).reset_index()\n",
    "\n",
    "#plt.bar(df_year.date_heure_reception_alerte,df_year.operation_id, ax=ax)"
   ]
  },
  {
   "cell_type": "code",
   "execution_count": 19,
   "metadata": {
    "colab": {},
    "colab_type": "code",
    "id": "yVl9nOcebE6I"
   },
   "outputs": [
    {
     "name": "stdout",
     "output_type": "stream",
     "text": [
      "Coefficients: \n",
      " [234.26486486]\n"
     ]
    },
    {
     "data": {
      "text/plain": [
       "[<matplotlib.lines.Line2D at 0x7fb0212a75f8>]"
      ]
     },
     "execution_count": 19,
     "metadata": {},
     "output_type": "execute_result"
    },
    {
     "data": {
      "image/png": "[encoded data removed]",
      "text/plain": [
       "<Figure size 432x288 with 1 Axes>"
      ]
     },
     "metadata": {
      "needs_background": "light"
     },
     "output_type": "display_data"
    }
   ],
   "source": [
    "df_year = df.groupby('date_heure_reception_alerte').agg({'operation_id':'nunique'}).reset_index()\n",
    "lr = LinearRegression()\n",
    "X = df_year[['date_heure_reception_alerte']]\n",
    "y = df_year['operation_id']\n",
    "\n",
    "lr.fit(X,y)\n",
    "print('Coefficients: \\n', lr.coef_)\n",
    "\n",
    "y_pred = lr.predict(X)\n",
    "\n",
    "plt.plot(X, y_pred, color='blue', linewidth=3)"
   ]
  },
  {
   "cell_type": "markdown",
   "metadata": {
    "colab_type": "text",
    "id": "UAq8w7vtbE6P"
   },
   "source": [
    "## Question 8 : Y-a-t’il une augmentation du nombre d’opérations impliquant un kitesurf en jour et en année?\n"
   ]
  },
  {
   "cell_type": "markdown",
   "metadata": {
    "colab_type": "text",
    "id": "ukWWHaa4nEcI"
   },
   "source": [
    "**Elements de réponse**\n",
    "\n",
    "*   On fusionne d'abord les données des opérations (df_operations) et des flotteurs (df_flotteurs) avec merge() de pandas par index\n",
    "*   On sélectionne les données n'impliquant que le kitesurf\n",
    "*   On fait un regroupement en unité de temps avec groupby puis on agrège les données en comptant les occurences agg(\"count\")\n",
    "\n",
    "\n",
    "\n",
    " "
   ]
  },
  {
   "cell_type": "markdown",
   "metadata": {
    "colab_type": "text",
    "id": "zKlJq2fYbE6Q"
   },
   "source": [
    "On fusionne les données df_flotteurs et df_operations par index."
   ]
  },
  {
   "cell_type": "code",
   "execution_count": 20,
   "metadata": {},
   "outputs": [
    {
     "data": {
      "text/plain": [
       "<matplotlib.axes._subplots.AxesSubplot at 0x7fb013899780>"
      ]
     },
     "execution_count": 20,
     "metadata": {},
     "output_type": "execute_result"
    },
    {
     "data": {
      "image/png": "[encoded data removed]",
      "text/plain": [
       "<Figure size 432x288 with 1 Axes>"
      ]
     },
     "metadata": {
      "needs_background": "light"
     },
     "output_type": "display_data"
    }
   ],
   "source": [
    "df_merged = pd.merge(df_operations,df_flotteurs, right_index=True, left_index=True)\n",
    "df_merged = df_merged[df_merged['type_flotteur']=='Kitesurf'].reset_index()\n",
    "\n",
    "(df_merged\n",
    " .groupby(pd.Grouper(key='date_heure_reception_alerte', freq='1y'))\n",
    " .agg({'operation_id':'nunique'})\n",
    " .plot())"
   ]
  },
  {
   "cell_type": "code",
   "execution_count": 21,
   "metadata": {},
   "outputs": [
    {
     "data": {
      "text/plain": [
       "<matplotlib.axes._subplots.AxesSubplot at 0x7fb00ed15c18>"
      ]
     },
     "execution_count": 21,
     "metadata": {},
     "output_type": "execute_result"
    },
    {
     "data": {
      "image/png": "[encoded data removed]",
      "text/plain": [
       "<Figure size 1440x360 with 1 Axes>"
      ]
     },
     "metadata": {
      "needs_background": "light"
     },
     "output_type": "display_data"
    }
   ],
   "source": [
    "df_merged = pd.merge(df_operations,df_flotteurs, right_index=True, left_index=True)\n",
    "df_merged = df_merged[df_merged['type_flotteur']=='Kitesurf'].reset_index()\n",
    "\n",
    "fig, ax = plt.subplots(figsize=(20,5))\n",
    "\n",
    "(df_merged\n",
    " .groupby(pd.Grouper(key='date_heure_reception_alerte', freq='1d'))\n",
    " .agg({'operation_id':'nunique'})\n",
    " .plot(ax=ax))"
   ]
  },
  {
   "cell_type": "markdown",
   "metadata": {
    "colab_type": "text",
    "id": "KTCj8inbbE6a"
   },
   "source": [
    "La réponse dépend de la granularité, avec une granularité fine (en fonction du jour), on ne peut pas répondre à cette question, mais avec une granularité plus grossière, on voit une augmentation d'opérations impliquant un kitesurf. \n"
   ]
  },
  {
   "cell_type": "markdown",
   "metadata": {
    "colab_type": "text",
    "id": "qrAvjjtGbE6b"
   },
   "source": [
    "## Question 9 : Sur les années 2017-2018, tracer l’évolution du nombre d’opérations. Observez-vous une saisonnalité ? La saisonnalité est-elle différente pour les DOMTOM et France Métropolitaine?"
   ]
  },
  {
   "cell_type": "markdown",
   "metadata": {
    "colab_type": "text",
    "id": "yg2ZRRmCpFLY"
   },
   "source": [
    "**Elements de réponse**\n",
    "\n",
    "*   On convertit les données temporelles en datetime\n",
    "*   On fait un choix des données des années 2017-2018\n",
    "*   On regroupe les données par département et par date puis on aggrège en comptant les occurences des opérations\n",
    "*   On trace une première série temporelle du nombre d'opérations en incluant tous les départements \n",
    "*   Ensuite on trace des séries temporelles des données en DOMTOM et hors DOMTOM pour comparer leur évolution.\n",
    "\n",
    "*   La liste des DOMTOMs:\n",
    "```\n",
    "domtom = [\"Martinique\", \"Polynésie\", \"Guadeloupe\", \"Mayotte\",\n",
    "    \"Collectivité de Saint-Barthélemy\", \"Collectivité de Saint-Martin\",\n",
    "    \"Polynésie\", \"Nouvelle-Calédonie\", \"Guyane\", \"Réunion\",\n",
    "    \"Saint-Pierre-et-Miquelon\"]\n",
    "```\n",
    "\n",
    "\n",
    "\n",
    "\n"
   ]
  },
  {
   "cell_type": "code",
   "execution_count": 22,
   "metadata": {
    "colab": {},
    "colab_type": "code",
    "id": "WZofUaMbbE6c"
   },
   "outputs": [
    {
     "data": {
      "text/html": [
       "<div>\n",
       "<style scoped>\n",
       "    .dataframe tbody tr th:only-of-type {\n",
       "        vertical-align: middle;\n",
       "    }\n",
       "\n",
       "    .dataframe tbody tr th {\n",
       "        vertical-align: top;\n",
       "    }\n",
       "\n",
       "    .dataframe thead th {\n",
       "        text-align: right;\n",
       "    }\n",
       "</style>\n",
       "<table border=\"1\" class=\"dataframe\">\n",
       "  <thead>\n",
       "    <tr style=\"text-align: right;\">\n",
       "      <th></th>\n",
       "      <th>operation_id</th>\n",
       "    </tr>\n",
       "    <tr>\n",
       "      <th>departement</th>\n",
       "      <th></th>\n",
       "    </tr>\n",
       "  </thead>\n",
       "  <tbody>\n",
       "    <tr>\n",
       "      <th>Alpes-Maritimes</th>\n",
       "      <td>848</td>\n",
       "    </tr>\n",
       "    <tr>\n",
       "      <th>Aude</th>\n",
       "      <td>214</td>\n",
       "    </tr>\n",
       "    <tr>\n",
       "      <th>Bouches-du-Rhône</th>\n",
       "      <td>972</td>\n",
       "    </tr>\n",
       "    <tr>\n",
       "      <th>Calvados</th>\n",
       "      <td>527</td>\n",
       "    </tr>\n",
       "    <tr>\n",
       "      <th>Charente-Maritime</th>\n",
       "      <td>868</td>\n",
       "    </tr>\n",
       "  </tbody>\n",
       "</table>\n",
       "</div>"
      ],
      "text/plain": [
       "                   operation_id\n",
       "departement                    \n",
       "Alpes-Maritimes             848\n",
       "Aude                        214\n",
       "Bouches-du-Rhône            972\n",
       "Calvados                    527\n",
       "Charente-Maritime           868"
      ]
     },
     "execution_count": 22,
     "metadata": {},
     "output_type": "execute_result"
    }
   ],
   "source": [
    "df_operations[\"date_heure_reception_alerte\"] = pd.to_datetime(df_operations.date_heure_reception_alerte)\n",
    "df_operations['year'] =  df_operations['date_heure_reception_alerte'].dt.year\n",
    "df_operations_2017_2018 =  df_operations[df_operations['year'].isin([2017,2018])].reset_index()\n",
    "\n",
    "df_operations_2017_2018.groupby('departement').agg({'operation_id':'nunique'}).head(5)"
   ]
  },
  {
   "cell_type": "code",
   "execution_count": 24,
   "metadata": {},
   "outputs": [
    {
     "data": {
      "text/plain": [
       "<matplotlib.axes._subplots.AxesSubplot at 0x7fb058a44eb8>"
      ]
     },
     "execution_count": 24,
     "metadata": {},
     "output_type": "execute_result"
    },
    {
     "data": {
      "image/png": "[encoded data removed]",
      "text/plain": [
       "<Figure size 1440x360 with 1 Axes>"
      ]
     },
     "metadata": {
      "needs_background": "light"
     },
     "output_type": "display_data"
    }
   ],
   "source": [
    "domtom = [\"Martinique\", \"Polynésie\", \"Guadeloupe\", \"Mayotte\",\n",
    "    \"Collectivité de Saint-Barthélemy\", \"Collectivité de Saint-Martin\",\n",
    "    \"Polynésie\", \"Nouvelle-Calédonie\", \"Guyane\", \"Réunion\",\n",
    "    \"Saint-Pierre-et-Miquelon\"]\n",
    "\n",
    "df_operations_2017_2018['is_domtom'] = (df_operations_2017_2018\n",
    "                                        .apply(lambda x: 1 if x.departement in domtom else 0,axis=1))\n",
    "\n",
    "fig, ax = plt.subplots(figsize=(20,5))\n",
    "plt.yscale('log')\n",
    "\n",
    "(df_operations_2017_2018\n",
    " .groupby(pd.Grouper(key='date_heure_reception_alerte', freq='1d'))\n",
    " .agg({'operation_id':'nunique'})\n",
    " .rename(columns={'operation_id':'Global'})\n",
    " .plot(ax=ax))\n",
    "\n",
    "(df_operations_2017_2018[df_operations_2017_2018['departement'].isin(domtom)]\n",
    " .groupby(pd.Grouper(key='date_heure_reception_alerte', freq='1d'))\n",
    " .agg({'operation_id':'nunique'})\n",
    " .rename(columns={'operation_id':'Dom-Tom'})\n",
    " .plot(ax=ax))"
   ]
  },
  {
   "cell_type": "markdown",
   "metadata": {
    "colab_type": "text",
    "id": "jwyNK5NxbE6o"
   },
   "source": [
    "La figure pour comparer les deux séries temporelles (DOM-TOM et le reste) sont tracés en log pour une meilleure visibilité.\n"
   ]
  },
  {
   "cell_type": "markdown",
   "metadata": {
    "ExecuteTime": {
     "end_time": "2019-10-30T19:17:59.300267Z",
     "start_time": "2019-10-30T19:17:59.295255Z"
    },
    "colab_type": "text",
    "id": "pjQ1nhsMbE6r"
   },
   "source": [
    "## Question 10 : Mettre à jour l’infographie du ministère pour 2019"
   ]
  },
  {
   "cell_type": "markdown",
   "metadata": {},
   "source": [
    "## Question Bonus\n",
    "### Contexte\n",
    "La Direction des Affaires Maritimes (DAM) souhaite anticiper les opérations qui sont susceptibles d'être graves (proxy target: *dont_nombre_blesse*>0 ) afin de pouvoir déployer plus de moyens pour ce type d'opérations de sauvetage. Comme solution, vous proposez de développer un modèle de classification. Votre interlocuteur est lui-même un data scientist, il souhaiterait que vous lui mettiez en place toute l'approche de modélisation. \n",
    "\n",
    "### Métrique d'évaluation\n",
    "Pour juger la performance du modèle, il impose la métrique F1 car il souhaite limiter la réponse aux fausses alertes et ne souhaite pas passer à côté des cas graves. \n",
    "\n",
    "### Train et Test set\n",
    "Vous devez impérativement utiliser les indices suivants pour constituer votre train et test set:\n",
    "- __train_set__ : train_index.json\n",
    "- __test_set__ : test_index.json\n",
    "\n",
    "```\n",
    "import json\n",
    "with open('data/train_index.json') as json_file:\n",
    "    train_set_index = json.load(json_file)\n",
    "\n",
    "with open('data/test_index.json') as json_file:\n",
    "    test_set_index = json.load(json_file)\n",
    "```"
   ]
  },
  {
   "cell_type": "code",
   "execution_count": 25,
   "metadata": {},
   "outputs": [],
   "source": [
    "import json\n",
    "with open('data/train_index.json') as json_file:\n",
    "    train_set_index = json.load(json_file)\n",
    "\n",
    "with open('data/test_index.json') as json_file:\n",
    "    test_set_index = json.load(json_file)\n",
    "    \n"
   ]
  },
  {
   "cell_type": "markdown",
   "metadata": {
    "colab_type": "text",
    "id": "Re3uaTGFbE6u"
   },
   "source": [
    "<img src=\"18034_infographie_sauver-des-vies-en-mer.png\" style=\"width:400px;\"/>"
   ]
  }
 ],
 "metadata": {
  "colab": {
   "collapsed_sections": [],
   "name": "Exemple CROSS_LEE_v2.ipynb",
   "provenance": []
  },
  "kernelspec": {
   "display_name": "Python 3",
   "language": "python",
   "name": "python3"
  },
  "language_info": {
   "codemirror_mode": {
    "name": "ipython",
    "version": 3
   },
   "file_extension": ".py",
   "mimetype": "text/x-python",
   "name": "python",
   "nbconvert_exporter": "python",
   "pygments_lexer": "ipython3",
   "version": "3.6.3"
  },
  "toc": {
   "base_numbering": 1,
   "nav_menu": {},
   "number_sections": true,
   "sideBar": true,
   "skip_h1_title": true,
   "title_cell": "Sommaire du notebook",
   "title_sidebar": "Sommaire",
   "toc_cell": true,
   "toc_position": {
    "height": "calc(100% - 180px)",
    "left": "10px",
    "top": "150px",
    "width": "203px"
   },
   "toc_section_display": true,
   "toc_window_display": true
  }
 },
 "nbformat": 4,
 "nbformat_minor": 1
}
